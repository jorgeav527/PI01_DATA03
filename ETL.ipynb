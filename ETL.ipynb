{
 "cells": [
  {
   "cell_type": "code",
   "execution_count": 81,
   "id": "13f6a9b5",
   "metadata": {},
   "outputs": [
    {
     "name": "stdout",
     "output_type": "stream",
     "text": [
      "The nb_black extension is already loaded. To reload it, use:\n",
      "  %reload_ext nb_black\n"
     ]
    },
    {
     "data": {
      "application/javascript": [
       "\n",
       "            setTimeout(function() {\n",
       "                var nbb_cell_id = 81;\n",
       "                var nbb_unformatted_code = \"# Python black formater for notebook\\n%load_ext nb_black\";\n",
       "                var nbb_formatted_code = \"# Python black formater for notebook\\n%load_ext nb_black\";\n",
       "                var nbb_cells = Jupyter.notebook.get_cells();\n",
       "                for (var i = 0; i < nbb_cells.length; ++i) {\n",
       "                    if (nbb_cells[i].input_prompt_number == nbb_cell_id) {\n",
       "                        if (nbb_cells[i].get_text() == nbb_unformatted_code) {\n",
       "                             nbb_cells[i].set_text(nbb_formatted_code);\n",
       "                        }\n",
       "                        break;\n",
       "                    }\n",
       "                }\n",
       "            }, 500);\n",
       "            "
      ],
      "text/plain": [
       "<IPython.core.display.Javascript object>"
      ]
     },
     "metadata": {},
     "output_type": "display_data"
    }
   ],
   "source": [
    "# Python black formater for notebook\n",
    "%load_ext nb_black"
   ]
  },
  {
   "cell_type": "markdown",
   "id": "781a9677",
   "metadata": {},
   "source": [
    "# ETL\n",
    "We are going to extract multiple data sources from the Dataset folder (csv & json), clean and transform those files into csv format to integrate and process into a Postgrestql database. "
   ]
  },
  {
   "cell_type": "code",
   "execution_count": 82,
   "id": "6b0d390d",
   "metadata": {},
   "outputs": [
    {
     "data": {
      "application/javascript": [
       "\n",
       "            setTimeout(function() {\n",
       "                var nbb_cell_id = 82;\n",
       "                var nbb_unformatted_code = \"# Importing modules\\nimport numpy as np\\nimport pandas as pd\\nimport matplotlib.pyplot as plt\\nimport json\\nimport os\\nimport glob\\nimport sqlite3\";\n",
       "                var nbb_formatted_code = \"# Importing modules\\nimport numpy as np\\nimport pandas as pd\\nimport matplotlib.pyplot as plt\\nimport json\\nimport os\\nimport glob\\nimport sqlite3\";\n",
       "                var nbb_cells = Jupyter.notebook.get_cells();\n",
       "                for (var i = 0; i < nbb_cells.length; ++i) {\n",
       "                    if (nbb_cells[i].input_prompt_number == nbb_cell_id) {\n",
       "                        if (nbb_cells[i].get_text() == nbb_unformatted_code) {\n",
       "                             nbb_cells[i].set_text(nbb_formatted_code);\n",
       "                        }\n",
       "                        break;\n",
       "                    }\n",
       "                }\n",
       "            }, 500);\n",
       "            "
      ],
      "text/plain": [
       "<IPython.core.display.Javascript object>"
      ]
     },
     "metadata": {},
     "output_type": "display_data"
    }
   ],
   "source": [
    "# Importing modules\n",
    "import numpy as np\n",
    "import pandas as pd\n",
    "import matplotlib.pyplot as plt\n",
    "import json\n",
    "import os\n",
    "import glob\n",
    "import sqlite3"
   ]
  },
  {
   "cell_type": "markdown",
   "id": "442d543b",
   "metadata": {},
   "source": [
    "> First we check if the dataset has null values or maybe there are incompatibilities. By the way, some files are in json and wrongly formatted."
   ]
  },
  {
   "cell_type": "markdown",
   "id": "babc7095",
   "metadata": {},
   "source": [
    "## circuits.csv"
   ]
  },
  {
   "cell_type": "code",
   "execution_count": 83,
   "id": "93653f14",
   "metadata": {},
   "outputs": [
    {
     "data": {
      "application/javascript": [
       "\n",
       "            setTimeout(function() {\n",
       "                var nbb_cell_id = 83;\n",
       "                var nbb_unformatted_code = \"circuits_df = pd.read_csv(\\\"Datasets/circuits.csv\\\")\";\n",
       "                var nbb_formatted_code = \"circuits_df = pd.read_csv(\\\"Datasets/circuits.csv\\\")\";\n",
       "                var nbb_cells = Jupyter.notebook.get_cells();\n",
       "                for (var i = 0; i < nbb_cells.length; ++i) {\n",
       "                    if (nbb_cells[i].input_prompt_number == nbb_cell_id) {\n",
       "                        if (nbb_cells[i].get_text() == nbb_unformatted_code) {\n",
       "                             nbb_cells[i].set_text(nbb_formatted_code);\n",
       "                        }\n",
       "                        break;\n",
       "                    }\n",
       "                }\n",
       "            }, 500);\n",
       "            "
      ],
      "text/plain": [
       "<IPython.core.display.Javascript object>"
      ]
     },
     "metadata": {},
     "output_type": "display_data"
    }
   ],
   "source": [
    "circuits_df = pd.read_csv(\"Datasets/circuits.csv\")"
   ]
  },
  {
   "cell_type": "code",
   "execution_count": 84,
   "id": "fb8054cb",
   "metadata": {},
   "outputs": [
    {
     "data": {
      "text/html": [
       "<div>\n",
       "<style scoped>\n",
       "    .dataframe tbody tr th:only-of-type {\n",
       "        vertical-align: middle;\n",
       "    }\n",
       "\n",
       "    .dataframe tbody tr th {\n",
       "        vertical-align: top;\n",
       "    }\n",
       "\n",
       "    .dataframe thead th {\n",
       "        text-align: right;\n",
       "    }\n",
       "</style>\n",
       "<table border=\"1\" class=\"dataframe\">\n",
       "  <thead>\n",
       "    <tr style=\"text-align: right;\">\n",
       "      <th></th>\n",
       "      <th>circuitId</th>\n",
       "      <th>circuitRef</th>\n",
       "      <th>name</th>\n",
       "      <th>location</th>\n",
       "      <th>country</th>\n",
       "      <th>lat</th>\n",
       "      <th>lng</th>\n",
       "      <th>alt</th>\n",
       "      <th>url</th>\n",
       "    </tr>\n",
       "  </thead>\n",
       "  <tbody>\n",
       "    <tr>\n",
       "      <th>30</th>\n",
       "      <td>31</td>\n",
       "      <td>donington</td>\n",
       "      <td>Donington Park</td>\n",
       "      <td>Castle Donington</td>\n",
       "      <td>UK</td>\n",
       "      <td>52.8306</td>\n",
       "      <td>-1.37528</td>\n",
       "      <td>88</td>\n",
       "      <td>http://en.wikipedia.org/wiki/Donington_Park</td>\n",
       "    </tr>\n",
       "    <tr>\n",
       "      <th>18</th>\n",
       "      <td>19</td>\n",
       "      <td>indianapolis</td>\n",
       "      <td>Indianapolis Motor Speedway</td>\n",
       "      <td>Indianapolis</td>\n",
       "      <td>USA</td>\n",
       "      <td>39.7950</td>\n",
       "      <td>-86.23470</td>\n",
       "      <td>223</td>\n",
       "      <td>http://en.wikipedia.org/wiki/Indianapolis_Moto...</td>\n",
       "    </tr>\n",
       "    <tr>\n",
       "      <th>4</th>\n",
       "      <td>5</td>\n",
       "      <td>istanbul</td>\n",
       "      <td>Istanbul Park</td>\n",
       "      <td>Istanbul</td>\n",
       "      <td>Turkey</td>\n",
       "      <td>40.9517</td>\n",
       "      <td>29.40500</td>\n",
       "      <td>130</td>\n",
       "      <td>http://en.wikipedia.org/wiki/Istanbul_Park</td>\n",
       "    </tr>\n",
       "    <tr>\n",
       "      <th>0</th>\n",
       "      <td>1</td>\n",
       "      <td>albert_park</td>\n",
       "      <td>Albert Park Grand Prix Circuit</td>\n",
       "      <td>Melbourne</td>\n",
       "      <td>Australia</td>\n",
       "      <td>-37.8497</td>\n",
       "      <td>144.96800</td>\n",
       "      <td>10</td>\n",
       "      <td>http://en.wikipedia.org/wiki/Melbourne_Grand_P...</td>\n",
       "    </tr>\n",
       "    <tr>\n",
       "      <th>50</th>\n",
       "      <td>51</td>\n",
       "      <td>charade</td>\n",
       "      <td>Charade Circuit</td>\n",
       "      <td>Clermont-Ferrand</td>\n",
       "      <td>France</td>\n",
       "      <td>45.7472</td>\n",
       "      <td>3.03889</td>\n",
       "      <td>790</td>\n",
       "      <td>http://en.wikipedia.org/wiki/Charade_Circuit</td>\n",
       "    </tr>\n",
       "    <tr>\n",
       "      <th>28</th>\n",
       "      <td>29</td>\n",
       "      <td>adelaide</td>\n",
       "      <td>Adelaide Street Circuit</td>\n",
       "      <td>Adelaide</td>\n",
       "      <td>Australia</td>\n",
       "      <td>-34.9272</td>\n",
       "      <td>138.61700</td>\n",
       "      <td>58</td>\n",
       "      <td>http://en.wikipedia.org/wiki/Adelaide_Street_C...</td>\n",
       "    </tr>\n",
       "    <tr>\n",
       "      <th>12</th>\n",
       "      <td>13</td>\n",
       "      <td>spa</td>\n",
       "      <td>Circuit de Spa-Francorchamps</td>\n",
       "      <td>Spa</td>\n",
       "      <td>Belgium</td>\n",
       "      <td>50.4372</td>\n",
       "      <td>5.97139</td>\n",
       "      <td>401</td>\n",
       "      <td>http://en.wikipedia.org/wiki/Circuit_de_Spa-Fr...</td>\n",
       "    </tr>\n",
       "    <tr>\n",
       "      <th>29</th>\n",
       "      <td>30</td>\n",
       "      <td>kyalami</td>\n",
       "      <td>Kyalami</td>\n",
       "      <td>Midrand</td>\n",
       "      <td>South Africa</td>\n",
       "      <td>-25.9894</td>\n",
       "      <td>28.07670</td>\n",
       "      <td>1460</td>\n",
       "      <td>http://en.wikipedia.org/wiki/Kyalami</td>\n",
       "    </tr>\n",
       "    <tr>\n",
       "      <th>63</th>\n",
       "      <td>64</td>\n",
       "      <td>ain-diab</td>\n",
       "      <td>Ain Diab</td>\n",
       "      <td>Casablanca</td>\n",
       "      <td>Morocco</td>\n",
       "      <td>33.5786</td>\n",
       "      <td>-7.68750</td>\n",
       "      <td>19</td>\n",
       "      <td>http://en.wikipedia.org/wiki/Ain-Diab_Circuit</td>\n",
       "    </tr>\n",
       "    <tr>\n",
       "      <th>47</th>\n",
       "      <td>48</td>\n",
       "      <td>mosport</td>\n",
       "      <td>Mosport International Raceway</td>\n",
       "      <td>Ontario</td>\n",
       "      <td>Canada</td>\n",
       "      <td>44.0481</td>\n",
       "      <td>-78.67560</td>\n",
       "      <td>332</td>\n",
       "      <td>http://en.wikipedia.org/wiki/Mosport</td>\n",
       "    </tr>\n",
       "  </tbody>\n",
       "</table>\n",
       "</div>"
      ],
      "text/plain": [
       "    circuitId    circuitRef                            name          location  \\\n",
       "30         31     donington                  Donington Park  Castle Donington   \n",
       "18         19  indianapolis     Indianapolis Motor Speedway      Indianapolis   \n",
       "4           5      istanbul                   Istanbul Park          Istanbul   \n",
       "0           1   albert_park  Albert Park Grand Prix Circuit         Melbourne   \n",
       "50         51       charade                 Charade Circuit  Clermont-Ferrand   \n",
       "28         29      adelaide         Adelaide Street Circuit          Adelaide   \n",
       "12         13           spa    Circuit de Spa-Francorchamps               Spa   \n",
       "29         30       kyalami                         Kyalami           Midrand   \n",
       "63         64      ain-diab                        Ain Diab        Casablanca   \n",
       "47         48       mosport   Mosport International Raceway           Ontario   \n",
       "\n",
       "         country      lat        lng   alt  \\\n",
       "30            UK  52.8306   -1.37528    88   \n",
       "18           USA  39.7950  -86.23470   223   \n",
       "4         Turkey  40.9517   29.40500   130   \n",
       "0      Australia -37.8497  144.96800    10   \n",
       "50        France  45.7472    3.03889   790   \n",
       "28     Australia -34.9272  138.61700    58   \n",
       "12       Belgium  50.4372    5.97139   401   \n",
       "29  South Africa -25.9894   28.07670  1460   \n",
       "63       Morocco  33.5786   -7.68750    19   \n",
       "47        Canada  44.0481  -78.67560   332   \n",
       "\n",
       "                                                  url  \n",
       "30        http://en.wikipedia.org/wiki/Donington_Park  \n",
       "18  http://en.wikipedia.org/wiki/Indianapolis_Moto...  \n",
       "4          http://en.wikipedia.org/wiki/Istanbul_Park  \n",
       "0   http://en.wikipedia.org/wiki/Melbourne_Grand_P...  \n",
       "50       http://en.wikipedia.org/wiki/Charade_Circuit  \n",
       "28  http://en.wikipedia.org/wiki/Adelaide_Street_C...  \n",
       "12  http://en.wikipedia.org/wiki/Circuit_de_Spa-Fr...  \n",
       "29               http://en.wikipedia.org/wiki/Kyalami  \n",
       "63      http://en.wikipedia.org/wiki/Ain-Diab_Circuit  \n",
       "47               http://en.wikipedia.org/wiki/Mosport  "
      ]
     },
     "execution_count": 84,
     "metadata": {},
     "output_type": "execute_result"
    },
    {
     "data": {
      "application/javascript": [
       "\n",
       "            setTimeout(function() {\n",
       "                var nbb_cell_id = 84;\n",
       "                var nbb_unformatted_code = \"circuits_df.sample(10)\";\n",
       "                var nbb_formatted_code = \"circuits_df.sample(10)\";\n",
       "                var nbb_cells = Jupyter.notebook.get_cells();\n",
       "                for (var i = 0; i < nbb_cells.length; ++i) {\n",
       "                    if (nbb_cells[i].input_prompt_number == nbb_cell_id) {\n",
       "                        if (nbb_cells[i].get_text() == nbb_unformatted_code) {\n",
       "                             nbb_cells[i].set_text(nbb_formatted_code);\n",
       "                        }\n",
       "                        break;\n",
       "                    }\n",
       "                }\n",
       "            }, 500);\n",
       "            "
      ],
      "text/plain": [
       "<IPython.core.display.Javascript object>"
      ]
     },
     "metadata": {},
     "output_type": "display_data"
    }
   ],
   "source": [
    "circuits_df.sample(10)"
   ]
  },
  {
   "cell_type": "code",
   "execution_count": 85,
   "id": "74f952ff",
   "metadata": {},
   "outputs": [
    {
     "name": "stdout",
     "output_type": "stream",
     "text": [
      "<class 'pandas.core.frame.DataFrame'>\n",
      "RangeIndex: 77 entries, 0 to 76\n",
      "Data columns (total 9 columns):\n",
      " #   Column      Non-Null Count  Dtype  \n",
      "---  ------      --------------  -----  \n",
      " 0   circuitId   77 non-null     int64  \n",
      " 1   circuitRef  77 non-null     object \n",
      " 2   name        77 non-null     object \n",
      " 3   location    77 non-null     object \n",
      " 4   country     77 non-null     object \n",
      " 5   lat         77 non-null     float64\n",
      " 6   lng         77 non-null     float64\n",
      " 7   alt         77 non-null     int64  \n",
      " 8   url         77 non-null     object \n",
      "dtypes: float64(2), int64(2), object(5)\n",
      "memory usage: 5.5+ KB\n"
     ]
    },
    {
     "data": {
      "application/javascript": [
       "\n",
       "            setTimeout(function() {\n",
       "                var nbb_cell_id = 85;\n",
       "                var nbb_unformatted_code = \"circuits_df.info()\";\n",
       "                var nbb_formatted_code = \"circuits_df.info()\";\n",
       "                var nbb_cells = Jupyter.notebook.get_cells();\n",
       "                for (var i = 0; i < nbb_cells.length; ++i) {\n",
       "                    if (nbb_cells[i].input_prompt_number == nbb_cell_id) {\n",
       "                        if (nbb_cells[i].get_text() == nbb_unformatted_code) {\n",
       "                             nbb_cells[i].set_text(nbb_formatted_code);\n",
       "                        }\n",
       "                        break;\n",
       "                    }\n",
       "                }\n",
       "            }, 500);\n",
       "            "
      ],
      "text/plain": [
       "<IPython.core.display.Javascript object>"
      ]
     },
     "metadata": {},
     "output_type": "display_data"
    }
   ],
   "source": [
    "circuits_df.info()"
   ]
  },
  {
   "cell_type": "code",
   "execution_count": 86,
   "id": "9a574c56",
   "metadata": {},
   "outputs": [
    {
     "data": {
      "text/plain": [
       "circuitId     0\n",
       "circuitRef    0\n",
       "name          0\n",
       "location      0\n",
       "country       0\n",
       "lat           0\n",
       "lng           0\n",
       "alt           0\n",
       "url           0\n",
       "dtype: int64"
      ]
     },
     "execution_count": 86,
     "metadata": {},
     "output_type": "execute_result"
    },
    {
     "data": {
      "application/javascript": [
       "\n",
       "            setTimeout(function() {\n",
       "                var nbb_cell_id = 86;\n",
       "                var nbb_unformatted_code = \"circuits_df.isnull().sum()\";\n",
       "                var nbb_formatted_code = \"circuits_df.isnull().sum()\";\n",
       "                var nbb_cells = Jupyter.notebook.get_cells();\n",
       "                for (var i = 0; i < nbb_cells.length; ++i) {\n",
       "                    if (nbb_cells[i].input_prompt_number == nbb_cell_id) {\n",
       "                        if (nbb_cells[i].get_text() == nbb_unformatted_code) {\n",
       "                             nbb_cells[i].set_text(nbb_formatted_code);\n",
       "                        }\n",
       "                        break;\n",
       "                    }\n",
       "                }\n",
       "            }, 500);\n",
       "            "
      ],
      "text/plain": [
       "<IPython.core.display.Javascript object>"
      ]
     },
     "metadata": {},
     "output_type": "display_data"
    }
   ],
   "source": [
    "circuits_df.isnull().sum()"
   ]
  },
  {
   "cell_type": "code",
   "execution_count": 87,
   "id": "48b72c93",
   "metadata": {},
   "outputs": [
    {
     "data": {
      "application/javascript": [
       "\n",
       "            setTimeout(function() {\n",
       "                var nbb_cell_id = 87;\n",
       "                var nbb_unformatted_code = \"circuits_df.to_csv(\\\"Datawarehouse/circuits.csv\\\", index=False)\";\n",
       "                var nbb_formatted_code = \"circuits_df.to_csv(\\\"Datawarehouse/circuits.csv\\\", index=False)\";\n",
       "                var nbb_cells = Jupyter.notebook.get_cells();\n",
       "                for (var i = 0; i < nbb_cells.length; ++i) {\n",
       "                    if (nbb_cells[i].input_prompt_number == nbb_cell_id) {\n",
       "                        if (nbb_cells[i].get_text() == nbb_unformatted_code) {\n",
       "                             nbb_cells[i].set_text(nbb_formatted_code);\n",
       "                        }\n",
       "                        break;\n",
       "                    }\n",
       "                }\n",
       "            }, 500);\n",
       "            "
      ],
      "text/plain": [
       "<IPython.core.display.Javascript object>"
      ]
     },
     "metadata": {},
     "output_type": "display_data"
    }
   ],
   "source": [
    "circuits_df.to_csv(\"Datawarehouse/circuits.csv\", index=False)"
   ]
  },
  {
   "cell_type": "markdown",
   "id": "bd1932ee",
   "metadata": {},
   "source": [
    "## constructors.json"
   ]
  },
  {
   "cell_type": "code",
   "execution_count": 88,
   "id": "3932f688",
   "metadata": {},
   "outputs": [
    {
     "data": {
      "application/javascript": [
       "\n",
       "            setTimeout(function() {\n",
       "                var nbb_cell_id = 88;\n",
       "                var nbb_unformatted_code = \"constructors_df = pd.read_json(\\\"Datasets/constructors.json\\\", lines=True)\";\n",
       "                var nbb_formatted_code = \"constructors_df = pd.read_json(\\\"Datasets/constructors.json\\\", lines=True)\";\n",
       "                var nbb_cells = Jupyter.notebook.get_cells();\n",
       "                for (var i = 0; i < nbb_cells.length; ++i) {\n",
       "                    if (nbb_cells[i].input_prompt_number == nbb_cell_id) {\n",
       "                        if (nbb_cells[i].get_text() == nbb_unformatted_code) {\n",
       "                             nbb_cells[i].set_text(nbb_formatted_code);\n",
       "                        }\n",
       "                        break;\n",
       "                    }\n",
       "                }\n",
       "            }, 500);\n",
       "            "
      ],
      "text/plain": [
       "<IPython.core.display.Javascript object>"
      ]
     },
     "metadata": {},
     "output_type": "display_data"
    }
   ],
   "source": [
    "constructors_df = pd.read_json(\"Datasets/constructors.json\", lines=True)"
   ]
  },
  {
   "cell_type": "code",
   "execution_count": 89,
   "id": "a375345e",
   "metadata": {},
   "outputs": [
    {
     "data": {
      "text/html": [
       "<div>\n",
       "<style scoped>\n",
       "    .dataframe tbody tr th:only-of-type {\n",
       "        vertical-align: middle;\n",
       "    }\n",
       "\n",
       "    .dataframe tbody tr th {\n",
       "        vertical-align: top;\n",
       "    }\n",
       "\n",
       "    .dataframe thead th {\n",
       "        text-align: right;\n",
       "    }\n",
       "</style>\n",
       "<table border=\"1\" class=\"dataframe\">\n",
       "  <thead>\n",
       "    <tr style=\"text-align: right;\">\n",
       "      <th></th>\n",
       "      <th>constructorId</th>\n",
       "      <th>constructorRef</th>\n",
       "      <th>name</th>\n",
       "      <th>nationality</th>\n",
       "      <th>url</th>\n",
       "    </tr>\n",
       "  </thead>\n",
       "  <tbody>\n",
       "    <tr>\n",
       "      <th>60</th>\n",
       "      <td>62</td>\n",
       "      <td>rebaque</td>\n",
       "      <td>Rebaque</td>\n",
       "      <td>Mexican</td>\n",
       "      <td>http://en.wikipedia.org/wiki/Rebaque</td>\n",
       "    </tr>\n",
       "    <tr>\n",
       "      <th>204</th>\n",
       "      <td>207</td>\n",
       "      <td>caterham</td>\n",
       "      <td>Caterham</td>\n",
       "      <td>Malaysian</td>\n",
       "      <td>http://en.wikipedia.org/wiki/Caterham_F1</td>\n",
       "    </tr>\n",
       "    <tr>\n",
       "      <th>66</th>\n",
       "      <td>68</td>\n",
       "      <td>lec</td>\n",
       "      <td>LEC</td>\n",
       "      <td>British</td>\n",
       "      <td>http://en.wikipedia.org/wiki/LEC_(Formula_One)</td>\n",
       "    </tr>\n",
       "    <tr>\n",
       "      <th>88</th>\n",
       "      <td>90</td>\n",
       "      <td>protos</td>\n",
       "      <td>Protos</td>\n",
       "      <td>British</td>\n",
       "      <td>http://en.wikipedia.org/wiki/Protos_(constructor)</td>\n",
       "    </tr>\n",
       "    <tr>\n",
       "      <th>161</th>\n",
       "      <td>163</td>\n",
       "      <td>milano</td>\n",
       "      <td>Milano</td>\n",
       "      <td>Italian</td>\n",
       "      <td>http://en.wikipedia.org/wiki/Scuderia_Milano</td>\n",
       "    </tr>\n",
       "    <tr>\n",
       "      <th>175</th>\n",
       "      <td>178</td>\n",
       "      <td>cooper-alfa_romeo</td>\n",
       "      <td>Cooper-Alfa Romeo</td>\n",
       "      <td>British</td>\n",
       "      <td>http://en.wikipedia.org/wiki/Cooper_Car_Company</td>\n",
       "    </tr>\n",
       "    <tr>\n",
       "      <th>130</th>\n",
       "      <td>132</td>\n",
       "      <td>lancia</td>\n",
       "      <td>Lancia</td>\n",
       "      <td>Italian</td>\n",
       "      <td>http://en.wikipedia.org/wiki/Lancia_in_Formula...</td>\n",
       "    </tr>\n",
       "    <tr>\n",
       "      <th>44</th>\n",
       "      <td>46</td>\n",
       "      <td>onyx</td>\n",
       "      <td>Onyx</td>\n",
       "      <td>British</td>\n",
       "      <td>http://en.wikipedia.org/wiki/Onyx_(racing_team)</td>\n",
       "    </tr>\n",
       "    <tr>\n",
       "      <th>59</th>\n",
       "      <td>61</td>\n",
       "      <td>kauhsen</td>\n",
       "      <td>Kauhsen</td>\n",
       "      <td>German</td>\n",
       "      <td>http://en.wikipedia.org/wiki/Kauhsen</td>\n",
       "    </tr>\n",
       "    <tr>\n",
       "      <th>116</th>\n",
       "      <td>118</td>\n",
       "      <td>vanwall</td>\n",
       "      <td>Vanwall</td>\n",
       "      <td>British</td>\n",
       "      <td>http://en.wikipedia.org/wiki/Vanwall</td>\n",
       "    </tr>\n",
       "  </tbody>\n",
       "</table>\n",
       "</div>"
      ],
      "text/plain": [
       "     constructorId     constructorRef               name nationality  \\\n",
       "60              62            rebaque            Rebaque     Mexican   \n",
       "204            207           caterham           Caterham   Malaysian   \n",
       "66              68                lec                LEC     British   \n",
       "88              90             protos             Protos     British   \n",
       "161            163             milano             Milano     Italian   \n",
       "175            178  cooper-alfa_romeo  Cooper-Alfa Romeo     British   \n",
       "130            132             lancia             Lancia     Italian   \n",
       "44              46               onyx               Onyx     British   \n",
       "59              61            kauhsen            Kauhsen      German   \n",
       "116            118            vanwall            Vanwall     British   \n",
       "\n",
       "                                                   url  \n",
       "60                http://en.wikipedia.org/wiki/Rebaque  \n",
       "204           http://en.wikipedia.org/wiki/Caterham_F1  \n",
       "66      http://en.wikipedia.org/wiki/LEC_(Formula_One)  \n",
       "88   http://en.wikipedia.org/wiki/Protos_(constructor)  \n",
       "161       http://en.wikipedia.org/wiki/Scuderia_Milano  \n",
       "175    http://en.wikipedia.org/wiki/Cooper_Car_Company  \n",
       "130  http://en.wikipedia.org/wiki/Lancia_in_Formula...  \n",
       "44     http://en.wikipedia.org/wiki/Onyx_(racing_team)  \n",
       "59                http://en.wikipedia.org/wiki/Kauhsen  \n",
       "116               http://en.wikipedia.org/wiki/Vanwall  "
      ]
     },
     "execution_count": 89,
     "metadata": {},
     "output_type": "execute_result"
    },
    {
     "data": {
      "application/javascript": [
       "\n",
       "            setTimeout(function() {\n",
       "                var nbb_cell_id = 89;\n",
       "                var nbb_unformatted_code = \"constructors_df.sample(10)\";\n",
       "                var nbb_formatted_code = \"constructors_df.sample(10)\";\n",
       "                var nbb_cells = Jupyter.notebook.get_cells();\n",
       "                for (var i = 0; i < nbb_cells.length; ++i) {\n",
       "                    if (nbb_cells[i].input_prompt_number == nbb_cell_id) {\n",
       "                        if (nbb_cells[i].get_text() == nbb_unformatted_code) {\n",
       "                             nbb_cells[i].set_text(nbb_formatted_code);\n",
       "                        }\n",
       "                        break;\n",
       "                    }\n",
       "                }\n",
       "            }, 500);\n",
       "            "
      ],
      "text/plain": [
       "<IPython.core.display.Javascript object>"
      ]
     },
     "metadata": {},
     "output_type": "display_data"
    }
   ],
   "source": [
    "constructors_df.sample(10)"
   ]
  },
  {
   "cell_type": "code",
   "execution_count": 90,
   "id": "76b60091",
   "metadata": {},
   "outputs": [
    {
     "name": "stdout",
     "output_type": "stream",
     "text": [
      "<class 'pandas.core.frame.DataFrame'>\n",
      "RangeIndex: 211 entries, 0 to 210\n",
      "Data columns (total 5 columns):\n",
      " #   Column          Non-Null Count  Dtype \n",
      "---  ------          --------------  ----- \n",
      " 0   constructorId   211 non-null    int64 \n",
      " 1   constructorRef  211 non-null    object\n",
      " 2   name            211 non-null    object\n",
      " 3   nationality     211 non-null    object\n",
      " 4   url             211 non-null    object\n",
      "dtypes: int64(1), object(4)\n",
      "memory usage: 8.4+ KB\n"
     ]
    },
    {
     "data": {
      "application/javascript": [
       "\n",
       "            setTimeout(function() {\n",
       "                var nbb_cell_id = 90;\n",
       "                var nbb_unformatted_code = \"constructors_df.info()\";\n",
       "                var nbb_formatted_code = \"constructors_df.info()\";\n",
       "                var nbb_cells = Jupyter.notebook.get_cells();\n",
       "                for (var i = 0; i < nbb_cells.length; ++i) {\n",
       "                    if (nbb_cells[i].input_prompt_number == nbb_cell_id) {\n",
       "                        if (nbb_cells[i].get_text() == nbb_unformatted_code) {\n",
       "                             nbb_cells[i].set_text(nbb_formatted_code);\n",
       "                        }\n",
       "                        break;\n",
       "                    }\n",
       "                }\n",
       "            }, 500);\n",
       "            "
      ],
      "text/plain": [
       "<IPython.core.display.Javascript object>"
      ]
     },
     "metadata": {},
     "output_type": "display_data"
    }
   ],
   "source": [
    "constructors_df.info()"
   ]
  },
  {
   "cell_type": "code",
   "execution_count": 91,
   "id": "1cc2d7c5",
   "metadata": {},
   "outputs": [
    {
     "data": {
      "text/plain": [
       "constructorId     0\n",
       "constructorRef    0\n",
       "name              0\n",
       "nationality       0\n",
       "url               0\n",
       "dtype: int64"
      ]
     },
     "execution_count": 91,
     "metadata": {},
     "output_type": "execute_result"
    },
    {
     "data": {
      "application/javascript": [
       "\n",
       "            setTimeout(function() {\n",
       "                var nbb_cell_id = 91;\n",
       "                var nbb_unformatted_code = \"constructors_df.isnull().sum()\";\n",
       "                var nbb_formatted_code = \"constructors_df.isnull().sum()\";\n",
       "                var nbb_cells = Jupyter.notebook.get_cells();\n",
       "                for (var i = 0; i < nbb_cells.length; ++i) {\n",
       "                    if (nbb_cells[i].input_prompt_number == nbb_cell_id) {\n",
       "                        if (nbb_cells[i].get_text() == nbb_unformatted_code) {\n",
       "                             nbb_cells[i].set_text(nbb_formatted_code);\n",
       "                        }\n",
       "                        break;\n",
       "                    }\n",
       "                }\n",
       "            }, 500);\n",
       "            "
      ],
      "text/plain": [
       "<IPython.core.display.Javascript object>"
      ]
     },
     "metadata": {},
     "output_type": "display_data"
    }
   ],
   "source": [
    "constructors_df.isnull().sum()"
   ]
  },
  {
   "cell_type": "code",
   "execution_count": 92,
   "id": "b2974abc",
   "metadata": {},
   "outputs": [
    {
     "data": {
      "application/javascript": [
       "\n",
       "            setTimeout(function() {\n",
       "                var nbb_cell_id = 92;\n",
       "                var nbb_unformatted_code = \"constructors_df.to_csv(\\\"Datawarehouse/constructors.csv\\\", index=False)\";\n",
       "                var nbb_formatted_code = \"constructors_df.to_csv(\\\"Datawarehouse/constructors.csv\\\", index=False)\";\n",
       "                var nbb_cells = Jupyter.notebook.get_cells();\n",
       "                for (var i = 0; i < nbb_cells.length; ++i) {\n",
       "                    if (nbb_cells[i].input_prompt_number == nbb_cell_id) {\n",
       "                        if (nbb_cells[i].get_text() == nbb_unformatted_code) {\n",
       "                             nbb_cells[i].set_text(nbb_formatted_code);\n",
       "                        }\n",
       "                        break;\n",
       "                    }\n",
       "                }\n",
       "            }, 500);\n",
       "            "
      ],
      "text/plain": [
       "<IPython.core.display.Javascript object>"
      ]
     },
     "metadata": {},
     "output_type": "display_data"
    }
   ],
   "source": [
    "constructors_df.to_csv(\"Datawarehouse/constructors.csv\", index=False)"
   ]
  },
  {
   "cell_type": "markdown",
   "id": "c0d14674",
   "metadata": {},
   "source": [
    "## drivers.json"
   ]
  },
  {
   "cell_type": "code",
   "execution_count": 93,
   "id": "053f104f",
   "metadata": {},
   "outputs": [
    {
     "data": {
      "application/javascript": [
       "\n",
       "            setTimeout(function() {\n",
       "                var nbb_cell_id = 93;\n",
       "                var nbb_unformatted_code = \"with open(\\\"Datasets/drivers.json\\\") as json_file:\\n    drivers_data = [json.loads(line) for line in json_file]\\n\\ndrivers_df = pd.json_normalize(drivers_data, sep=\\\"_\\\")\";\n",
       "                var nbb_formatted_code = \"with open(\\\"Datasets/drivers.json\\\") as json_file:\\n    drivers_data = [json.loads(line) for line in json_file]\\n\\ndrivers_df = pd.json_normalize(drivers_data, sep=\\\"_\\\")\";\n",
       "                var nbb_cells = Jupyter.notebook.get_cells();\n",
       "                for (var i = 0; i < nbb_cells.length; ++i) {\n",
       "                    if (nbb_cells[i].input_prompt_number == nbb_cell_id) {\n",
       "                        if (nbb_cells[i].get_text() == nbb_unformatted_code) {\n",
       "                             nbb_cells[i].set_text(nbb_formatted_code);\n",
       "                        }\n",
       "                        break;\n",
       "                    }\n",
       "                }\n",
       "            }, 500);\n",
       "            "
      ],
      "text/plain": [
       "<IPython.core.display.Javascript object>"
      ]
     },
     "metadata": {},
     "output_type": "display_data"
    }
   ],
   "source": [
    "with open(\"Datasets/drivers.json\") as json_file:\n",
    "    drivers_data = [json.loads(line) for line in json_file]\n",
    "\n",
    "drivers_df = pd.json_normalize(drivers_data, sep=\"_\")"
   ]
  },
  {
   "cell_type": "code",
   "execution_count": 94,
   "id": "1aeb585b",
   "metadata": {},
   "outputs": [
    {
     "data": {
      "application/javascript": [
       "\n",
       "            setTimeout(function() {\n",
       "                var nbb_cell_id = 94;\n",
       "                var nbb_unformatted_code = \"drivers_df[\\\"number\\\"].replace(\\\"\\\\\\\\N\\\", np.NaN, inplace=True)\";\n",
       "                var nbb_formatted_code = \"drivers_df[\\\"number\\\"].replace(\\\"\\\\\\\\N\\\", np.NaN, inplace=True)\";\n",
       "                var nbb_cells = Jupyter.notebook.get_cells();\n",
       "                for (var i = 0; i < nbb_cells.length; ++i) {\n",
       "                    if (nbb_cells[i].input_prompt_number == nbb_cell_id) {\n",
       "                        if (nbb_cells[i].get_text() == nbb_unformatted_code) {\n",
       "                             nbb_cells[i].set_text(nbb_formatted_code);\n",
       "                        }\n",
       "                        break;\n",
       "                    }\n",
       "                }\n",
       "            }, 500);\n",
       "            "
      ],
      "text/plain": [
       "<IPython.core.display.Javascript object>"
      ]
     },
     "metadata": {},
     "output_type": "display_data"
    }
   ],
   "source": [
    "drivers_df[\"number\"].replace(\"\\\\N\", np.NaN, inplace=True)"
   ]
  },
  {
   "cell_type": "code",
   "execution_count": 95,
   "id": "8bbe7a98",
   "metadata": {},
   "outputs": [
    {
     "data": {
      "application/javascript": [
       "\n",
       "            setTimeout(function() {\n",
       "                var nbb_cell_id = 95;\n",
       "                var nbb_unformatted_code = \"drivers_df[\\\"code\\\"].replace(\\\"\\\\\\\\N\\\", np.NaN, inplace=True)\";\n",
       "                var nbb_formatted_code = \"drivers_df[\\\"code\\\"].replace(\\\"\\\\\\\\N\\\", np.NaN, inplace=True)\";\n",
       "                var nbb_cells = Jupyter.notebook.get_cells();\n",
       "                for (var i = 0; i < nbb_cells.length; ++i) {\n",
       "                    if (nbb_cells[i].input_prompt_number == nbb_cell_id) {\n",
       "                        if (nbb_cells[i].get_text() == nbb_unformatted_code) {\n",
       "                             nbb_cells[i].set_text(nbb_formatted_code);\n",
       "                        }\n",
       "                        break;\n",
       "                    }\n",
       "                }\n",
       "            }, 500);\n",
       "            "
      ],
      "text/plain": [
       "<IPython.core.display.Javascript object>"
      ]
     },
     "metadata": {},
     "output_type": "display_data"
    }
   ],
   "source": [
    "drivers_df[\"code\"].replace(\"\\\\N\", np.NaN, inplace=True)"
   ]
  },
  {
   "cell_type": "code",
   "execution_count": 96,
   "id": "0a4db23f",
   "metadata": {},
   "outputs": [
    {
     "data": {
      "text/html": [
       "<div>\n",
       "<style scoped>\n",
       "    .dataframe tbody tr th:only-of-type {\n",
       "        vertical-align: middle;\n",
       "    }\n",
       "\n",
       "    .dataframe tbody tr th {\n",
       "        vertical-align: top;\n",
       "    }\n",
       "\n",
       "    .dataframe thead th {\n",
       "        text-align: right;\n",
       "    }\n",
       "</style>\n",
       "<table border=\"1\" class=\"dataframe\">\n",
       "  <thead>\n",
       "    <tr style=\"text-align: right;\">\n",
       "      <th></th>\n",
       "      <th>driverId</th>\n",
       "      <th>driverRef</th>\n",
       "      <th>number</th>\n",
       "      <th>code</th>\n",
       "      <th>dob</th>\n",
       "      <th>nationality</th>\n",
       "      <th>url</th>\n",
       "      <th>name_forename</th>\n",
       "      <th>name_surname</th>\n",
       "    </tr>\n",
       "  </thead>\n",
       "  <tbody>\n",
       "    <tr>\n",
       "      <th>99</th>\n",
       "      <td>100</td>\n",
       "      <td>comas</td>\n",
       "      <td>NaN</td>\n",
       "      <td>NaN</td>\n",
       "      <td>1963-09-28</td>\n",
       "      <td>French</td>\n",
       "      <td>http://en.wikipedia.org/wiki/%C3%89rik_Comas</td>\n",
       "      <td>Érik</td>\n",
       "      <td>Comas</td>\n",
       "    </tr>\n",
       "    <tr>\n",
       "      <th>825</th>\n",
       "      <td>826</td>\n",
       "      <td>kvyat</td>\n",
       "      <td>26.0</td>\n",
       "      <td>KVY</td>\n",
       "      <td>1994-04-26</td>\n",
       "      <td>Russian</td>\n",
       "      <td>http://en.wikipedia.org/wiki/Daniil_Kvyat</td>\n",
       "      <td>Daniil</td>\n",
       "      <td>Kvyat</td>\n",
       "    </tr>\n",
       "    <tr>\n",
       "      <th>602</th>\n",
       "      <td>602</td>\n",
       "      <td>la_caze</td>\n",
       "      <td>NaN</td>\n",
       "      <td>NaN</td>\n",
       "      <td>1917-02-26</td>\n",
       "      <td>French</td>\n",
       "      <td>http://en.wikipedia.org/wiki/Robert_La_Caze</td>\n",
       "      <td>Robert</td>\n",
       "      <td>La Caze</td>\n",
       "    </tr>\n",
       "    <tr>\n",
       "      <th>53</th>\n",
       "      <td>54</td>\n",
       "      <td>burti</td>\n",
       "      <td>NaN</td>\n",
       "      <td>NaN</td>\n",
       "      <td>1975-03-05</td>\n",
       "      <td>Brazilian</td>\n",
       "      <td>http://en.wikipedia.org/wiki/Luciano_Burti</td>\n",
       "      <td>Luciano</td>\n",
       "      <td>Burti</td>\n",
       "    </tr>\n",
       "    <tr>\n",
       "      <th>325</th>\n",
       "      <td>326</td>\n",
       "      <td>wietzes</td>\n",
       "      <td>NaN</td>\n",
       "      <td>NaN</td>\n",
       "      <td>1938-05-28</td>\n",
       "      <td>Canadian</td>\n",
       "      <td>http://en.wikipedia.org/wiki/Eppie_Wietzes</td>\n",
       "      <td>Eppie</td>\n",
       "      <td>Wietzes</td>\n",
       "    </tr>\n",
       "    <tr>\n",
       "      <th>56</th>\n",
       "      <td>57</td>\n",
       "      <td>hakkinen</td>\n",
       "      <td>NaN</td>\n",
       "      <td>NaN</td>\n",
       "      <td>1968-09-28</td>\n",
       "      <td>Finnish</td>\n",
       "      <td>http://en.wikipedia.org/wiki/Mika_H%C3%A4kkinen</td>\n",
       "      <td>Mika</td>\n",
       "      <td>Häkkinen</td>\n",
       "    </tr>\n",
       "    <tr>\n",
       "      <th>373</th>\n",
       "      <td>374</td>\n",
       "      <td>spence</td>\n",
       "      <td>NaN</td>\n",
       "      <td>NaN</td>\n",
       "      <td>1936-12-30</td>\n",
       "      <td>British</td>\n",
       "      <td>http://en.wikipedia.org/wiki/Mike_Spence</td>\n",
       "      <td>Mike</td>\n",
       "      <td>Spence</td>\n",
       "    </tr>\n",
       "    <tr>\n",
       "      <th>320</th>\n",
       "      <td>321</td>\n",
       "      <td>bell</td>\n",
       "      <td>NaN</td>\n",
       "      <td>NaN</td>\n",
       "      <td>1941-10-31</td>\n",
       "      <td>British</td>\n",
       "      <td>http://en.wikipedia.org/wiki/Derek_Bell_(auto_...</td>\n",
       "      <td>Derek</td>\n",
       "      <td>Bell</td>\n",
       "    </tr>\n",
       "    <tr>\n",
       "      <th>435</th>\n",
       "      <td>436</td>\n",
       "      <td>campbell-jones</td>\n",
       "      <td>NaN</td>\n",
       "      <td>NaN</td>\n",
       "      <td>1930-01-21</td>\n",
       "      <td>British</td>\n",
       "      <td>http://en.wikipedia.org/wiki/John_Campbell-Jones</td>\n",
       "      <td>John</td>\n",
       "      <td>Campbell-Jones</td>\n",
       "    </tr>\n",
       "    <tr>\n",
       "      <th>807</th>\n",
       "      <td>807</td>\n",
       "      <td>hulkenberg</td>\n",
       "      <td>27.0</td>\n",
       "      <td>HUL</td>\n",
       "      <td>1987-08-19</td>\n",
       "      <td>German</td>\n",
       "      <td>http://en.wikipedia.org/wiki/Nico_H%C3%BClkenberg</td>\n",
       "      <td>Nico</td>\n",
       "      <td>Hülkenberg</td>\n",
       "    </tr>\n",
       "  </tbody>\n",
       "</table>\n",
       "</div>"
      ],
      "text/plain": [
       "     driverId       driverRef  number code         dob nationality  \\\n",
       "99        100           comas     NaN  NaN  1963-09-28      French   \n",
       "825       826           kvyat    26.0  KVY  1994-04-26     Russian   \n",
       "602       602         la_caze     NaN  NaN  1917-02-26      French   \n",
       "53         54           burti     NaN  NaN  1975-03-05   Brazilian   \n",
       "325       326         wietzes     NaN  NaN  1938-05-28    Canadian   \n",
       "56         57        hakkinen     NaN  NaN  1968-09-28     Finnish   \n",
       "373       374          spence     NaN  NaN  1936-12-30     British   \n",
       "320       321            bell     NaN  NaN  1941-10-31     British   \n",
       "435       436  campbell-jones     NaN  NaN  1930-01-21     British   \n",
       "807       807      hulkenberg    27.0  HUL  1987-08-19      German   \n",
       "\n",
       "                                                   url name_forename  \\\n",
       "99        http://en.wikipedia.org/wiki/%C3%89rik_Comas          Érik   \n",
       "825          http://en.wikipedia.org/wiki/Daniil_Kvyat        Daniil   \n",
       "602        http://en.wikipedia.org/wiki/Robert_La_Caze        Robert   \n",
       "53          http://en.wikipedia.org/wiki/Luciano_Burti       Luciano   \n",
       "325         http://en.wikipedia.org/wiki/Eppie_Wietzes         Eppie   \n",
       "56     http://en.wikipedia.org/wiki/Mika_H%C3%A4kkinen          Mika   \n",
       "373           http://en.wikipedia.org/wiki/Mike_Spence          Mike   \n",
       "320  http://en.wikipedia.org/wiki/Derek_Bell_(auto_...         Derek   \n",
       "435   http://en.wikipedia.org/wiki/John_Campbell-Jones          John   \n",
       "807  http://en.wikipedia.org/wiki/Nico_H%C3%BClkenberg          Nico   \n",
       "\n",
       "       name_surname  \n",
       "99            Comas  \n",
       "825           Kvyat  \n",
       "602         La Caze  \n",
       "53            Burti  \n",
       "325         Wietzes  \n",
       "56         Häkkinen  \n",
       "373          Spence  \n",
       "320            Bell  \n",
       "435  Campbell-Jones  \n",
       "807      Hülkenberg  "
      ]
     },
     "execution_count": 96,
     "metadata": {},
     "output_type": "execute_result"
    },
    {
     "data": {
      "application/javascript": [
       "\n",
       "            setTimeout(function() {\n",
       "                var nbb_cell_id = 96;\n",
       "                var nbb_unformatted_code = \"drivers_df.sample(10)\";\n",
       "                var nbb_formatted_code = \"drivers_df.sample(10)\";\n",
       "                var nbb_cells = Jupyter.notebook.get_cells();\n",
       "                for (var i = 0; i < nbb_cells.length; ++i) {\n",
       "                    if (nbb_cells[i].input_prompt_number == nbb_cell_id) {\n",
       "                        if (nbb_cells[i].get_text() == nbb_unformatted_code) {\n",
       "                             nbb_cells[i].set_text(nbb_formatted_code);\n",
       "                        }\n",
       "                        break;\n",
       "                    }\n",
       "                }\n",
       "            }, 500);\n",
       "            "
      ],
      "text/plain": [
       "<IPython.core.display.Javascript object>"
      ]
     },
     "metadata": {},
     "output_type": "display_data"
    }
   ],
   "source": [
    "drivers_df.sample(10)"
   ]
  },
  {
   "cell_type": "code",
   "execution_count": 97,
   "id": "4851d611",
   "metadata": {},
   "outputs": [
    {
     "name": "stdout",
     "output_type": "stream",
     "text": [
      "<class 'pandas.core.frame.DataFrame'>\n",
      "RangeIndex: 853 entries, 0 to 852\n",
      "Data columns (total 9 columns):\n",
      " #   Column         Non-Null Count  Dtype  \n",
      "---  ------         --------------  -----  \n",
      " 0   driverId       853 non-null    int64  \n",
      " 1   driverRef      853 non-null    object \n",
      " 2   number         47 non-null     float64\n",
      " 3   code           96 non-null     object \n",
      " 4   dob            853 non-null    object \n",
      " 5   nationality    853 non-null    object \n",
      " 6   url            853 non-null    object \n",
      " 7   name_forename  853 non-null    object \n",
      " 8   name_surname   853 non-null    object \n",
      "dtypes: float64(1), int64(1), object(7)\n",
      "memory usage: 60.1+ KB\n"
     ]
    },
    {
     "data": {
      "application/javascript": [
       "\n",
       "            setTimeout(function() {\n",
       "                var nbb_cell_id = 97;\n",
       "                var nbb_unformatted_code = \"drivers_df.info()\";\n",
       "                var nbb_formatted_code = \"drivers_df.info()\";\n",
       "                var nbb_cells = Jupyter.notebook.get_cells();\n",
       "                for (var i = 0; i < nbb_cells.length; ++i) {\n",
       "                    if (nbb_cells[i].input_prompt_number == nbb_cell_id) {\n",
       "                        if (nbb_cells[i].get_text() == nbb_unformatted_code) {\n",
       "                             nbb_cells[i].set_text(nbb_formatted_code);\n",
       "                        }\n",
       "                        break;\n",
       "                    }\n",
       "                }\n",
       "            }, 500);\n",
       "            "
      ],
      "text/plain": [
       "<IPython.core.display.Javascript object>"
      ]
     },
     "metadata": {},
     "output_type": "display_data"
    }
   ],
   "source": [
    "drivers_df.info()"
   ]
  },
  {
   "cell_type": "code",
   "execution_count": 98,
   "id": "e8617205",
   "metadata": {},
   "outputs": [
    {
     "data": {
      "text/plain": [
       "driverId           0\n",
       "driverRef          0\n",
       "number           806\n",
       "code             757\n",
       "dob                0\n",
       "nationality        0\n",
       "url                0\n",
       "name_forename      0\n",
       "name_surname       0\n",
       "dtype: int64"
      ]
     },
     "execution_count": 98,
     "metadata": {},
     "output_type": "execute_result"
    },
    {
     "data": {
      "application/javascript": [
       "\n",
       "            setTimeout(function() {\n",
       "                var nbb_cell_id = 98;\n",
       "                var nbb_unformatted_code = \"drivers_df.isnull().sum()\";\n",
       "                var nbb_formatted_code = \"drivers_df.isnull().sum()\";\n",
       "                var nbb_cells = Jupyter.notebook.get_cells();\n",
       "                for (var i = 0; i < nbb_cells.length; ++i) {\n",
       "                    if (nbb_cells[i].input_prompt_number == nbb_cell_id) {\n",
       "                        if (nbb_cells[i].get_text() == nbb_unformatted_code) {\n",
       "                             nbb_cells[i].set_text(nbb_formatted_code);\n",
       "                        }\n",
       "                        break;\n",
       "                    }\n",
       "                }\n",
       "            }, 500);\n",
       "            "
      ],
      "text/plain": [
       "<IPython.core.display.Javascript object>"
      ]
     },
     "metadata": {},
     "output_type": "display_data"
    }
   ],
   "source": [
    "drivers_df.isnull().sum()"
   ]
  },
  {
   "cell_type": "code",
   "execution_count": 99,
   "id": "a4307541",
   "metadata": {},
   "outputs": [
    {
     "data": {
      "application/javascript": [
       "\n",
       "            setTimeout(function() {\n",
       "                var nbb_cell_id = 99;\n",
       "                var nbb_unformatted_code = \"drivers_df.to_csv(\\\"Datawarehouse/drivers.csv\\\", index=False)\";\n",
       "                var nbb_formatted_code = \"drivers_df.to_csv(\\\"Datawarehouse/drivers.csv\\\", index=False)\";\n",
       "                var nbb_cells = Jupyter.notebook.get_cells();\n",
       "                for (var i = 0; i < nbb_cells.length; ++i) {\n",
       "                    if (nbb_cells[i].input_prompt_number == nbb_cell_id) {\n",
       "                        if (nbb_cells[i].get_text() == nbb_unformatted_code) {\n",
       "                             nbb_cells[i].set_text(nbb_formatted_code);\n",
       "                        }\n",
       "                        break;\n",
       "                    }\n",
       "                }\n",
       "            }, 500);\n",
       "            "
      ],
      "text/plain": [
       "<IPython.core.display.Javascript object>"
      ]
     },
     "metadata": {},
     "output_type": "display_data"
    }
   ],
   "source": [
    "drivers_df.to_csv(\"Datawarehouse/drivers.csv\", index=False)"
   ]
  },
  {
   "cell_type": "markdown",
   "id": "dcfa0514",
   "metadata": {},
   "source": [
    "## pit_stops.json"
   ]
  },
  {
   "cell_type": "code",
   "execution_count": 100,
   "id": "7056a8ab",
   "metadata": {},
   "outputs": [
    {
     "data": {
      "application/javascript": [
       "\n",
       "            setTimeout(function() {\n",
       "                var nbb_cell_id = 100;\n",
       "                var nbb_unformatted_code = \"pit_stops_df = pd.read_json(\\\"Datasets/pit_stops.json\\\")\";\n",
       "                var nbb_formatted_code = \"pit_stops_df = pd.read_json(\\\"Datasets/pit_stops.json\\\")\";\n",
       "                var nbb_cells = Jupyter.notebook.get_cells();\n",
       "                for (var i = 0; i < nbb_cells.length; ++i) {\n",
       "                    if (nbb_cells[i].input_prompt_number == nbb_cell_id) {\n",
       "                        if (nbb_cells[i].get_text() == nbb_unformatted_code) {\n",
       "                             nbb_cells[i].set_text(nbb_formatted_code);\n",
       "                        }\n",
       "                        break;\n",
       "                    }\n",
       "                }\n",
       "            }, 500);\n",
       "            "
      ],
      "text/plain": [
       "<IPython.core.display.Javascript object>"
      ]
     },
     "metadata": {},
     "output_type": "display_data"
    }
   ],
   "source": [
    "pit_stops_df = pd.read_json(\"Datasets/pit_stops.json\")"
   ]
  },
  {
   "cell_type": "code",
   "execution_count": 101,
   "id": "01a43800",
   "metadata": {},
   "outputs": [
    {
     "data": {
      "text/html": [
       "<div>\n",
       "<style scoped>\n",
       "    .dataframe tbody tr th:only-of-type {\n",
       "        vertical-align: middle;\n",
       "    }\n",
       "\n",
       "    .dataframe tbody tr th {\n",
       "        vertical-align: top;\n",
       "    }\n",
       "\n",
       "    .dataframe thead th {\n",
       "        text-align: right;\n",
       "    }\n",
       "</style>\n",
       "<table border=\"1\" class=\"dataframe\">\n",
       "  <thead>\n",
       "    <tr style=\"text-align: right;\">\n",
       "      <th></th>\n",
       "      <th>raceId</th>\n",
       "      <th>driverId</th>\n",
       "      <th>stop</th>\n",
       "      <th>lap</th>\n",
       "      <th>time</th>\n",
       "      <th>duration</th>\n",
       "      <th>milliseconds</th>\n",
       "    </tr>\n",
       "  </thead>\n",
       "  <tbody>\n",
       "    <tr>\n",
       "      <th>5872</th>\n",
       "      <td>977</td>\n",
       "      <td>822</td>\n",
       "      <td>1</td>\n",
       "      <td>41</td>\n",
       "      <td>14:50:11</td>\n",
       "      <td>22.387</td>\n",
       "      <td>22387</td>\n",
       "    </tr>\n",
       "    <tr>\n",
       "      <th>7805</th>\n",
       "      <td>1041</td>\n",
       "      <td>825</td>\n",
       "      <td>2</td>\n",
       "      <td>34</td>\n",
       "      <td>15:07:30</td>\n",
       "      <td>23.114</td>\n",
       "      <td>23114</td>\n",
       "    </tr>\n",
       "    <tr>\n",
       "      <th>7174</th>\n",
       "      <td>1022</td>\n",
       "      <td>807</td>\n",
       "      <td>1</td>\n",
       "      <td>11</td>\n",
       "      <td>15:37:54</td>\n",
       "      <td>23.475</td>\n",
       "      <td>23475</td>\n",
       "    </tr>\n",
       "    <tr>\n",
       "      <th>7302</th>\n",
       "      <td>1026</td>\n",
       "      <td>815</td>\n",
       "      <td>2</td>\n",
       "      <td>41</td>\n",
       "      <td>15:19:44</td>\n",
       "      <td>23.301</td>\n",
       "      <td>23301</td>\n",
       "    </tr>\n",
       "    <tr>\n",
       "      <th>6748</th>\n",
       "      <td>1008</td>\n",
       "      <td>828</td>\n",
       "      <td>1</td>\n",
       "      <td>18</td>\n",
       "      <td>15:36:28</td>\n",
       "      <td>23.377</td>\n",
       "      <td>23377</td>\n",
       "    </tr>\n",
       "    <tr>\n",
       "      <th>3265</th>\n",
       "      <td>905</td>\n",
       "      <td>825</td>\n",
       "      <td>1</td>\n",
       "      <td>26</td>\n",
       "      <td>14:40:29</td>\n",
       "      <td>28.943</td>\n",
       "      <td>28943</td>\n",
       "    </tr>\n",
       "    <tr>\n",
       "      <th>1314</th>\n",
       "      <td>863</td>\n",
       "      <td>18</td>\n",
       "      <td>2</td>\n",
       "      <td>22</td>\n",
       "      <td>15:41:03</td>\n",
       "      <td>22.27</td>\n",
       "      <td>22270</td>\n",
       "    </tr>\n",
       "    <tr>\n",
       "      <th>7954</th>\n",
       "      <td>1045</td>\n",
       "      <td>1</td>\n",
       "      <td>3</td>\n",
       "      <td>35</td>\n",
       "      <td>19:36:16</td>\n",
       "      <td>24.345</td>\n",
       "      <td>24345</td>\n",
       "    </tr>\n",
       "    <tr>\n",
       "      <th>3123</th>\n",
       "      <td>902</td>\n",
       "      <td>813</td>\n",
       "      <td>1</td>\n",
       "      <td>19</td>\n",
       "      <td>18:37:12</td>\n",
       "      <td>25.395</td>\n",
       "      <td>25395</td>\n",
       "    </tr>\n",
       "    <tr>\n",
       "      <th>2039</th>\n",
       "      <td>879</td>\n",
       "      <td>8</td>\n",
       "      <td>3</td>\n",
       "      <td>53</td>\n",
       "      <td>15:21:39</td>\n",
       "      <td>32.309</td>\n",
       "      <td>32309</td>\n",
       "    </tr>\n",
       "  </tbody>\n",
       "</table>\n",
       "</div>"
      ],
      "text/plain": [
       "      raceId  driverId  stop  lap      time duration  milliseconds\n",
       "5872     977       822     1   41  14:50:11   22.387         22387\n",
       "7805    1041       825     2   34  15:07:30   23.114         23114\n",
       "7174    1022       807     1   11  15:37:54   23.475         23475\n",
       "7302    1026       815     2   41  15:19:44   23.301         23301\n",
       "6748    1008       828     1   18  15:36:28   23.377         23377\n",
       "3265     905       825     1   26  14:40:29   28.943         28943\n",
       "1314     863        18     2   22  15:41:03    22.27         22270\n",
       "7954    1045         1     3   35  19:36:16   24.345         24345\n",
       "3123     902       813     1   19  18:37:12   25.395         25395\n",
       "2039     879         8     3   53  15:21:39   32.309         32309"
      ]
     },
     "execution_count": 101,
     "metadata": {},
     "output_type": "execute_result"
    },
    {
     "data": {
      "application/javascript": [
       "\n",
       "            setTimeout(function() {\n",
       "                var nbb_cell_id = 101;\n",
       "                var nbb_unformatted_code = \"pit_stops_df.sample(10)\";\n",
       "                var nbb_formatted_code = \"pit_stops_df.sample(10)\";\n",
       "                var nbb_cells = Jupyter.notebook.get_cells();\n",
       "                for (var i = 0; i < nbb_cells.length; ++i) {\n",
       "                    if (nbb_cells[i].input_prompt_number == nbb_cell_id) {\n",
       "                        if (nbb_cells[i].get_text() == nbb_unformatted_code) {\n",
       "                             nbb_cells[i].set_text(nbb_formatted_code);\n",
       "                        }\n",
       "                        break;\n",
       "                    }\n",
       "                }\n",
       "            }, 500);\n",
       "            "
      ],
      "text/plain": [
       "<IPython.core.display.Javascript object>"
      ]
     },
     "metadata": {},
     "output_type": "display_data"
    }
   ],
   "source": [
    "pit_stops_df.sample(10)"
   ]
  },
  {
   "cell_type": "code",
   "execution_count": 102,
   "id": "d0789064",
   "metadata": {},
   "outputs": [
    {
     "name": "stdout",
     "output_type": "stream",
     "text": [
      "<class 'pandas.core.frame.DataFrame'>\n",
      "RangeIndex: 8030 entries, 0 to 8029\n",
      "Data columns (total 7 columns):\n",
      " #   Column        Non-Null Count  Dtype \n",
      "---  ------        --------------  ----- \n",
      " 0   raceId        8030 non-null   int64 \n",
      " 1   driverId      8030 non-null   int64 \n",
      " 2   stop          8030 non-null   int64 \n",
      " 3   lap           8030 non-null   int64 \n",
      " 4   time          8030 non-null   object\n",
      " 5   duration      8030 non-null   object\n",
      " 6   milliseconds  8030 non-null   int64 \n",
      "dtypes: int64(5), object(2)\n",
      "memory usage: 439.3+ KB\n"
     ]
    },
    {
     "data": {
      "application/javascript": [
       "\n",
       "            setTimeout(function() {\n",
       "                var nbb_cell_id = 102;\n",
       "                var nbb_unformatted_code = \"pit_stops_df.info()\";\n",
       "                var nbb_formatted_code = \"pit_stops_df.info()\";\n",
       "                var nbb_cells = Jupyter.notebook.get_cells();\n",
       "                for (var i = 0; i < nbb_cells.length; ++i) {\n",
       "                    if (nbb_cells[i].input_prompt_number == nbb_cell_id) {\n",
       "                        if (nbb_cells[i].get_text() == nbb_unformatted_code) {\n",
       "                             nbb_cells[i].set_text(nbb_formatted_code);\n",
       "                        }\n",
       "                        break;\n",
       "                    }\n",
       "                }\n",
       "            }, 500);\n",
       "            "
      ],
      "text/plain": [
       "<IPython.core.display.Javascript object>"
      ]
     },
     "metadata": {},
     "output_type": "display_data"
    }
   ],
   "source": [
    "pit_stops_df.info()"
   ]
  },
  {
   "cell_type": "code",
   "execution_count": 103,
   "id": "49a31a7d",
   "metadata": {},
   "outputs": [
    {
     "data": {
      "application/javascript": [
       "\n",
       "            setTimeout(function() {\n",
       "                var nbb_cell_id = 103;\n",
       "                var nbb_unformatted_code = \"pit_stops_df[\\\"duration\\\"] = pd.to_timedelta(\\n    pit_stops_df[\\\"milliseconds\\\"],\\n    unit=\\\"ms\\\",\\n)\";\n",
       "                var nbb_formatted_code = \"pit_stops_df[\\\"duration\\\"] = pd.to_timedelta(\\n    pit_stops_df[\\\"milliseconds\\\"],\\n    unit=\\\"ms\\\",\\n)\";\n",
       "                var nbb_cells = Jupyter.notebook.get_cells();\n",
       "                for (var i = 0; i < nbb_cells.length; ++i) {\n",
       "                    if (nbb_cells[i].input_prompt_number == nbb_cell_id) {\n",
       "                        if (nbb_cells[i].get_text() == nbb_unformatted_code) {\n",
       "                             nbb_cells[i].set_text(nbb_formatted_code);\n",
       "                        }\n",
       "                        break;\n",
       "                    }\n",
       "                }\n",
       "            }, 500);\n",
       "            "
      ],
      "text/plain": [
       "<IPython.core.display.Javascript object>"
      ]
     },
     "metadata": {},
     "output_type": "display_data"
    }
   ],
   "source": [
    "pit_stops_df[\"duration\"] = pd.to_timedelta(\n",
    "    pit_stops_df[\"milliseconds\"],\n",
    "    unit=\"ms\",\n",
    ")"
   ]
  },
  {
   "cell_type": "code",
   "execution_count": 104,
   "id": "b15b0cd6",
   "metadata": {},
   "outputs": [
    {
     "data": {
      "text/html": [
       "<div>\n",
       "<style scoped>\n",
       "    .dataframe tbody tr th:only-of-type {\n",
       "        vertical-align: middle;\n",
       "    }\n",
       "\n",
       "    .dataframe tbody tr th {\n",
       "        vertical-align: top;\n",
       "    }\n",
       "\n",
       "    .dataframe thead th {\n",
       "        text-align: right;\n",
       "    }\n",
       "</style>\n",
       "<table border=\"1\" class=\"dataframe\">\n",
       "  <thead>\n",
       "    <tr style=\"text-align: right;\">\n",
       "      <th></th>\n",
       "      <th>raceId</th>\n",
       "      <th>driverId</th>\n",
       "      <th>stop</th>\n",
       "      <th>lap</th>\n",
       "      <th>time</th>\n",
       "      <th>duration</th>\n",
       "      <th>milliseconds</th>\n",
       "    </tr>\n",
       "  </thead>\n",
       "  <tbody>\n",
       "    <tr>\n",
       "      <th>4394</th>\n",
       "      <td>942</td>\n",
       "      <td>834</td>\n",
       "      <td>1</td>\n",
       "      <td>1</td>\n",
       "      <td>14:06:39</td>\n",
       "      <td>0 days 00:00:37.748000</td>\n",
       "      <td>37748</td>\n",
       "    </tr>\n",
       "    <tr>\n",
       "      <th>7381</th>\n",
       "      <td>1029</td>\n",
       "      <td>807</td>\n",
       "      <td>1</td>\n",
       "      <td>27</td>\n",
       "      <td>14:47:09</td>\n",
       "      <td>0 days 00:00:23.344000</td>\n",
       "      <td>23344</td>\n",
       "    </tr>\n",
       "    <tr>\n",
       "      <th>566</th>\n",
       "      <td>850</td>\n",
       "      <td>4</td>\n",
       "      <td>1</td>\n",
       "      <td>16</td>\n",
       "      <td>14:29:39</td>\n",
       "      <td>0 days 00:00:20.430000</td>\n",
       "      <td>20430</td>\n",
       "    </tr>\n",
       "    <tr>\n",
       "      <th>7966</th>\n",
       "      <td>1045</td>\n",
       "      <td>841</td>\n",
       "      <td>3</td>\n",
       "      <td>53</td>\n",
       "      <td>20:07:02</td>\n",
       "      <td>0 days 00:00:24.836000</td>\n",
       "      <td>24836</td>\n",
       "    </tr>\n",
       "    <tr>\n",
       "      <th>1351</th>\n",
       "      <td>863</td>\n",
       "      <td>37</td>\n",
       "      <td>3</td>\n",
       "      <td>38</td>\n",
       "      <td>16:10:38</td>\n",
       "      <td>0 days 00:00:24.520000</td>\n",
       "      <td>24520</td>\n",
       "    </tr>\n",
       "  </tbody>\n",
       "</table>\n",
       "</div>"
      ],
      "text/plain": [
       "      raceId  driverId  stop  lap      time               duration  \\\n",
       "4394     942       834     1    1  14:06:39 0 days 00:00:37.748000   \n",
       "7381    1029       807     1   27  14:47:09 0 days 00:00:23.344000   \n",
       "566      850         4     1   16  14:29:39 0 days 00:00:20.430000   \n",
       "7966    1045       841     3   53  20:07:02 0 days 00:00:24.836000   \n",
       "1351     863        37     3   38  16:10:38 0 days 00:00:24.520000   \n",
       "\n",
       "      milliseconds  \n",
       "4394         37748  \n",
       "7381         23344  \n",
       "566          20430  \n",
       "7966         24836  \n",
       "1351         24520  "
      ]
     },
     "execution_count": 104,
     "metadata": {},
     "output_type": "execute_result"
    },
    {
     "data": {
      "application/javascript": [
       "\n",
       "            setTimeout(function() {\n",
       "                var nbb_cell_id = 104;\n",
       "                var nbb_unformatted_code = \"pit_stops_df.sample(5)\";\n",
       "                var nbb_formatted_code = \"pit_stops_df.sample(5)\";\n",
       "                var nbb_cells = Jupyter.notebook.get_cells();\n",
       "                for (var i = 0; i < nbb_cells.length; ++i) {\n",
       "                    if (nbb_cells[i].input_prompt_number == nbb_cell_id) {\n",
       "                        if (nbb_cells[i].get_text() == nbb_unformatted_code) {\n",
       "                             nbb_cells[i].set_text(nbb_formatted_code);\n",
       "                        }\n",
       "                        break;\n",
       "                    }\n",
       "                }\n",
       "            }, 500);\n",
       "            "
      ],
      "text/plain": [
       "<IPython.core.display.Javascript object>"
      ]
     },
     "metadata": {},
     "output_type": "display_data"
    }
   ],
   "source": [
    "pit_stops_df.sample(5)"
   ]
  },
  {
   "cell_type": "code",
   "execution_count": 105,
   "id": "9607bc1c",
   "metadata": {},
   "outputs": [
    {
     "data": {
      "application/javascript": [
       "\n",
       "            setTimeout(function() {\n",
       "                var nbb_cell_id = 105;\n",
       "                var nbb_unformatted_code = \"pit_stops_df.to_csv(\\\"Datawarehouse/pit_stops.csv\\\", index=False)\";\n",
       "                var nbb_formatted_code = \"pit_stops_df.to_csv(\\\"Datawarehouse/pit_stops.csv\\\", index=False)\";\n",
       "                var nbb_cells = Jupyter.notebook.get_cells();\n",
       "                for (var i = 0; i < nbb_cells.length; ++i) {\n",
       "                    if (nbb_cells[i].input_prompt_number == nbb_cell_id) {\n",
       "                        if (nbb_cells[i].get_text() == nbb_unformatted_code) {\n",
       "                             nbb_cells[i].set_text(nbb_formatted_code);\n",
       "                        }\n",
       "                        break;\n",
       "                    }\n",
       "                }\n",
       "            }, 500);\n",
       "            "
      ],
      "text/plain": [
       "<IPython.core.display.Javascript object>"
      ]
     },
     "metadata": {},
     "output_type": "display_data"
    }
   ],
   "source": [
    "pit_stops_df.to_csv(\"Datawarehouse/pit_stops.csv\", index=False)"
   ]
  },
  {
   "cell_type": "markdown",
   "id": "2f838dd2",
   "metadata": {},
   "source": [
    "## races.csv"
   ]
  },
  {
   "cell_type": "code",
   "execution_count": 106,
   "id": "ec7adf2e",
   "metadata": {},
   "outputs": [
    {
     "data": {
      "application/javascript": [
       "\n",
       "            setTimeout(function() {\n",
       "                var nbb_cell_id = 106;\n",
       "                var nbb_unformatted_code = \"races_df = pd.read_csv(\\\"Datasets/races.csv\\\")\";\n",
       "                var nbb_formatted_code = \"races_df = pd.read_csv(\\\"Datasets/races.csv\\\")\";\n",
       "                var nbb_cells = Jupyter.notebook.get_cells();\n",
       "                for (var i = 0; i < nbb_cells.length; ++i) {\n",
       "                    if (nbb_cells[i].input_prompt_number == nbb_cell_id) {\n",
       "                        if (nbb_cells[i].get_text() == nbb_unformatted_code) {\n",
       "                             nbb_cells[i].set_text(nbb_formatted_code);\n",
       "                        }\n",
       "                        break;\n",
       "                    }\n",
       "                }\n",
       "            }, 500);\n",
       "            "
      ],
      "text/plain": [
       "<IPython.core.display.Javascript object>"
      ]
     },
     "metadata": {},
     "output_type": "display_data"
    }
   ],
   "source": [
    "races_df = pd.read_csv(\"Datasets/races.csv\")"
   ]
  },
  {
   "cell_type": "code",
   "execution_count": 107,
   "id": "994278da",
   "metadata": {},
   "outputs": [
    {
     "data": {
      "text/html": [
       "<div>\n",
       "<style scoped>\n",
       "    .dataframe tbody tr th:only-of-type {\n",
       "        vertical-align: middle;\n",
       "    }\n",
       "\n",
       "    .dataframe tbody tr th {\n",
       "        vertical-align: top;\n",
       "    }\n",
       "\n",
       "    .dataframe thead th {\n",
       "        text-align: right;\n",
       "    }\n",
       "</style>\n",
       "<table border=\"1\" class=\"dataframe\">\n",
       "  <thead>\n",
       "    <tr style=\"text-align: right;\">\n",
       "      <th></th>\n",
       "      <th>raceId</th>\n",
       "      <th>year</th>\n",
       "      <th>round</th>\n",
       "      <th>circuitId</th>\n",
       "      <th>name</th>\n",
       "      <th>date</th>\n",
       "      <th>time</th>\n",
       "      <th>url</th>\n",
       "    </tr>\n",
       "  </thead>\n",
       "  <tbody>\n",
       "    <tr>\n",
       "      <th>971</th>\n",
       "      <td>984</td>\n",
       "      <td>2017</td>\n",
       "      <td>16</td>\n",
       "      <td>22</td>\n",
       "      <td>Japanese Grand Prix</td>\n",
       "      <td>2017-10-08</td>\n",
       "      <td>05:00:00</td>\n",
       "      <td>https://en.wikipedia.org/wiki/2017_Japanese_Gr...</td>\n",
       "    </tr>\n",
       "    <tr>\n",
       "      <th>902</th>\n",
       "      <td>905</td>\n",
       "      <td>2014</td>\n",
       "      <td>6</td>\n",
       "      <td>6</td>\n",
       "      <td>Monaco Grand Prix</td>\n",
       "      <td>2014-05-25</td>\n",
       "      <td>12:00:00</td>\n",
       "      <td>http://en.wikipedia.org/wiki/2014_Monaco_Grand...</td>\n",
       "    </tr>\n",
       "    <tr>\n",
       "      <th>367</th>\n",
       "      <td>368</td>\n",
       "      <td>1989</td>\n",
       "      <td>13</td>\n",
       "      <td>27</td>\n",
       "      <td>Portuguese Grand Prix</td>\n",
       "      <td>1989-09-24</td>\n",
       "      <td>\\N</td>\n",
       "      <td>http://en.wikipedia.org/wiki/1989_Portuguese_G...</td>\n",
       "    </tr>\n",
       "    <tr>\n",
       "      <th>905</th>\n",
       "      <td>908</td>\n",
       "      <td>2014</td>\n",
       "      <td>9</td>\n",
       "      <td>9</td>\n",
       "      <td>British Grand Prix</td>\n",
       "      <td>2014-07-06</td>\n",
       "      <td>12:00:00</td>\n",
       "      <td>http://en.wikipedia.org/wiki/2014_British_Gran...</td>\n",
       "    </tr>\n",
       "    <tr>\n",
       "      <th>285</th>\n",
       "      <td>286</td>\n",
       "      <td>1993</td>\n",
       "      <td>14</td>\n",
       "      <td>27</td>\n",
       "      <td>Portuguese Grand Prix</td>\n",
       "      <td>1993-09-26</td>\n",
       "      <td>\\N</td>\n",
       "      <td>http://en.wikipedia.org/wiki/1993_Portuguese_G...</td>\n",
       "    </tr>\n",
       "  </tbody>\n",
       "</table>\n",
       "</div>"
      ],
      "text/plain": [
       "     raceId  year  round  circuitId                   name        date  \\\n",
       "971     984  2017     16         22    Japanese Grand Prix  2017-10-08   \n",
       "902     905  2014      6          6      Monaco Grand Prix  2014-05-25   \n",
       "367     368  1989     13         27  Portuguese Grand Prix  1989-09-24   \n",
       "905     908  2014      9          9     British Grand Prix  2014-07-06   \n",
       "285     286  1993     14         27  Portuguese Grand Prix  1993-09-26   \n",
       "\n",
       "         time                                                url  \n",
       "971  05:00:00  https://en.wikipedia.org/wiki/2017_Japanese_Gr...  \n",
       "902  12:00:00  http://en.wikipedia.org/wiki/2014_Monaco_Grand...  \n",
       "367        \\N  http://en.wikipedia.org/wiki/1989_Portuguese_G...  \n",
       "905  12:00:00  http://en.wikipedia.org/wiki/2014_British_Gran...  \n",
       "285        \\N  http://en.wikipedia.org/wiki/1993_Portuguese_G...  "
      ]
     },
     "execution_count": 107,
     "metadata": {},
     "output_type": "execute_result"
    },
    {
     "data": {
      "application/javascript": [
       "\n",
       "            setTimeout(function() {\n",
       "                var nbb_cell_id = 107;\n",
       "                var nbb_unformatted_code = \"races_df.sample(5)\";\n",
       "                var nbb_formatted_code = \"races_df.sample(5)\";\n",
       "                var nbb_cells = Jupyter.notebook.get_cells();\n",
       "                for (var i = 0; i < nbb_cells.length; ++i) {\n",
       "                    if (nbb_cells[i].input_prompt_number == nbb_cell_id) {\n",
       "                        if (nbb_cells[i].get_text() == nbb_unformatted_code) {\n",
       "                             nbb_cells[i].set_text(nbb_formatted_code);\n",
       "                        }\n",
       "                        break;\n",
       "                    }\n",
       "                }\n",
       "            }, 500);\n",
       "            "
      ],
      "text/plain": [
       "<IPython.core.display.Javascript object>"
      ]
     },
     "metadata": {},
     "output_type": "display_data"
    }
   ],
   "source": [
    "races_df.sample(5)"
   ]
  },
  {
   "cell_type": "code",
   "execution_count": 108,
   "id": "8fa3986c",
   "metadata": {},
   "outputs": [
    {
     "name": "stdout",
     "output_type": "stream",
     "text": [
      "<class 'pandas.core.frame.DataFrame'>\n",
      "RangeIndex: 1058 entries, 0 to 1057\n",
      "Data columns (total 8 columns):\n",
      " #   Column     Non-Null Count  Dtype \n",
      "---  ------     --------------  ----- \n",
      " 0   raceId     1058 non-null   int64 \n",
      " 1   year       1058 non-null   int64 \n",
      " 2   round      1058 non-null   int64 \n",
      " 3   circuitId  1058 non-null   int64 \n",
      " 4   name       1058 non-null   object\n",
      " 5   date       1058 non-null   object\n",
      " 6   time       1058 non-null   object\n",
      " 7   url        1058 non-null   object\n",
      "dtypes: int64(4), object(4)\n",
      "memory usage: 66.2+ KB\n"
     ]
    },
    {
     "data": {
      "application/javascript": [
       "\n",
       "            setTimeout(function() {\n",
       "                var nbb_cell_id = 108;\n",
       "                var nbb_unformatted_code = \"races_df.info()\";\n",
       "                var nbb_formatted_code = \"races_df.info()\";\n",
       "                var nbb_cells = Jupyter.notebook.get_cells();\n",
       "                for (var i = 0; i < nbb_cells.length; ++i) {\n",
       "                    if (nbb_cells[i].input_prompt_number == nbb_cell_id) {\n",
       "                        if (nbb_cells[i].get_text() == nbb_unformatted_code) {\n",
       "                             nbb_cells[i].set_text(nbb_formatted_code);\n",
       "                        }\n",
       "                        break;\n",
       "                    }\n",
       "                }\n",
       "            }, 500);\n",
       "            "
      ],
      "text/plain": [
       "<IPython.core.display.Javascript object>"
      ]
     },
     "metadata": {},
     "output_type": "display_data"
    }
   ],
   "source": [
    "races_df.info()"
   ]
  },
  {
   "cell_type": "code",
   "execution_count": 109,
   "id": "cbe473cd",
   "metadata": {},
   "outputs": [
    {
     "data": {
      "text/plain": [
       "raceId       0\n",
       "year         0\n",
       "round        0\n",
       "circuitId    0\n",
       "name         0\n",
       "date         0\n",
       "time         0\n",
       "url          0\n",
       "dtype: int64"
      ]
     },
     "execution_count": 109,
     "metadata": {},
     "output_type": "execute_result"
    },
    {
     "data": {
      "application/javascript": [
       "\n",
       "            setTimeout(function() {\n",
       "                var nbb_cell_id = 109;\n",
       "                var nbb_unformatted_code = \"races_df.isnull().sum()\";\n",
       "                var nbb_formatted_code = \"races_df.isnull().sum()\";\n",
       "                var nbb_cells = Jupyter.notebook.get_cells();\n",
       "                for (var i = 0; i < nbb_cells.length; ++i) {\n",
       "                    if (nbb_cells[i].input_prompt_number == nbb_cell_id) {\n",
       "                        if (nbb_cells[i].get_text() == nbb_unformatted_code) {\n",
       "                             nbb_cells[i].set_text(nbb_formatted_code);\n",
       "                        }\n",
       "                        break;\n",
       "                    }\n",
       "                }\n",
       "            }, 500);\n",
       "            "
      ],
      "text/plain": [
       "<IPython.core.display.Javascript object>"
      ]
     },
     "metadata": {},
     "output_type": "display_data"
    }
   ],
   "source": [
    "races_df.isnull().sum()"
   ]
  },
  {
   "cell_type": "code",
   "execution_count": 110,
   "id": "f11bb7db",
   "metadata": {},
   "outputs": [
    {
     "data": {
      "application/javascript": [
       "\n",
       "            setTimeout(function() {\n",
       "                var nbb_cell_id = 110;\n",
       "                var nbb_unformatted_code = \"races_df[\\\"time\\\"].replace(\\\"\\\\\\\\N\\\", np.NaN, inplace=True)\";\n",
       "                var nbb_formatted_code = \"races_df[\\\"time\\\"].replace(\\\"\\\\\\\\N\\\", np.NaN, inplace=True)\";\n",
       "                var nbb_cells = Jupyter.notebook.get_cells();\n",
       "                for (var i = 0; i < nbb_cells.length; ++i) {\n",
       "                    if (nbb_cells[i].input_prompt_number == nbb_cell_id) {\n",
       "                        if (nbb_cells[i].get_text() == nbb_unformatted_code) {\n",
       "                             nbb_cells[i].set_text(nbb_formatted_code);\n",
       "                        }\n",
       "                        break;\n",
       "                    }\n",
       "                }\n",
       "            }, 500);\n",
       "            "
      ],
      "text/plain": [
       "<IPython.core.display.Javascript object>"
      ]
     },
     "metadata": {},
     "output_type": "display_data"
    }
   ],
   "source": [
    "races_df[\"time\"].replace(\"\\\\N\", np.NaN, inplace=True)"
   ]
  },
  {
   "cell_type": "code",
   "execution_count": 111,
   "id": "60562a12",
   "metadata": {},
   "outputs": [
    {
     "data": {
      "text/html": [
       "<div>\n",
       "<style scoped>\n",
       "    .dataframe tbody tr th:only-of-type {\n",
       "        vertical-align: middle;\n",
       "    }\n",
       "\n",
       "    .dataframe tbody tr th {\n",
       "        vertical-align: top;\n",
       "    }\n",
       "\n",
       "    .dataframe thead th {\n",
       "        text-align: right;\n",
       "    }\n",
       "</style>\n",
       "<table border=\"1\" class=\"dataframe\">\n",
       "  <thead>\n",
       "    <tr style=\"text-align: right;\">\n",
       "      <th></th>\n",
       "      <th>raceId</th>\n",
       "      <th>year</th>\n",
       "      <th>round</th>\n",
       "      <th>circuitId</th>\n",
       "      <th>name</th>\n",
       "      <th>date</th>\n",
       "      <th>time</th>\n",
       "      <th>url</th>\n",
       "    </tr>\n",
       "  </thead>\n",
       "  <tbody>\n",
       "    <tr>\n",
       "      <th>420</th>\n",
       "      <td>421</td>\n",
       "      <td>1985</td>\n",
       "      <td>2</td>\n",
       "      <td>27</td>\n",
       "      <td>Portuguese Grand Prix</td>\n",
       "      <td>1985-04-21</td>\n",
       "      <td>NaN</td>\n",
       "      <td>http://en.wikipedia.org/wiki/1985_Portuguese_G...</td>\n",
       "    </tr>\n",
       "    <tr>\n",
       "      <th>652</th>\n",
       "      <td>653</td>\n",
       "      <td>1970</td>\n",
       "      <td>11</td>\n",
       "      <td>52</td>\n",
       "      <td>Canadian Grand Prix</td>\n",
       "      <td>1970-09-20</td>\n",
       "      <td>NaN</td>\n",
       "      <td>http://en.wikipedia.org/wiki/1970_Canadian_Gra...</td>\n",
       "    </tr>\n",
       "    <tr>\n",
       "      <th>616</th>\n",
       "      <td>617</td>\n",
       "      <td>1973</td>\n",
       "      <td>13</td>\n",
       "      <td>14</td>\n",
       "      <td>Italian Grand Prix</td>\n",
       "      <td>1973-09-09</td>\n",
       "      <td>NaN</td>\n",
       "      <td>http://en.wikipedia.org/wiki/1973_Italian_Gran...</td>\n",
       "    </tr>\n",
       "    <tr>\n",
       "      <th>310</th>\n",
       "      <td>311</td>\n",
       "      <td>1991</td>\n",
       "      <td>7</td>\n",
       "      <td>8</td>\n",
       "      <td>French Grand Prix</td>\n",
       "      <td>1991-07-07</td>\n",
       "      <td>NaN</td>\n",
       "      <td>http://en.wikipedia.org/wiki/1991_French_Grand...</td>\n",
       "    </tr>\n",
       "    <tr>\n",
       "      <th>382</th>\n",
       "      <td>383</td>\n",
       "      <td>1988</td>\n",
       "      <td>12</td>\n",
       "      <td>14</td>\n",
       "      <td>Italian Grand Prix</td>\n",
       "      <td>1988-09-11</td>\n",
       "      <td>NaN</td>\n",
       "      <td>http://en.wikipedia.org/wiki/1988_Italian_Gran...</td>\n",
       "    </tr>\n",
       "  </tbody>\n",
       "</table>\n",
       "</div>"
      ],
      "text/plain": [
       "     raceId  year  round  circuitId                   name        date time  \\\n",
       "420     421  1985      2         27  Portuguese Grand Prix  1985-04-21  NaN   \n",
       "652     653  1970     11         52    Canadian Grand Prix  1970-09-20  NaN   \n",
       "616     617  1973     13         14     Italian Grand Prix  1973-09-09  NaN   \n",
       "310     311  1991      7          8      French Grand Prix  1991-07-07  NaN   \n",
       "382     383  1988     12         14     Italian Grand Prix  1988-09-11  NaN   \n",
       "\n",
       "                                                   url  \n",
       "420  http://en.wikipedia.org/wiki/1985_Portuguese_G...  \n",
       "652  http://en.wikipedia.org/wiki/1970_Canadian_Gra...  \n",
       "616  http://en.wikipedia.org/wiki/1973_Italian_Gran...  \n",
       "310  http://en.wikipedia.org/wiki/1991_French_Grand...  \n",
       "382  http://en.wikipedia.org/wiki/1988_Italian_Gran...  "
      ]
     },
     "execution_count": 111,
     "metadata": {},
     "output_type": "execute_result"
    },
    {
     "data": {
      "application/javascript": [
       "\n",
       "            setTimeout(function() {\n",
       "                var nbb_cell_id = 111;\n",
       "                var nbb_unformatted_code = \"races_df.sample(5)\";\n",
       "                var nbb_formatted_code = \"races_df.sample(5)\";\n",
       "                var nbb_cells = Jupyter.notebook.get_cells();\n",
       "                for (var i = 0; i < nbb_cells.length; ++i) {\n",
       "                    if (nbb_cells[i].input_prompt_number == nbb_cell_id) {\n",
       "                        if (nbb_cells[i].get_text() == nbb_unformatted_code) {\n",
       "                             nbb_cells[i].set_text(nbb_formatted_code);\n",
       "                        }\n",
       "                        break;\n",
       "                    }\n",
       "                }\n",
       "            }, 500);\n",
       "            "
      ],
      "text/plain": [
       "<IPython.core.display.Javascript object>"
      ]
     },
     "metadata": {},
     "output_type": "display_data"
    }
   ],
   "source": [
    "races_df.sample(5)"
   ]
  },
  {
   "cell_type": "code",
   "execution_count": 112,
   "id": "cad443d4",
   "metadata": {},
   "outputs": [
    {
     "data": {
      "application/javascript": [
       "\n",
       "            setTimeout(function() {\n",
       "                var nbb_cell_id = 112;\n",
       "                var nbb_unformatted_code = \"races_df.to_csv(\\\"Datawarehouse/races.csv\\\", index=False)\";\n",
       "                var nbb_formatted_code = \"races_df.to_csv(\\\"Datawarehouse/races.csv\\\", index=False)\";\n",
       "                var nbb_cells = Jupyter.notebook.get_cells();\n",
       "                for (var i = 0; i < nbb_cells.length; ++i) {\n",
       "                    if (nbb_cells[i].input_prompt_number == nbb_cell_id) {\n",
       "                        if (nbb_cells[i].get_text() == nbb_unformatted_code) {\n",
       "                             nbb_cells[i].set_text(nbb_formatted_code);\n",
       "                        }\n",
       "                        break;\n",
       "                    }\n",
       "                }\n",
       "            }, 500);\n",
       "            "
      ],
      "text/plain": [
       "<IPython.core.display.Javascript object>"
      ]
     },
     "metadata": {},
     "output_type": "display_data"
    }
   ],
   "source": [
    "races_df.to_csv(\"Datawarehouse/races.csv\", index=False)"
   ]
  },
  {
   "cell_type": "markdown",
   "id": "f573ff7f",
   "metadata": {},
   "source": [
    "## results.json"
   ]
  },
  {
   "cell_type": "code",
   "execution_count": 113,
   "id": "6366bb10",
   "metadata": {},
   "outputs": [
    {
     "data": {
      "application/javascript": [
       "\n",
       "            setTimeout(function() {\n",
       "                var nbb_cell_id = 113;\n",
       "                var nbb_unformatted_code = \"with open(\\\"Datasets/results.json\\\") as json_file:\\n    results_data = [json.loads(line) for line in json_file]\\n\\nresults_df = pd.json_normalize(results_data)\";\n",
       "                var nbb_formatted_code = \"with open(\\\"Datasets/results.json\\\") as json_file:\\n    results_data = [json.loads(line) for line in json_file]\\n\\nresults_df = pd.json_normalize(results_data)\";\n",
       "                var nbb_cells = Jupyter.notebook.get_cells();\n",
       "                for (var i = 0; i < nbb_cells.length; ++i) {\n",
       "                    if (nbb_cells[i].input_prompt_number == nbb_cell_id) {\n",
       "                        if (nbb_cells[i].get_text() == nbb_unformatted_code) {\n",
       "                             nbb_cells[i].set_text(nbb_formatted_code);\n",
       "                        }\n",
       "                        break;\n",
       "                    }\n",
       "                }\n",
       "            }, 500);\n",
       "            "
      ],
      "text/plain": [
       "<IPython.core.display.Javascript object>"
      ]
     },
     "metadata": {},
     "output_type": "display_data"
    }
   ],
   "source": [
    "with open(\"Datasets/results.json\") as json_file:\n",
    "    results_data = [json.loads(line) for line in json_file]\n",
    "\n",
    "results_df = pd.json_normalize(results_data)"
   ]
  },
  {
   "cell_type": "code",
   "execution_count": 114,
   "id": "d0590cf8",
   "metadata": {},
   "outputs": [
    {
     "data": {
      "text/html": [
       "<div>\n",
       "<style scoped>\n",
       "    .dataframe tbody tr th:only-of-type {\n",
       "        vertical-align: middle;\n",
       "    }\n",
       "\n",
       "    .dataframe tbody tr th {\n",
       "        vertical-align: top;\n",
       "    }\n",
       "\n",
       "    .dataframe thead th {\n",
       "        text-align: right;\n",
       "    }\n",
       "</style>\n",
       "<table border=\"1\" class=\"dataframe\">\n",
       "  <thead>\n",
       "    <tr style=\"text-align: right;\">\n",
       "      <th></th>\n",
       "      <th>resultId</th>\n",
       "      <th>raceId</th>\n",
       "      <th>driverId</th>\n",
       "      <th>constructorId</th>\n",
       "      <th>number</th>\n",
       "      <th>grid</th>\n",
       "      <th>position</th>\n",
       "      <th>positionText</th>\n",
       "      <th>positionOrder</th>\n",
       "      <th>points</th>\n",
       "      <th>laps</th>\n",
       "      <th>time</th>\n",
       "      <th>milliseconds</th>\n",
       "      <th>fastestLap</th>\n",
       "      <th>rank</th>\n",
       "      <th>fastestLapTime</th>\n",
       "      <th>fastestLapSpeed</th>\n",
       "      <th>statusId</th>\n",
       "    </tr>\n",
       "  </thead>\n",
       "  <tbody>\n",
       "    <tr>\n",
       "      <th>3391</th>\n",
       "      <td>3392</td>\n",
       "      <td>179</td>\n",
       "      <td>57</td>\n",
       "      <td>1</td>\n",
       "      <td>1</td>\n",
       "      <td>1</td>\n",
       "      <td>1</td>\n",
       "      <td>1</td>\n",
       "      <td>1</td>\n",
       "      <td>10.0</td>\n",
       "      <td>65</td>\n",
       "      <td>1:34:13.665</td>\n",
       "      <td>5653665</td>\n",
       "      <td>\\N</td>\n",
       "      <td>\\N</td>\n",
       "      <td>\\N</td>\n",
       "      <td>\\N</td>\n",
       "      <td>1</td>\n",
       "    </tr>\n",
       "    <tr>\n",
       "      <th>22297</th>\n",
       "      <td>22300</td>\n",
       "      <td>907</td>\n",
       "      <td>820</td>\n",
       "      <td>206</td>\n",
       "      <td>4</td>\n",
       "      <td>21</td>\n",
       "      <td>17</td>\n",
       "      <td>17</td>\n",
       "      <td>17</td>\n",
       "      <td>0.0</td>\n",
       "      <td>69</td>\n",
       "      <td>\\N</td>\n",
       "      <td>\\N</td>\n",
       "      <td>40</td>\n",
       "      <td>21</td>\n",
       "      <td>1:14.847</td>\n",
       "      <td>208.072</td>\n",
       "      <td>12</td>\n",
       "    </tr>\n",
       "    <tr>\n",
       "      <th>17701</th>\n",
       "      <td>17702</td>\n",
       "      <td>732</td>\n",
       "      <td>341</td>\n",
       "      <td>26</td>\n",
       "      <td>18</td>\n",
       "      <td>5</td>\n",
       "      <td>5</td>\n",
       "      <td>5</td>\n",
       "      <td>5</td>\n",
       "      <td>2.0</td>\n",
       "      <td>51</td>\n",
       "      <td>\\N</td>\n",
       "      <td>\\N</td>\n",
       "      <td>\\N</td>\n",
       "      <td>\\N</td>\n",
       "      <td>\\N</td>\n",
       "      <td>\\N</td>\n",
       "      <td>13</td>\n",
       "    </tr>\n",
       "    <tr>\n",
       "      <th>7822</th>\n",
       "      <td>7823</td>\n",
       "      <td>14</td>\n",
       "      <td>8</td>\n",
       "      <td>6</td>\n",
       "      <td>4</td>\n",
       "      <td>12</td>\n",
       "      <td>10</td>\n",
       "      <td>10</td>\n",
       "      <td>10</td>\n",
       "      <td>0.0</td>\n",
       "      <td>61</td>\n",
       "      <td>+58.892</td>\n",
       "      <td>7025229</td>\n",
       "      <td>54</td>\n",
       "      <td>5</td>\n",
       "      <td>1:48.391</td>\n",
       "      <td>168.49</td>\n",
       "      <td>1</td>\n",
       "    </tr>\n",
       "    <tr>\n",
       "      <th>23737</th>\n",
       "      <td>23742</td>\n",
       "      <td>987</td>\n",
       "      <td>20</td>\n",
       "      <td>6</td>\n",
       "      <td>5</td>\n",
       "      <td>2</td>\n",
       "      <td>1</td>\n",
       "      <td>1</td>\n",
       "      <td>1</td>\n",
       "      <td>25.0</td>\n",
       "      <td>71</td>\n",
       "      <td>1:31:26.262</td>\n",
       "      <td>5486262</td>\n",
       "      <td>63</td>\n",
       "      <td>7</td>\n",
       "      <td>1:12.539</td>\n",
       "      <td>213.849</td>\n",
       "      <td>1</td>\n",
       "    </tr>\n",
       "  </tbody>\n",
       "</table>\n",
       "</div>"
      ],
      "text/plain": [
       "       resultId  raceId  driverId  constructorId number  grid position  \\\n",
       "3391       3392     179        57              1      1     1        1   \n",
       "22297     22300     907       820            206      4    21       17   \n",
       "17701     17702     732       341             26     18     5        5   \n",
       "7822       7823      14         8              6      4    12       10   \n",
       "23737     23742     987        20              6      5     2        1   \n",
       "\n",
       "      positionText  positionOrder  points  laps         time milliseconds  \\\n",
       "3391             1              1    10.0    65  1:34:13.665      5653665   \n",
       "22297           17             17     0.0    69           \\N           \\N   \n",
       "17701            5              5     2.0    51           \\N           \\N   \n",
       "7822            10             10     0.0    61      +58.892      7025229   \n",
       "23737            1              1    25.0    71  1:31:26.262      5486262   \n",
       "\n",
       "      fastestLap rank fastestLapTime fastestLapSpeed  statusId  \n",
       "3391          \\N   \\N             \\N              \\N         1  \n",
       "22297         40   21       1:14.847         208.072        12  \n",
       "17701         \\N   \\N             \\N              \\N        13  \n",
       "7822          54    5       1:48.391          168.49         1  \n",
       "23737         63    7       1:12.539         213.849         1  "
      ]
     },
     "execution_count": 114,
     "metadata": {},
     "output_type": "execute_result"
    },
    {
     "data": {
      "application/javascript": [
       "\n",
       "            setTimeout(function() {\n",
       "                var nbb_cell_id = 114;\n",
       "                var nbb_unformatted_code = \"results_df.sample(5)\";\n",
       "                var nbb_formatted_code = \"results_df.sample(5)\";\n",
       "                var nbb_cells = Jupyter.notebook.get_cells();\n",
       "                for (var i = 0; i < nbb_cells.length; ++i) {\n",
       "                    if (nbb_cells[i].input_prompt_number == nbb_cell_id) {\n",
       "                        if (nbb_cells[i].get_text() == nbb_unformatted_code) {\n",
       "                             nbb_cells[i].set_text(nbb_formatted_code);\n",
       "                        }\n",
       "                        break;\n",
       "                    }\n",
       "                }\n",
       "            }, 500);\n",
       "            "
      ],
      "text/plain": [
       "<IPython.core.display.Javascript object>"
      ]
     },
     "metadata": {},
     "output_type": "display_data"
    }
   ],
   "source": [
    "results_df.sample(5)"
   ]
  },
  {
   "cell_type": "code",
   "execution_count": 115,
   "id": "a19c6616",
   "metadata": {},
   "outputs": [
    {
     "name": "stdout",
     "output_type": "stream",
     "text": [
      "<class 'pandas.core.frame.DataFrame'>\n",
      "RangeIndex: 24960 entries, 0 to 24959\n",
      "Data columns (total 18 columns):\n",
      " #   Column           Non-Null Count  Dtype  \n",
      "---  ------           --------------  -----  \n",
      " 0   resultId         24960 non-null  int64  \n",
      " 1   raceId           24960 non-null  int64  \n",
      " 2   driverId         24960 non-null  int64  \n",
      " 3   constructorId    24960 non-null  int64  \n",
      " 4   number           24960 non-null  object \n",
      " 5   grid             24960 non-null  int64  \n",
      " 6   position         24960 non-null  object \n",
      " 7   positionText     24960 non-null  object \n",
      " 8   positionOrder    24960 non-null  int64  \n",
      " 9   points           24960 non-null  float64\n",
      " 10  laps             24960 non-null  int64  \n",
      " 11  time             24960 non-null  object \n",
      " 12  milliseconds     24960 non-null  object \n",
      " 13  fastestLap       24960 non-null  object \n",
      " 14  rank             24960 non-null  object \n",
      " 15  fastestLapTime   24960 non-null  object \n",
      " 16  fastestLapSpeed  24960 non-null  object \n",
      " 17  statusId         24960 non-null  int64  \n",
      "dtypes: float64(1), int64(8), object(9)\n",
      "memory usage: 3.4+ MB\n"
     ]
    },
    {
     "data": {
      "application/javascript": [
       "\n",
       "            setTimeout(function() {\n",
       "                var nbb_cell_id = 115;\n",
       "                var nbb_unformatted_code = \"results_df.info()\";\n",
       "                var nbb_formatted_code = \"results_df.info()\";\n",
       "                var nbb_cells = Jupyter.notebook.get_cells();\n",
       "                for (var i = 0; i < nbb_cells.length; ++i) {\n",
       "                    if (nbb_cells[i].input_prompt_number == nbb_cell_id) {\n",
       "                        if (nbb_cells[i].get_text() == nbb_unformatted_code) {\n",
       "                             nbb_cells[i].set_text(nbb_formatted_code);\n",
       "                        }\n",
       "                        break;\n",
       "                    }\n",
       "                }\n",
       "            }, 500);\n",
       "            "
      ],
      "text/plain": [
       "<IPython.core.display.Javascript object>"
      ]
     },
     "metadata": {},
     "output_type": "display_data"
    }
   ],
   "source": [
    "results_df.info()"
   ]
  },
  {
   "cell_type": "code",
   "execution_count": 116,
   "id": "19835657",
   "metadata": {},
   "outputs": [
    {
     "data": {
      "application/javascript": [
       "\n",
       "            setTimeout(function() {\n",
       "                var nbb_cell_id = 116;\n",
       "                var nbb_unformatted_code = \"results_df[:].replace(\\\"\\\\\\\\N\\\", np.NaN, inplace=True)\";\n",
       "                var nbb_formatted_code = \"results_df[:].replace(\\\"\\\\\\\\N\\\", np.NaN, inplace=True)\";\n",
       "                var nbb_cells = Jupyter.notebook.get_cells();\n",
       "                for (var i = 0; i < nbb_cells.length; ++i) {\n",
       "                    if (nbb_cells[i].input_prompt_number == nbb_cell_id) {\n",
       "                        if (nbb_cells[i].get_text() == nbb_unformatted_code) {\n",
       "                             nbb_cells[i].set_text(nbb_formatted_code);\n",
       "                        }\n",
       "                        break;\n",
       "                    }\n",
       "                }\n",
       "            }, 500);\n",
       "            "
      ],
      "text/plain": [
       "<IPython.core.display.Javascript object>"
      ]
     },
     "metadata": {},
     "output_type": "display_data"
    }
   ],
   "source": [
    "results_df[:].replace(\"\\\\N\", np.NaN, inplace=True)"
   ]
  },
  {
   "cell_type": "code",
   "execution_count": 117,
   "id": "8a9cbc71",
   "metadata": {},
   "outputs": [
    {
     "data": {
      "text/html": [
       "<div>\n",
       "<style scoped>\n",
       "    .dataframe tbody tr th:only-of-type {\n",
       "        vertical-align: middle;\n",
       "    }\n",
       "\n",
       "    .dataframe tbody tr th {\n",
       "        vertical-align: top;\n",
       "    }\n",
       "\n",
       "    .dataframe thead th {\n",
       "        text-align: right;\n",
       "    }\n",
       "</style>\n",
       "<table border=\"1\" class=\"dataframe\">\n",
       "  <thead>\n",
       "    <tr style=\"text-align: right;\">\n",
       "      <th></th>\n",
       "      <th>resultId</th>\n",
       "      <th>raceId</th>\n",
       "      <th>driverId</th>\n",
       "      <th>constructorId</th>\n",
       "      <th>number</th>\n",
       "      <th>grid</th>\n",
       "      <th>position</th>\n",
       "      <th>positionText</th>\n",
       "      <th>positionOrder</th>\n",
       "      <th>points</th>\n",
       "      <th>laps</th>\n",
       "      <th>time</th>\n",
       "      <th>milliseconds</th>\n",
       "      <th>fastestLap</th>\n",
       "      <th>rank</th>\n",
       "      <th>fastestLapTime</th>\n",
       "      <th>fastestLapSpeed</th>\n",
       "      <th>statusId</th>\n",
       "    </tr>\n",
       "  </thead>\n",
       "  <tbody>\n",
       "    <tr>\n",
       "      <th>48</th>\n",
       "      <td>49</td>\n",
       "      <td>20</td>\n",
       "      <td>5</td>\n",
       "      <td>1</td>\n",
       "      <td>23</td>\n",
       "      <td>5</td>\n",
       "      <td>5</td>\n",
       "      <td>5</td>\n",
       "      <td>5</td>\n",
       "      <td>4.0</td>\n",
       "      <td>57</td>\n",
       "      <td>+26.789</td>\n",
       "      <td>5493759</td>\n",
       "      <td>49</td>\n",
       "      <td>1</td>\n",
       "      <td>1:33.193</td>\n",
       "      <td>209.062</td>\n",
       "      <td>1</td>\n",
       "    </tr>\n",
       "    <tr>\n",
       "      <th>3796</th>\n",
       "      <td>3797</td>\n",
       "      <td>197</td>\n",
       "      <td>74</td>\n",
       "      <td>18</td>\n",
       "      <td>23</td>\n",
       "      <td>21</td>\n",
       "      <td>NaN</td>\n",
       "      <td>R</td>\n",
       "      <td>11</td>\n",
       "      <td>0.0</td>\n",
       "      <td>53</td>\n",
       "      <td>NaN</td>\n",
       "      <td>NaN</td>\n",
       "      <td>NaN</td>\n",
       "      <td>NaN</td>\n",
       "      <td>NaN</td>\n",
       "      <td>NaN</td>\n",
       "      <td>10</td>\n",
       "    </tr>\n",
       "    <tr>\n",
       "      <th>11437</th>\n",
       "      <td>11438</td>\n",
       "      <td>479</td>\n",
       "      <td>210</td>\n",
       "      <td>55</td>\n",
       "      <td>33</td>\n",
       "      <td>26</td>\n",
       "      <td>NaN</td>\n",
       "      <td>R</td>\n",
       "      <td>12</td>\n",
       "      <td>0.0</td>\n",
       "      <td>28</td>\n",
       "      <td>NaN</td>\n",
       "      <td>NaN</td>\n",
       "      <td>NaN</td>\n",
       "      <td>NaN</td>\n",
       "      <td>NaN</td>\n",
       "      <td>NaN</td>\n",
       "      <td>20</td>\n",
       "    </tr>\n",
       "    <tr>\n",
       "      <th>6426</th>\n",
       "      <td>6427</td>\n",
       "      <td>303</td>\n",
       "      <td>131</td>\n",
       "      <td>17</td>\n",
       "      <td>32</td>\n",
       "      <td>17</td>\n",
       "      <td>7</td>\n",
       "      <td>7</td>\n",
       "      <td>7</td>\n",
       "      <td>0.0</td>\n",
       "      <td>52</td>\n",
       "      <td>NaN</td>\n",
       "      <td>NaN</td>\n",
       "      <td>NaN</td>\n",
       "      <td>NaN</td>\n",
       "      <td>NaN</td>\n",
       "      <td>NaN</td>\n",
       "      <td>11</td>\n",
       "    </tr>\n",
       "    <tr>\n",
       "      <th>19687</th>\n",
       "      <td>19688</td>\n",
       "      <td>818</td>\n",
       "      <td>520</td>\n",
       "      <td>113</td>\n",
       "      <td>67</td>\n",
       "      <td>18</td>\n",
       "      <td>NaN</td>\n",
       "      <td>R</td>\n",
       "      <td>28</td>\n",
       "      <td>0.0</td>\n",
       "      <td>65</td>\n",
       "      <td>NaN</td>\n",
       "      <td>NaN</td>\n",
       "      <td>NaN</td>\n",
       "      <td>NaN</td>\n",
       "      <td>NaN</td>\n",
       "      <td>NaN</td>\n",
       "      <td>43</td>\n",
       "    </tr>\n",
       "  </tbody>\n",
       "</table>\n",
       "</div>"
      ],
      "text/plain": [
       "       resultId  raceId  driverId  constructorId number  grid position  \\\n",
       "48           49      20         5              1     23     5        5   \n",
       "3796       3797     197        74             18     23    21      NaN   \n",
       "11437     11438     479       210             55     33    26      NaN   \n",
       "6426       6427     303       131             17     32    17        7   \n",
       "19687     19688     818       520            113     67    18      NaN   \n",
       "\n",
       "      positionText  positionOrder  points  laps     time milliseconds  \\\n",
       "48               5              5     4.0    57  +26.789      5493759   \n",
       "3796             R             11     0.0    53      NaN          NaN   \n",
       "11437            R             12     0.0    28      NaN          NaN   \n",
       "6426             7              7     0.0    52      NaN          NaN   \n",
       "19687            R             28     0.0    65      NaN          NaN   \n",
       "\n",
       "      fastestLap rank fastestLapTime fastestLapSpeed  statusId  \n",
       "48            49    1       1:33.193         209.062         1  \n",
       "3796         NaN  NaN            NaN             NaN        10  \n",
       "11437        NaN  NaN            NaN             NaN        20  \n",
       "6426         NaN  NaN            NaN             NaN        11  \n",
       "19687        NaN  NaN            NaN             NaN        43  "
      ]
     },
     "execution_count": 117,
     "metadata": {},
     "output_type": "execute_result"
    },
    {
     "data": {
      "application/javascript": [
       "\n",
       "            setTimeout(function() {\n",
       "                var nbb_cell_id = 117;\n",
       "                var nbb_unformatted_code = \"results_df.sample(5)\";\n",
       "                var nbb_formatted_code = \"results_df.sample(5)\";\n",
       "                var nbb_cells = Jupyter.notebook.get_cells();\n",
       "                for (var i = 0; i < nbb_cells.length; ++i) {\n",
       "                    if (nbb_cells[i].input_prompt_number == nbb_cell_id) {\n",
       "                        if (nbb_cells[i].get_text() == nbb_unformatted_code) {\n",
       "                             nbb_cells[i].set_text(nbb_formatted_code);\n",
       "                        }\n",
       "                        break;\n",
       "                    }\n",
       "                }\n",
       "            }, 500);\n",
       "            "
      ],
      "text/plain": [
       "<IPython.core.display.Javascript object>"
      ]
     },
     "metadata": {},
     "output_type": "display_data"
    }
   ],
   "source": [
    "results_df.sample(5)"
   ]
  },
  {
   "cell_type": "code",
   "execution_count": 118,
   "id": "44b41eba",
   "metadata": {},
   "outputs": [
    {
     "data": {
      "text/plain": [
       "resultId               0\n",
       "raceId                 0\n",
       "driverId               0\n",
       "constructorId          0\n",
       "number                 6\n",
       "grid                   0\n",
       "position           10735\n",
       "positionText           0\n",
       "positionOrder          0\n",
       "points                 0\n",
       "laps                   0\n",
       "time               18368\n",
       "milliseconds       18369\n",
       "fastestLap         18410\n",
       "rank               18249\n",
       "fastestLapTime     18410\n",
       "fastestLapSpeed    18410\n",
       "statusId               0\n",
       "dtype: int64"
      ]
     },
     "execution_count": 118,
     "metadata": {},
     "output_type": "execute_result"
    },
    {
     "data": {
      "application/javascript": [
       "\n",
       "            setTimeout(function() {\n",
       "                var nbb_cell_id = 118;\n",
       "                var nbb_unformatted_code = \"results_df.isnull().sum()\";\n",
       "                var nbb_formatted_code = \"results_df.isnull().sum()\";\n",
       "                var nbb_cells = Jupyter.notebook.get_cells();\n",
       "                for (var i = 0; i < nbb_cells.length; ++i) {\n",
       "                    if (nbb_cells[i].input_prompt_number == nbb_cell_id) {\n",
       "                        if (nbb_cells[i].get_text() == nbb_unformatted_code) {\n",
       "                             nbb_cells[i].set_text(nbb_formatted_code);\n",
       "                        }\n",
       "                        break;\n",
       "                    }\n",
       "                }\n",
       "            }, 500);\n",
       "            "
      ],
      "text/plain": [
       "<IPython.core.display.Javascript object>"
      ]
     },
     "metadata": {},
     "output_type": "display_data"
    }
   ],
   "source": [
    "results_df.isnull().sum()"
   ]
  },
  {
   "cell_type": "code",
   "execution_count": 119,
   "id": "e05ef8d0",
   "metadata": {},
   "outputs": [
    {
     "data": {
      "application/javascript": [
       "\n",
       "            setTimeout(function() {\n",
       "                var nbb_cell_id = 119;\n",
       "                var nbb_unformatted_code = \"results_df.to_csv(\\\"Datawarehouse/results.csv\\\", index=False)\";\n",
       "                var nbb_formatted_code = \"results_df.to_csv(\\\"Datawarehouse/results.csv\\\", index=False)\";\n",
       "                var nbb_cells = Jupyter.notebook.get_cells();\n",
       "                for (var i = 0; i < nbb_cells.length; ++i) {\n",
       "                    if (nbb_cells[i].input_prompt_number == nbb_cell_id) {\n",
       "                        if (nbb_cells[i].get_text() == nbb_unformatted_code) {\n",
       "                             nbb_cells[i].set_text(nbb_formatted_code);\n",
       "                        }\n",
       "                        break;\n",
       "                    }\n",
       "                }\n",
       "            }, 500);\n",
       "            "
      ],
      "text/plain": [
       "<IPython.core.display.Javascript object>"
      ]
     },
     "metadata": {},
     "output_type": "display_data"
    }
   ],
   "source": [
    "results_df.to_csv(\"Datawarehouse/results.csv\", index=False)"
   ]
  },
  {
   "cell_type": "markdown",
   "id": "02a07f31",
   "metadata": {},
   "source": [
    "> I had compressed qualifying files into one and lap_times_split files into a big one."
   ]
  },
  {
   "cell_type": "markdown",
   "id": "43143acb",
   "metadata": {},
   "source": [
    "## qualifying"
   ]
  },
  {
   "cell_type": "markdown",
   "id": "45caa0b4",
   "metadata": {},
   "source": [
    "### qualifying 1"
   ]
  },
  {
   "cell_type": "code",
   "execution_count": 120,
   "id": "11487d18",
   "metadata": {},
   "outputs": [
    {
     "data": {
      "application/javascript": [
       "\n",
       "            setTimeout(function() {\n",
       "                var nbb_cell_id = 120;\n",
       "                var nbb_unformatted_code = \"qualifying_split_1_df = pd.read_json(\\\"Datasets/Qualifying/qualifying_split_1.json\\\")\";\n",
       "                var nbb_formatted_code = \"qualifying_split_1_df = pd.read_json(\\\"Datasets/Qualifying/qualifying_split_1.json\\\")\";\n",
       "                var nbb_cells = Jupyter.notebook.get_cells();\n",
       "                for (var i = 0; i < nbb_cells.length; ++i) {\n",
       "                    if (nbb_cells[i].input_prompt_number == nbb_cell_id) {\n",
       "                        if (nbb_cells[i].get_text() == nbb_unformatted_code) {\n",
       "                             nbb_cells[i].set_text(nbb_formatted_code);\n",
       "                        }\n",
       "                        break;\n",
       "                    }\n",
       "                }\n",
       "            }, 500);\n",
       "            "
      ],
      "text/plain": [
       "<IPython.core.display.Javascript object>"
      ]
     },
     "metadata": {},
     "output_type": "display_data"
    }
   ],
   "source": [
    "qualifying_split_1_df = pd.read_json(\"Datasets/Qualifying/qualifying_split_1.json\")"
   ]
  },
  {
   "cell_type": "code",
   "execution_count": 121,
   "id": "b322a6fc",
   "metadata": {},
   "outputs": [
    {
     "data": {
      "text/html": [
       "<div>\n",
       "<style scoped>\n",
       "    .dataframe tbody tr th:only-of-type {\n",
       "        vertical-align: middle;\n",
       "    }\n",
       "\n",
       "    .dataframe tbody tr th {\n",
       "        vertical-align: top;\n",
       "    }\n",
       "\n",
       "    .dataframe thead th {\n",
       "        text-align: right;\n",
       "    }\n",
       "</style>\n",
       "<table border=\"1\" class=\"dataframe\">\n",
       "  <thead>\n",
       "    <tr style=\"text-align: right;\">\n",
       "      <th></th>\n",
       "      <th>qualifyId</th>\n",
       "      <th>raceId</th>\n",
       "      <th>driverId</th>\n",
       "      <th>constructorId</th>\n",
       "      <th>number</th>\n",
       "      <th>position</th>\n",
       "      <th>q1</th>\n",
       "      <th>q2</th>\n",
       "      <th>q3</th>\n",
       "    </tr>\n",
       "  </thead>\n",
       "  <tbody>\n",
       "    <tr>\n",
       "      <th>46</th>\n",
       "      <td>47</td>\n",
       "      <td>20</td>\n",
       "      <td>1</td>\n",
       "      <td>1</td>\n",
       "      <td>22</td>\n",
       "      <td>3</td>\n",
       "      <td>1:32.750</td>\n",
       "      <td>1:31.922</td>\n",
       "      <td>1:33.292</td>\n",
       "    </tr>\n",
       "    <tr>\n",
       "      <th>1683</th>\n",
       "      <td>1684</td>\n",
       "      <td>192</td>\n",
       "      <td>21</td>\n",
       "      <td>22</td>\n",
       "      <td>5</td>\n",
       "      <td>7</td>\n",
       "      <td>1:18.652</td>\n",
       "      <td>\\N</td>\n",
       "      <td>\\N</td>\n",
       "    </tr>\n",
       "    <tr>\n",
       "      <th>3621</th>\n",
       "      <td>3623</td>\n",
       "      <td>349</td>\n",
       "      <td>4</td>\n",
       "      <td>6</td>\n",
       "      <td>8</td>\n",
       "      <td>10</td>\n",
       "      <td>1:57.023</td>\n",
       "      <td>1:47.544</td>\n",
       "      <td>1:47.441</td>\n",
       "    </tr>\n",
       "    <tr>\n",
       "      <th>1967</th>\n",
       "      <td>1968</td>\n",
       "      <td>214</td>\n",
       "      <td>15</td>\n",
       "      <td>20</td>\n",
       "      <td>14</td>\n",
       "      <td>6</td>\n",
       "      <td>1:14.957</td>\n",
       "      <td>\\N</td>\n",
       "      <td>\\N</td>\n",
       "    </tr>\n",
       "    <tr>\n",
       "      <th>1762</th>\n",
       "      <td>1763</td>\n",
       "      <td>200</td>\n",
       "      <td>68</td>\n",
       "      <td>25</td>\n",
       "      <td>21</td>\n",
       "      <td>20</td>\n",
       "      <td>1:34.090</td>\n",
       "      <td>\\N</td>\n",
       "      <td>\\N</td>\n",
       "    </tr>\n",
       "  </tbody>\n",
       "</table>\n",
       "</div>"
      ],
      "text/plain": [
       "      qualifyId  raceId  driverId  constructorId  number  position        q1  \\\n",
       "46           47      20         1              1      22         3  1:32.750   \n",
       "1683       1684     192        21             22       5         7  1:18.652   \n",
       "3621       3623     349         4              6       8        10  1:57.023   \n",
       "1967       1968     214        15             20      14         6  1:14.957   \n",
       "1762       1763     200        68             25      21        20  1:34.090   \n",
       "\n",
       "            q2        q3  \n",
       "46    1:31.922  1:33.292  \n",
       "1683        \\N        \\N  \n",
       "3621  1:47.544  1:47.441  \n",
       "1967        \\N        \\N  \n",
       "1762        \\N        \\N  "
      ]
     },
     "execution_count": 121,
     "metadata": {},
     "output_type": "execute_result"
    },
    {
     "data": {
      "application/javascript": [
       "\n",
       "            setTimeout(function() {\n",
       "                var nbb_cell_id = 121;\n",
       "                var nbb_unformatted_code = \"qualifying_split_1_df.sample(5)\";\n",
       "                var nbb_formatted_code = \"qualifying_split_1_df.sample(5)\";\n",
       "                var nbb_cells = Jupyter.notebook.get_cells();\n",
       "                for (var i = 0; i < nbb_cells.length; ++i) {\n",
       "                    if (nbb_cells[i].input_prompt_number == nbb_cell_id) {\n",
       "                        if (nbb_cells[i].get_text() == nbb_unformatted_code) {\n",
       "                             nbb_cells[i].set_text(nbb_formatted_code);\n",
       "                        }\n",
       "                        break;\n",
       "                    }\n",
       "                }\n",
       "            }, 500);\n",
       "            "
      ],
      "text/plain": [
       "<IPython.core.display.Javascript object>"
      ]
     },
     "metadata": {},
     "output_type": "display_data"
    }
   ],
   "source": [
    "qualifying_split_1_df.sample(5)"
   ]
  },
  {
   "cell_type": "code",
   "execution_count": 122,
   "id": "a70fa2e3",
   "metadata": {},
   "outputs": [
    {
     "name": "stdout",
     "output_type": "stream",
     "text": [
      "<class 'pandas.core.frame.DataFrame'>\n",
      "RangeIndex: 4999 entries, 0 to 4998\n",
      "Data columns (total 9 columns):\n",
      " #   Column         Non-Null Count  Dtype \n",
      "---  ------         --------------  ----- \n",
      " 0   qualifyId      4999 non-null   int64 \n",
      " 1   raceId         4999 non-null   int64 \n",
      " 2   driverId       4999 non-null   int64 \n",
      " 3   constructorId  4999 non-null   int64 \n",
      " 4   number         4999 non-null   int64 \n",
      " 5   position       4999 non-null   int64 \n",
      " 6   q1             4999 non-null   object\n",
      " 7   q2             4999 non-null   object\n",
      " 8   q3             4999 non-null   object\n",
      "dtypes: int64(6), object(3)\n",
      "memory usage: 351.6+ KB\n"
     ]
    },
    {
     "data": {
      "application/javascript": [
       "\n",
       "            setTimeout(function() {\n",
       "                var nbb_cell_id = 122;\n",
       "                var nbb_unformatted_code = \"qualifying_split_1_df.info()\";\n",
       "                var nbb_formatted_code = \"qualifying_split_1_df.info()\";\n",
       "                var nbb_cells = Jupyter.notebook.get_cells();\n",
       "                for (var i = 0; i < nbb_cells.length; ++i) {\n",
       "                    if (nbb_cells[i].input_prompt_number == nbb_cell_id) {\n",
       "                        if (nbb_cells[i].get_text() == nbb_unformatted_code) {\n",
       "                             nbb_cells[i].set_text(nbb_formatted_code);\n",
       "                        }\n",
       "                        break;\n",
       "                    }\n",
       "                }\n",
       "            }, 500);\n",
       "            "
      ],
      "text/plain": [
       "<IPython.core.display.Javascript object>"
      ]
     },
     "metadata": {},
     "output_type": "display_data"
    }
   ],
   "source": [
    "qualifying_split_1_df.info()"
   ]
  },
  {
   "cell_type": "code",
   "execution_count": 123,
   "id": "eebc2292",
   "metadata": {},
   "outputs": [
    {
     "data": {
      "application/javascript": [
       "\n",
       "            setTimeout(function() {\n",
       "                var nbb_cell_id = 123;\n",
       "                var nbb_unformatted_code = \"qualifying_split_1_df[\\\"q2\\\"].replace(\\\"\\\\\\\\N\\\", np.NaN, inplace=True)\";\n",
       "                var nbb_formatted_code = \"qualifying_split_1_df[\\\"q2\\\"].replace(\\\"\\\\\\\\N\\\", np.NaN, inplace=True)\";\n",
       "                var nbb_cells = Jupyter.notebook.get_cells();\n",
       "                for (var i = 0; i < nbb_cells.length; ++i) {\n",
       "                    if (nbb_cells[i].input_prompt_number == nbb_cell_id) {\n",
       "                        if (nbb_cells[i].get_text() == nbb_unformatted_code) {\n",
       "                             nbb_cells[i].set_text(nbb_formatted_code);\n",
       "                        }\n",
       "                        break;\n",
       "                    }\n",
       "                }\n",
       "            }, 500);\n",
       "            "
      ],
      "text/plain": [
       "<IPython.core.display.Javascript object>"
      ]
     },
     "metadata": {},
     "output_type": "display_data"
    }
   ],
   "source": [
    "qualifying_split_1_df[\"q2\"].replace(\"\\\\N\", np.NaN, inplace=True)"
   ]
  },
  {
   "cell_type": "code",
   "execution_count": 124,
   "id": "6b55f7e3",
   "metadata": {},
   "outputs": [
    {
     "data": {
      "application/javascript": [
       "\n",
       "            setTimeout(function() {\n",
       "                var nbb_cell_id = 124;\n",
       "                var nbb_unformatted_code = \"qualifying_split_1_df[\\\"q3\\\"].replace(\\\"\\\\\\\\N\\\", np.NaN, inplace=True)\";\n",
       "                var nbb_formatted_code = \"qualifying_split_1_df[\\\"q3\\\"].replace(\\\"\\\\\\\\N\\\", np.NaN, inplace=True)\";\n",
       "                var nbb_cells = Jupyter.notebook.get_cells();\n",
       "                for (var i = 0; i < nbb_cells.length; ++i) {\n",
       "                    if (nbb_cells[i].input_prompt_number == nbb_cell_id) {\n",
       "                        if (nbb_cells[i].get_text() == nbb_unformatted_code) {\n",
       "                             nbb_cells[i].set_text(nbb_formatted_code);\n",
       "                        }\n",
       "                        break;\n",
       "                    }\n",
       "                }\n",
       "            }, 500);\n",
       "            "
      ],
      "text/plain": [
       "<IPython.core.display.Javascript object>"
      ]
     },
     "metadata": {},
     "output_type": "display_data"
    }
   ],
   "source": [
    "qualifying_split_1_df[\"q3\"].replace(\"\\\\N\", np.NaN, inplace=True)"
   ]
  },
  {
   "cell_type": "code",
   "execution_count": 125,
   "id": "565d702a",
   "metadata": {},
   "outputs": [
    {
     "data": {
      "text/html": [
       "<div>\n",
       "<style scoped>\n",
       "    .dataframe tbody tr th:only-of-type {\n",
       "        vertical-align: middle;\n",
       "    }\n",
       "\n",
       "    .dataframe tbody tr th {\n",
       "        vertical-align: top;\n",
       "    }\n",
       "\n",
       "    .dataframe thead th {\n",
       "        text-align: right;\n",
       "    }\n",
       "</style>\n",
       "<table border=\"1\" class=\"dataframe\">\n",
       "  <thead>\n",
       "    <tr style=\"text-align: right;\">\n",
       "      <th></th>\n",
       "      <th>qualifyId</th>\n",
       "      <th>raceId</th>\n",
       "      <th>driverId</th>\n",
       "      <th>constructorId</th>\n",
       "      <th>number</th>\n",
       "      <th>position</th>\n",
       "      <th>q1</th>\n",
       "      <th>q2</th>\n",
       "      <th>q3</th>\n",
       "    </tr>\n",
       "  </thead>\n",
       "  <tbody>\n",
       "    <tr>\n",
       "      <th>1269</th>\n",
       "      <td>1270</td>\n",
       "      <td>83</td>\n",
       "      <td>2</td>\n",
       "      <td>3</td>\n",
       "      <td>8</td>\n",
       "      <td>12</td>\n",
       "      <td>1:22.086</td>\n",
       "      <td>NaN</td>\n",
       "      <td>NaN</td>\n",
       "    </tr>\n",
       "    <tr>\n",
       "      <th>2432</th>\n",
       "      <td>2434</td>\n",
       "      <td>250</td>\n",
       "      <td>44</td>\n",
       "      <td>27</td>\n",
       "      <td>26</td>\n",
       "      <td>9</td>\n",
       "      <td>1:58.021</td>\n",
       "      <td>NaN</td>\n",
       "      <td>NaN</td>\n",
       "    </tr>\n",
       "    <tr>\n",
       "      <th>3996</th>\n",
       "      <td>3998</td>\n",
       "      <td>119</td>\n",
       "      <td>52</td>\n",
       "      <td>17</td>\n",
       "      <td>12</td>\n",
       "      <td>18</td>\n",
       "      <td>1:18.341</td>\n",
       "      <td>NaN</td>\n",
       "      <td>NaN</td>\n",
       "    </tr>\n",
       "    <tr>\n",
       "      <th>47</th>\n",
       "      <td>48</td>\n",
       "      <td>20</td>\n",
       "      <td>8</td>\n",
       "      <td>6</td>\n",
       "      <td>1</td>\n",
       "      <td>4</td>\n",
       "      <td>1:32.652</td>\n",
       "      <td>1:31.933</td>\n",
       "      <td>1:33.418</td>\n",
       "    </tr>\n",
       "    <tr>\n",
       "      <th>189</th>\n",
       "      <td>190</td>\n",
       "      <td>27</td>\n",
       "      <td>13</td>\n",
       "      <td>6</td>\n",
       "      <td>2</td>\n",
       "      <td>2</td>\n",
       "      <td>1:14.921</td>\n",
       "      <td>1:14.747</td>\n",
       "      <td>1:15.859</td>\n",
       "    </tr>\n",
       "  </tbody>\n",
       "</table>\n",
       "</div>"
      ],
      "text/plain": [
       "      qualifyId  raceId  driverId  constructorId  number  position        q1  \\\n",
       "1269       1270      83         2              3       8        12  1:22.086   \n",
       "2432       2434     250        44             27      26         9  1:58.021   \n",
       "3996       3998     119        52             17      12        18  1:18.341   \n",
       "47           48      20         8              6       1         4  1:32.652   \n",
       "189         190      27        13              6       2         2  1:14.921   \n",
       "\n",
       "            q2        q3  \n",
       "1269       NaN       NaN  \n",
       "2432       NaN       NaN  \n",
       "3996       NaN       NaN  \n",
       "47    1:31.933  1:33.418  \n",
       "189   1:14.747  1:15.859  "
      ]
     },
     "execution_count": 125,
     "metadata": {},
     "output_type": "execute_result"
    },
    {
     "data": {
      "application/javascript": [
       "\n",
       "            setTimeout(function() {\n",
       "                var nbb_cell_id = 125;\n",
       "                var nbb_unformatted_code = \"qualifying_split_1_df.sample(5)\";\n",
       "                var nbb_formatted_code = \"qualifying_split_1_df.sample(5)\";\n",
       "                var nbb_cells = Jupyter.notebook.get_cells();\n",
       "                for (var i = 0; i < nbb_cells.length; ++i) {\n",
       "                    if (nbb_cells[i].input_prompt_number == nbb_cell_id) {\n",
       "                        if (nbb_cells[i].get_text() == nbb_unformatted_code) {\n",
       "                             nbb_cells[i].set_text(nbb_formatted_code);\n",
       "                        }\n",
       "                        break;\n",
       "                    }\n",
       "                }\n",
       "            }, 500);\n",
       "            "
      ],
      "text/plain": [
       "<IPython.core.display.Javascript object>"
      ]
     },
     "metadata": {},
     "output_type": "display_data"
    }
   ],
   "source": [
    "qualifying_split_1_df.sample(5)"
   ]
  },
  {
   "cell_type": "markdown",
   "id": "e8b87d16",
   "metadata": {},
   "source": [
    "### qualifying 2"
   ]
  },
  {
   "cell_type": "code",
   "execution_count": 126,
   "id": "3f2358d3",
   "metadata": {},
   "outputs": [
    {
     "data": {
      "application/javascript": [
       "\n",
       "            setTimeout(function() {\n",
       "                var nbb_cell_id = 126;\n",
       "                var nbb_unformatted_code = \"qualifying_split_2_df = pd.read_json(\\\"Datasets/Qualifying/qualifying_split_2.json\\\")\";\n",
       "                var nbb_formatted_code = \"qualifying_split_2_df = pd.read_json(\\\"Datasets/Qualifying/qualifying_split_2.json\\\")\";\n",
       "                var nbb_cells = Jupyter.notebook.get_cells();\n",
       "                for (var i = 0; i < nbb_cells.length; ++i) {\n",
       "                    if (nbb_cells[i].input_prompt_number == nbb_cell_id) {\n",
       "                        if (nbb_cells[i].get_text() == nbb_unformatted_code) {\n",
       "                             nbb_cells[i].set_text(nbb_formatted_code);\n",
       "                        }\n",
       "                        break;\n",
       "                    }\n",
       "                }\n",
       "            }, 500);\n",
       "            "
      ],
      "text/plain": [
       "<IPython.core.display.Javascript object>"
      ]
     },
     "metadata": {},
     "output_type": "display_data"
    }
   ],
   "source": [
    "qualifying_split_2_df = pd.read_json(\"Datasets/Qualifying/qualifying_split_2.json\")"
   ]
  },
  {
   "cell_type": "code",
   "execution_count": 127,
   "id": "cb5ecae5",
   "metadata": {},
   "outputs": [
    {
     "data": {
      "text/html": [
       "<div>\n",
       "<style scoped>\n",
       "    .dataframe tbody tr th:only-of-type {\n",
       "        vertical-align: middle;\n",
       "    }\n",
       "\n",
       "    .dataframe tbody tr th {\n",
       "        vertical-align: top;\n",
       "    }\n",
       "\n",
       "    .dataframe thead th {\n",
       "        text-align: right;\n",
       "    }\n",
       "</style>\n",
       "<table border=\"1\" class=\"dataframe\">\n",
       "  <thead>\n",
       "    <tr style=\"text-align: right;\">\n",
       "      <th></th>\n",
       "      <th>qualifyId</th>\n",
       "      <th>raceId</th>\n",
       "      <th>driverId</th>\n",
       "      <th>constructorId</th>\n",
       "      <th>number</th>\n",
       "      <th>position</th>\n",
       "      <th>q1</th>\n",
       "      <th>q2</th>\n",
       "      <th>q3</th>\n",
       "    </tr>\n",
       "  </thead>\n",
       "  <tbody>\n",
       "    <tr>\n",
       "      <th>2327</th>\n",
       "      <td>7349</td>\n",
       "      <td>979</td>\n",
       "      <td>832</td>\n",
       "      <td>5</td>\n",
       "      <td>55</td>\n",
       "      <td>10</td>\n",
       "      <td>1:18.948</td>\n",
       "      <td>1:18.311</td>\n",
       "      <td>1:18.912</td>\n",
       "    </tr>\n",
       "    <tr>\n",
       "      <th>2858</th>\n",
       "      <td>7881</td>\n",
       "      <td>1006</td>\n",
       "      <td>20</td>\n",
       "      <td>6</td>\n",
       "      <td>5</td>\n",
       "      <td>2</td>\n",
       "      <td>1:34.569</td>\n",
       "      <td>1:33.079</td>\n",
       "      <td>1:32.298</td>\n",
       "    </tr>\n",
       "    <tr>\n",
       "      <th>2929</th>\n",
       "      <td>7952</td>\n",
       "      <td>1009</td>\n",
       "      <td>825</td>\n",
       "      <td>210</td>\n",
       "      <td>20</td>\n",
       "      <td>13</td>\n",
       "      <td>1:37.934</td>\n",
       "      <td>1:37.309</td>\n",
       "      <td>\\N</td>\n",
       "    </tr>\n",
       "    <tr>\n",
       "      <th>1757</th>\n",
       "      <td>6779</td>\n",
       "      <td>952</td>\n",
       "      <td>815</td>\n",
       "      <td>10</td>\n",
       "      <td>11</td>\n",
       "      <td>9</td>\n",
       "      <td>1:24.698</td>\n",
       "      <td>1:24.003</td>\n",
       "      <td>1:23.782</td>\n",
       "    </tr>\n",
       "    <tr>\n",
       "      <th>1828</th>\n",
       "      <td>6850</td>\n",
       "      <td>955</td>\n",
       "      <td>821</td>\n",
       "      <td>210</td>\n",
       "      <td>21</td>\n",
       "      <td>15</td>\n",
       "      <td>1:45.300</td>\n",
       "      <td>1:45.349</td>\n",
       "      <td>\\N</td>\n",
       "    </tr>\n",
       "  </tbody>\n",
       "</table>\n",
       "</div>"
      ],
      "text/plain": [
       "      qualifyId  raceId  driverId  constructorId  number  position        q1  \\\n",
       "2327       7349     979       832              5      55        10  1:18.948   \n",
       "2858       7881    1006        20              6       5         2  1:34.569   \n",
       "2929       7952    1009       825            210      20        13  1:37.934   \n",
       "1757       6779     952       815             10      11         9  1:24.698   \n",
       "1828       6850     955       821            210      21        15  1:45.300   \n",
       "\n",
       "            q2        q3  \n",
       "2327  1:18.311  1:18.912  \n",
       "2858  1:33.079  1:32.298  \n",
       "2929  1:37.309        \\N  \n",
       "1757  1:24.003  1:23.782  \n",
       "1828  1:45.349        \\N  "
      ]
     },
     "execution_count": 127,
     "metadata": {},
     "output_type": "execute_result"
    },
    {
     "data": {
      "application/javascript": [
       "\n",
       "            setTimeout(function() {\n",
       "                var nbb_cell_id = 127;\n",
       "                var nbb_unformatted_code = \"qualifying_split_2_df.sample(5)\";\n",
       "                var nbb_formatted_code = \"qualifying_split_2_df.sample(5)\";\n",
       "                var nbb_cells = Jupyter.notebook.get_cells();\n",
       "                for (var i = 0; i < nbb_cells.length; ++i) {\n",
       "                    if (nbb_cells[i].input_prompt_number == nbb_cell_id) {\n",
       "                        if (nbb_cells[i].get_text() == nbb_unformatted_code) {\n",
       "                             nbb_cells[i].set_text(nbb_formatted_code);\n",
       "                        }\n",
       "                        break;\n",
       "                    }\n",
       "                }\n",
       "            }, 500);\n",
       "            "
      ],
      "text/plain": [
       "<IPython.core.display.Javascript object>"
      ]
     },
     "metadata": {},
     "output_type": "display_data"
    }
   ],
   "source": [
    "qualifying_split_2_df.sample(5)"
   ]
  },
  {
   "cell_type": "code",
   "execution_count": 128,
   "id": "fe7397c9",
   "metadata": {},
   "outputs": [
    {
     "name": "stdout",
     "output_type": "stream",
     "text": [
      "<class 'pandas.core.frame.DataFrame'>\n",
      "RangeIndex: 3695 entries, 0 to 3694\n",
      "Data columns (total 9 columns):\n",
      " #   Column         Non-Null Count  Dtype \n",
      "---  ------         --------------  ----- \n",
      " 0   qualifyId      3695 non-null   int64 \n",
      " 1   raceId         3695 non-null   int64 \n",
      " 2   driverId       3695 non-null   int64 \n",
      " 3   constructorId  3695 non-null   int64 \n",
      " 4   number         3695 non-null   int64 \n",
      " 5   position       3695 non-null   int64 \n",
      " 6   q1             3695 non-null   object\n",
      " 7   q2             3695 non-null   object\n",
      " 8   q3             3695 non-null   object\n",
      "dtypes: int64(6), object(3)\n",
      "memory usage: 259.9+ KB\n"
     ]
    },
    {
     "data": {
      "application/javascript": [
       "\n",
       "            setTimeout(function() {\n",
       "                var nbb_cell_id = 128;\n",
       "                var nbb_unformatted_code = \"qualifying_split_2_df.info()\";\n",
       "                var nbb_formatted_code = \"qualifying_split_2_df.info()\";\n",
       "                var nbb_cells = Jupyter.notebook.get_cells();\n",
       "                for (var i = 0; i < nbb_cells.length; ++i) {\n",
       "                    if (nbb_cells[i].input_prompt_number == nbb_cell_id) {\n",
       "                        if (nbb_cells[i].get_text() == nbb_unformatted_code) {\n",
       "                             nbb_cells[i].set_text(nbb_formatted_code);\n",
       "                        }\n",
       "                        break;\n",
       "                    }\n",
       "                }\n",
       "            }, 500);\n",
       "            "
      ],
      "text/plain": [
       "<IPython.core.display.Javascript object>"
      ]
     },
     "metadata": {},
     "output_type": "display_data"
    }
   ],
   "source": [
    "qualifying_split_2_df.info()"
   ]
  },
  {
   "cell_type": "code",
   "execution_count": 129,
   "id": "24f92059",
   "metadata": {},
   "outputs": [
    {
     "data": {
      "application/javascript": [
       "\n",
       "            setTimeout(function() {\n",
       "                var nbb_cell_id = 129;\n",
       "                var nbb_unformatted_code = \"qualifying_split_2_df[\\\"q2\\\"].replace(\\\"\\\\\\\\N\\\", np.NaN, inplace=True)\";\n",
       "                var nbb_formatted_code = \"qualifying_split_2_df[\\\"q2\\\"].replace(\\\"\\\\\\\\N\\\", np.NaN, inplace=True)\";\n",
       "                var nbb_cells = Jupyter.notebook.get_cells();\n",
       "                for (var i = 0; i < nbb_cells.length; ++i) {\n",
       "                    if (nbb_cells[i].input_prompt_number == nbb_cell_id) {\n",
       "                        if (nbb_cells[i].get_text() == nbb_unformatted_code) {\n",
       "                             nbb_cells[i].set_text(nbb_formatted_code);\n",
       "                        }\n",
       "                        break;\n",
       "                    }\n",
       "                }\n",
       "            }, 500);\n",
       "            "
      ],
      "text/plain": [
       "<IPython.core.display.Javascript object>"
      ]
     },
     "metadata": {},
     "output_type": "display_data"
    }
   ],
   "source": [
    "qualifying_split_2_df[\"q2\"].replace(\"\\\\N\", np.NaN, inplace=True)"
   ]
  },
  {
   "cell_type": "code",
   "execution_count": 130,
   "id": "186b6f50",
   "metadata": {},
   "outputs": [
    {
     "data": {
      "application/javascript": [
       "\n",
       "            setTimeout(function() {\n",
       "                var nbb_cell_id = 130;\n",
       "                var nbb_unformatted_code = \"qualifying_split_2_df[\\\"q3\\\"].replace(\\\"\\\\\\\\N\\\", np.NaN, inplace=True)\";\n",
       "                var nbb_formatted_code = \"qualifying_split_2_df[\\\"q3\\\"].replace(\\\"\\\\\\\\N\\\", np.NaN, inplace=True)\";\n",
       "                var nbb_cells = Jupyter.notebook.get_cells();\n",
       "                for (var i = 0; i < nbb_cells.length; ++i) {\n",
       "                    if (nbb_cells[i].input_prompt_number == nbb_cell_id) {\n",
       "                        if (nbb_cells[i].get_text() == nbb_unformatted_code) {\n",
       "                             nbb_cells[i].set_text(nbb_formatted_code);\n",
       "                        }\n",
       "                        break;\n",
       "                    }\n",
       "                }\n",
       "            }, 500);\n",
       "            "
      ],
      "text/plain": [
       "<IPython.core.display.Javascript object>"
      ]
     },
     "metadata": {},
     "output_type": "display_data"
    }
   ],
   "source": [
    "qualifying_split_2_df[\"q3\"].replace(\"\\\\N\", np.NaN, inplace=True)"
   ]
  },
  {
   "cell_type": "code",
   "execution_count": 131,
   "id": "45d74762",
   "metadata": {},
   "outputs": [
    {
     "data": {
      "text/plain": [
       "qualifyId           0\n",
       "raceId              0\n",
       "driverId            0\n",
       "constructorId       0\n",
       "number              0\n",
       "position            0\n",
       "q1                  0\n",
       "q2                897\n",
       "q3               1764\n",
       "dtype: int64"
      ]
     },
     "execution_count": 131,
     "metadata": {},
     "output_type": "execute_result"
    },
    {
     "data": {
      "application/javascript": [
       "\n",
       "            setTimeout(function() {\n",
       "                var nbb_cell_id = 131;\n",
       "                var nbb_unformatted_code = \"qualifying_split_2_df.isnull().sum()\";\n",
       "                var nbb_formatted_code = \"qualifying_split_2_df.isnull().sum()\";\n",
       "                var nbb_cells = Jupyter.notebook.get_cells();\n",
       "                for (var i = 0; i < nbb_cells.length; ++i) {\n",
       "                    if (nbb_cells[i].input_prompt_number == nbb_cell_id) {\n",
       "                        if (nbb_cells[i].get_text() == nbb_unformatted_code) {\n",
       "                             nbb_cells[i].set_text(nbb_formatted_code);\n",
       "                        }\n",
       "                        break;\n",
       "                    }\n",
       "                }\n",
       "            }, 500);\n",
       "            "
      ],
      "text/plain": [
       "<IPython.core.display.Javascript object>"
      ]
     },
     "metadata": {},
     "output_type": "display_data"
    }
   ],
   "source": [
    "qualifying_split_2_df.isnull().sum()"
   ]
  },
  {
   "cell_type": "code",
   "execution_count": 132,
   "id": "30220d0b",
   "metadata": {},
   "outputs": [
    {
     "data": {
      "application/javascript": [
       "\n",
       "            setTimeout(function() {\n",
       "                var nbb_cell_id = 132;\n",
       "                var nbb_unformatted_code = \"qualifying_concat = pd.concat(\\n    [qualifying_split_1_df, qualifying_split_2_df], ignore_index=True\\n)\";\n",
       "                var nbb_formatted_code = \"qualifying_concat = pd.concat(\\n    [qualifying_split_1_df, qualifying_split_2_df], ignore_index=True\\n)\";\n",
       "                var nbb_cells = Jupyter.notebook.get_cells();\n",
       "                for (var i = 0; i < nbb_cells.length; ++i) {\n",
       "                    if (nbb_cells[i].input_prompt_number == nbb_cell_id) {\n",
       "                        if (nbb_cells[i].get_text() == nbb_unformatted_code) {\n",
       "                             nbb_cells[i].set_text(nbb_formatted_code);\n",
       "                        }\n",
       "                        break;\n",
       "                    }\n",
       "                }\n",
       "            }, 500);\n",
       "            "
      ],
      "text/plain": [
       "<IPython.core.display.Javascript object>"
      ]
     },
     "metadata": {},
     "output_type": "display_data"
    }
   ],
   "source": [
    "qualifying_concat = pd.concat(\n",
    "    [qualifying_split_1_df, qualifying_split_2_df], ignore_index=True\n",
    ")"
   ]
  },
  {
   "cell_type": "code",
   "execution_count": 133,
   "id": "cf745cd0",
   "metadata": {},
   "outputs": [
    {
     "data": {
      "text/html": [
       "<div>\n",
       "<style scoped>\n",
       "    .dataframe tbody tr th:only-of-type {\n",
       "        vertical-align: middle;\n",
       "    }\n",
       "\n",
       "    .dataframe tbody tr th {\n",
       "        vertical-align: top;\n",
       "    }\n",
       "\n",
       "    .dataframe thead th {\n",
       "        text-align: right;\n",
       "    }\n",
       "</style>\n",
       "<table border=\"1\" class=\"dataframe\">\n",
       "  <thead>\n",
       "    <tr style=\"text-align: right;\">\n",
       "      <th></th>\n",
       "      <th>qualifyId</th>\n",
       "      <th>raceId</th>\n",
       "      <th>driverId</th>\n",
       "      <th>constructorId</th>\n",
       "      <th>number</th>\n",
       "      <th>position</th>\n",
       "      <th>q1</th>\n",
       "      <th>q2</th>\n",
       "      <th>q3</th>\n",
       "    </tr>\n",
       "  </thead>\n",
       "  <tbody>\n",
       "    <tr>\n",
       "      <th>0</th>\n",
       "      <td>1</td>\n",
       "      <td>18</td>\n",
       "      <td>1</td>\n",
       "      <td>1</td>\n",
       "      <td>22</td>\n",
       "      <td>1</td>\n",
       "      <td>1:26.572</td>\n",
       "      <td>1:25.187</td>\n",
       "      <td>1:26.714</td>\n",
       "    </tr>\n",
       "    <tr>\n",
       "      <th>1</th>\n",
       "      <td>2</td>\n",
       "      <td>18</td>\n",
       "      <td>9</td>\n",
       "      <td>2</td>\n",
       "      <td>4</td>\n",
       "      <td>2</td>\n",
       "      <td>1:26.103</td>\n",
       "      <td>1:25.315</td>\n",
       "      <td>1:26.869</td>\n",
       "    </tr>\n",
       "    <tr>\n",
       "      <th>2</th>\n",
       "      <td>3</td>\n",
       "      <td>18</td>\n",
       "      <td>5</td>\n",
       "      <td>1</td>\n",
       "      <td>23</td>\n",
       "      <td>3</td>\n",
       "      <td>1:25.664</td>\n",
       "      <td>1:25.452</td>\n",
       "      <td>1:27.079</td>\n",
       "    </tr>\n",
       "    <tr>\n",
       "      <th>3</th>\n",
       "      <td>4</td>\n",
       "      <td>18</td>\n",
       "      <td>13</td>\n",
       "      <td>6</td>\n",
       "      <td>2</td>\n",
       "      <td>4</td>\n",
       "      <td>1:25.994</td>\n",
       "      <td>1:25.691</td>\n",
       "      <td>1:27.178</td>\n",
       "    </tr>\n",
       "    <tr>\n",
       "      <th>4</th>\n",
       "      <td>5</td>\n",
       "      <td>18</td>\n",
       "      <td>2</td>\n",
       "      <td>2</td>\n",
       "      <td>3</td>\n",
       "      <td>5</td>\n",
       "      <td>1:25.960</td>\n",
       "      <td>1:25.518</td>\n",
       "      <td>1:27.236</td>\n",
       "    </tr>\n",
       "    <tr>\n",
       "      <th>...</th>\n",
       "      <td>...</td>\n",
       "      <td>...</td>\n",
       "      <td>...</td>\n",
       "      <td>...</td>\n",
       "      <td>...</td>\n",
       "      <td>...</td>\n",
       "      <td>...</td>\n",
       "      <td>...</td>\n",
       "      <td>...</td>\n",
       "    </tr>\n",
       "    <tr>\n",
       "      <th>8689</th>\n",
       "      <td>8730</td>\n",
       "      <td>1047</td>\n",
       "      <td>8</td>\n",
       "      <td>51</td>\n",
       "      <td>7</td>\n",
       "      <td>16</td>\n",
       "      <td>1:37.555</td>\n",
       "      <td>NaN</td>\n",
       "      <td>NaN</td>\n",
       "    </tr>\n",
       "    <tr>\n",
       "      <th>8690</th>\n",
       "      <td>8731</td>\n",
       "      <td>1047</td>\n",
       "      <td>825</td>\n",
       "      <td>210</td>\n",
       "      <td>20</td>\n",
       "      <td>17</td>\n",
       "      <td>1:37.863</td>\n",
       "      <td>NaN</td>\n",
       "      <td>NaN</td>\n",
       "    </tr>\n",
       "    <tr>\n",
       "      <th>8691</th>\n",
       "      <td>8732</td>\n",
       "      <td>1047</td>\n",
       "      <td>847</td>\n",
       "      <td>3</td>\n",
       "      <td>63</td>\n",
       "      <td>18</td>\n",
       "      <td>1:38.045</td>\n",
       "      <td>NaN</td>\n",
       "      <td>NaN</td>\n",
       "    </tr>\n",
       "    <tr>\n",
       "      <th>8692</th>\n",
       "      <td>8733</td>\n",
       "      <td>1047</td>\n",
       "      <td>850</td>\n",
       "      <td>210</td>\n",
       "      <td>51</td>\n",
       "      <td>19</td>\n",
       "      <td>1:38.173</td>\n",
       "      <td>NaN</td>\n",
       "      <td>NaN</td>\n",
       "    </tr>\n",
       "    <tr>\n",
       "      <th>8693</th>\n",
       "      <td>8734</td>\n",
       "      <td>1047</td>\n",
       "      <td>849</td>\n",
       "      <td>3</td>\n",
       "      <td>6</td>\n",
       "      <td>20</td>\n",
       "      <td>1:38.443</td>\n",
       "      <td>NaN</td>\n",
       "      <td>NaN</td>\n",
       "    </tr>\n",
       "  </tbody>\n",
       "</table>\n",
       "<p>8694 rows × 9 columns</p>\n",
       "</div>"
      ],
      "text/plain": [
       "      qualifyId  raceId  driverId  constructorId  number  position        q1  \\\n",
       "0             1      18         1              1      22         1  1:26.572   \n",
       "1             2      18         9              2       4         2  1:26.103   \n",
       "2             3      18         5              1      23         3  1:25.664   \n",
       "3             4      18        13              6       2         4  1:25.994   \n",
       "4             5      18         2              2       3         5  1:25.960   \n",
       "...         ...     ...       ...            ...     ...       ...       ...   \n",
       "8689       8730    1047         8             51       7        16  1:37.555   \n",
       "8690       8731    1047       825            210      20        17  1:37.863   \n",
       "8691       8732    1047       847              3      63        18  1:38.045   \n",
       "8692       8733    1047       850            210      51        19  1:38.173   \n",
       "8693       8734    1047       849              3       6        20  1:38.443   \n",
       "\n",
       "            q2        q3  \n",
       "0     1:25.187  1:26.714  \n",
       "1     1:25.315  1:26.869  \n",
       "2     1:25.452  1:27.079  \n",
       "3     1:25.691  1:27.178  \n",
       "4     1:25.518  1:27.236  \n",
       "...        ...       ...  \n",
       "8689       NaN       NaN  \n",
       "8690       NaN       NaN  \n",
       "8691       NaN       NaN  \n",
       "8692       NaN       NaN  \n",
       "8693       NaN       NaN  \n",
       "\n",
       "[8694 rows x 9 columns]"
      ]
     },
     "execution_count": 133,
     "metadata": {},
     "output_type": "execute_result"
    },
    {
     "data": {
      "application/javascript": [
       "\n",
       "            setTimeout(function() {\n",
       "                var nbb_cell_id = 133;\n",
       "                var nbb_unformatted_code = \"qualifying_concat\";\n",
       "                var nbb_formatted_code = \"qualifying_concat\";\n",
       "                var nbb_cells = Jupyter.notebook.get_cells();\n",
       "                for (var i = 0; i < nbb_cells.length; ++i) {\n",
       "                    if (nbb_cells[i].input_prompt_number == nbb_cell_id) {\n",
       "                        if (nbb_cells[i].get_text() == nbb_unformatted_code) {\n",
       "                             nbb_cells[i].set_text(nbb_formatted_code);\n",
       "                        }\n",
       "                        break;\n",
       "                    }\n",
       "                }\n",
       "            }, 500);\n",
       "            "
      ],
      "text/plain": [
       "<IPython.core.display.Javascript object>"
      ]
     },
     "metadata": {},
     "output_type": "display_data"
    }
   ],
   "source": [
    "qualifying_concat"
   ]
  },
  {
   "cell_type": "code",
   "execution_count": 134,
   "id": "bae3c175",
   "metadata": {},
   "outputs": [
    {
     "data": {
      "application/javascript": [
       "\n",
       "            setTimeout(function() {\n",
       "                var nbb_cell_id = 134;\n",
       "                var nbb_unformatted_code = \"qualifying_concat.to_csv(\\\"Datawarehouse/qualifying.csv\\\", index=False)\";\n",
       "                var nbb_formatted_code = \"qualifying_concat.to_csv(\\\"Datawarehouse/qualifying.csv\\\", index=False)\";\n",
       "                var nbb_cells = Jupyter.notebook.get_cells();\n",
       "                for (var i = 0; i < nbb_cells.length; ++i) {\n",
       "                    if (nbb_cells[i].input_prompt_number == nbb_cell_id) {\n",
       "                        if (nbb_cells[i].get_text() == nbb_unformatted_code) {\n",
       "                             nbb_cells[i].set_text(nbb_formatted_code);\n",
       "                        }\n",
       "                        break;\n",
       "                    }\n",
       "                }\n",
       "            }, 500);\n",
       "            "
      ],
      "text/plain": [
       "<IPython.core.display.Javascript object>"
      ]
     },
     "metadata": {},
     "output_type": "display_data"
    }
   ],
   "source": [
    "qualifying_concat.to_csv(\"Datawarehouse/qualifying.csv\", index=False)"
   ]
  },
  {
   "cell_type": "markdown",
   "id": "a35f8183",
   "metadata": {},
   "source": [
    "## lap_times_split"
   ]
  },
  {
   "cell_type": "code",
   "execution_count": 135,
   "id": "8262584c",
   "metadata": {},
   "outputs": [
    {
     "data": {
      "application/javascript": [
       "\n",
       "            setTimeout(function() {\n",
       "                var nbb_cell_id = 135;\n",
       "                var nbb_unformatted_code = \"all_files = glob.glob(\\\"Datasets/lap_times/*.csv\\\")\\nlap_times_df = pd.concat(\\n    (\\n        pd.read_csv(\\n            f,\\n            header=None,\\n            names=[\\\"raceId\\\", \\\"driverId\\\", \\\"lab\\\", \\\"position\\\", \\\"time\\\", \\\"milliseconds\\\"],\\n        )\\n        for f in all_files\\n    )\\n)\";\n",
       "                var nbb_formatted_code = \"all_files = glob.glob(\\\"Datasets/lap_times/*.csv\\\")\\nlap_times_df = pd.concat(\\n    (\\n        pd.read_csv(\\n            f,\\n            header=None,\\n            names=[\\\"raceId\\\", \\\"driverId\\\", \\\"lab\\\", \\\"position\\\", \\\"time\\\", \\\"milliseconds\\\"],\\n        )\\n        for f in all_files\\n    )\\n)\";\n",
       "                var nbb_cells = Jupyter.notebook.get_cells();\n",
       "                for (var i = 0; i < nbb_cells.length; ++i) {\n",
       "                    if (nbb_cells[i].input_prompt_number == nbb_cell_id) {\n",
       "                        if (nbb_cells[i].get_text() == nbb_unformatted_code) {\n",
       "                             nbb_cells[i].set_text(nbb_formatted_code);\n",
       "                        }\n",
       "                        break;\n",
       "                    }\n",
       "                }\n",
       "            }, 500);\n",
       "            "
      ],
      "text/plain": [
       "<IPython.core.display.Javascript object>"
      ]
     },
     "metadata": {},
     "output_type": "display_data"
    }
   ],
   "source": [
    "all_files = glob.glob(\"Datasets/lap_times/*.csv\")\n",
    "lap_times_df = pd.concat(\n",
    "    (\n",
    "        pd.read_csv(\n",
    "            f,\n",
    "            header=None,\n",
    "            names=[\"raceId\", \"driverId\", \"lab\", \"position\", \"time\", \"milliseconds\"],\n",
    "        )\n",
    "        for f in all_files\n",
    "    )\n",
    ")"
   ]
  },
  {
   "cell_type": "code",
   "execution_count": 136,
   "id": "aa72d482",
   "metadata": {},
   "outputs": [
    {
     "data": {
      "text/html": [
       "<div>\n",
       "<style scoped>\n",
       "    .dataframe tbody tr th:only-of-type {\n",
       "        vertical-align: middle;\n",
       "    }\n",
       "\n",
       "    .dataframe tbody tr th {\n",
       "        vertical-align: top;\n",
       "    }\n",
       "\n",
       "    .dataframe thead th {\n",
       "        text-align: right;\n",
       "    }\n",
       "</style>\n",
       "<table border=\"1\" class=\"dataframe\">\n",
       "  <thead>\n",
       "    <tr style=\"text-align: right;\">\n",
       "      <th></th>\n",
       "      <th>raceId</th>\n",
       "      <th>driverId</th>\n",
       "      <th>lab</th>\n",
       "      <th>position</th>\n",
       "      <th>time</th>\n",
       "      <th>milliseconds</th>\n",
       "    </tr>\n",
       "  </thead>\n",
       "  <tbody>\n",
       "    <tr>\n",
       "      <th>53520</th>\n",
       "      <td>883</td>\n",
       "      <td>823</td>\n",
       "      <td>5</td>\n",
       "      <td>20</td>\n",
       "      <td>1:43.363</td>\n",
       "      <td>103363</td>\n",
       "    </tr>\n",
       "    <tr>\n",
       "      <th>21001</th>\n",
       "      <td>132</td>\n",
       "      <td>30</td>\n",
       "      <td>15</td>\n",
       "      <td>2</td>\n",
       "      <td>1:33.918</td>\n",
       "      <td>93918</td>\n",
       "    </tr>\n",
       "    <tr>\n",
       "      <th>82314</th>\n",
       "      <td>1040</td>\n",
       "      <td>825</td>\n",
       "      <td>31</td>\n",
       "      <td>12</td>\n",
       "      <td>1:41.295</td>\n",
       "      <td>101295</td>\n",
       "    </tr>\n",
       "    <tr>\n",
       "      <th>4371</th>\n",
       "      <td>149</td>\n",
       "      <td>8</td>\n",
       "      <td>3</td>\n",
       "      <td>9</td>\n",
       "      <td>1:21.871</td>\n",
       "      <td>81871</td>\n",
       "    </tr>\n",
       "    <tr>\n",
       "      <th>77311</th>\n",
       "      <td>351</td>\n",
       "      <td>67</td>\n",
       "      <td>12</td>\n",
       "      <td>16</td>\n",
       "      <td>1:56.638</td>\n",
       "      <td>116638</td>\n",
       "    </tr>\n",
       "  </tbody>\n",
       "</table>\n",
       "</div>"
      ],
      "text/plain": [
       "       raceId  driverId  lab  position      time  milliseconds\n",
       "53520     883       823    5        20  1:43.363        103363\n",
       "21001     132        30   15         2  1:33.918         93918\n",
       "82314    1040       825   31        12  1:41.295        101295\n",
       "4371      149         8    3         9  1:21.871         81871\n",
       "77311     351        67   12        16  1:56.638        116638"
      ]
     },
     "execution_count": 136,
     "metadata": {},
     "output_type": "execute_result"
    },
    {
     "data": {
      "application/javascript": [
       "\n",
       "            setTimeout(function() {\n",
       "                var nbb_cell_id = 136;\n",
       "                var nbb_unformatted_code = \"lap_times_df.sample(5)\";\n",
       "                var nbb_formatted_code = \"lap_times_df.sample(5)\";\n",
       "                var nbb_cells = Jupyter.notebook.get_cells();\n",
       "                for (var i = 0; i < nbb_cells.length; ++i) {\n",
       "                    if (nbb_cells[i].input_prompt_number == nbb_cell_id) {\n",
       "                        if (nbb_cells[i].get_text() == nbb_unformatted_code) {\n",
       "                             nbb_cells[i].set_text(nbb_formatted_code);\n",
       "                        }\n",
       "                        break;\n",
       "                    }\n",
       "                }\n",
       "            }, 500);\n",
       "            "
      ],
      "text/plain": [
       "<IPython.core.display.Javascript object>"
      ]
     },
     "metadata": {},
     "output_type": "display_data"
    }
   ],
   "source": [
    "lap_times_df.sample(5)"
   ]
  },
  {
   "cell_type": "code",
   "execution_count": 137,
   "id": "02f81577",
   "metadata": {},
   "outputs": [
    {
     "name": "stdout",
     "output_type": "stream",
     "text": [
      "<class 'pandas.core.frame.DataFrame'>\n",
      "Int64Index: 490904 entries, 0 to 90904\n",
      "Data columns (total 6 columns):\n",
      " #   Column        Non-Null Count   Dtype \n",
      "---  ------        --------------   ----- \n",
      " 0   raceId        490904 non-null  int64 \n",
      " 1   driverId      490904 non-null  int64 \n",
      " 2   lab           490904 non-null  int64 \n",
      " 3   position      490904 non-null  int64 \n",
      " 4   time          490904 non-null  object\n",
      " 5   milliseconds  490904 non-null  int64 \n",
      "dtypes: int64(5), object(1)\n",
      "memory usage: 26.2+ MB\n"
     ]
    },
    {
     "data": {
      "application/javascript": [
       "\n",
       "            setTimeout(function() {\n",
       "                var nbb_cell_id = 137;\n",
       "                var nbb_unformatted_code = \"lap_times_df.info()\";\n",
       "                var nbb_formatted_code = \"lap_times_df.info()\";\n",
       "                var nbb_cells = Jupyter.notebook.get_cells();\n",
       "                for (var i = 0; i < nbb_cells.length; ++i) {\n",
       "                    if (nbb_cells[i].input_prompt_number == nbb_cell_id) {\n",
       "                        if (nbb_cells[i].get_text() == nbb_unformatted_code) {\n",
       "                             nbb_cells[i].set_text(nbb_formatted_code);\n",
       "                        }\n",
       "                        break;\n",
       "                    }\n",
       "                }\n",
       "            }, 500);\n",
       "            "
      ],
      "text/plain": [
       "<IPython.core.display.Javascript object>"
      ]
     },
     "metadata": {},
     "output_type": "display_data"
    }
   ],
   "source": [
    "lap_times_df.info()"
   ]
  },
  {
   "cell_type": "code",
   "execution_count": 138,
   "id": "e7fb8c34",
   "metadata": {},
   "outputs": [
    {
     "data": {
      "application/javascript": [
       "\n",
       "            setTimeout(function() {\n",
       "                var nbb_cell_id = 138;\n",
       "                var nbb_unformatted_code = \"lap_times_df.to_csv(\\\"Datawarehouse/lap_times.csv\\\", index=False)\";\n",
       "                var nbb_formatted_code = \"lap_times_df.to_csv(\\\"Datawarehouse/lap_times.csv\\\", index=False)\";\n",
       "                var nbb_cells = Jupyter.notebook.get_cells();\n",
       "                for (var i = 0; i < nbb_cells.length; ++i) {\n",
       "                    if (nbb_cells[i].input_prompt_number == nbb_cell_id) {\n",
       "                        if (nbb_cells[i].get_text() == nbb_unformatted_code) {\n",
       "                             nbb_cells[i].set_text(nbb_formatted_code);\n",
       "                        }\n",
       "                        break;\n",
       "                    }\n",
       "                }\n",
       "            }, 500);\n",
       "            "
      ],
      "text/plain": [
       "<IPython.core.display.Javascript object>"
      ]
     },
     "metadata": {},
     "output_type": "display_data"
    }
   ],
   "source": [
    "lap_times_df.to_csv(\"Datawarehouse/lap_times.csv\", index=False)"
   ]
  },
  {
   "cell_type": "markdown",
   "id": "b0ac4c13",
   "metadata": {},
   "source": [
    "> After cleaning, write new CSV files for each dataframe constructor, then ingest all CSV fdata by using pandas to_sql if the file exists, lest replace it and set the index to false."
   ]
  },
  {
   "cell_type": "markdown",
   "id": "413859c0",
   "metadata": {},
   "source": [
    "## Ingest data"
   ]
  },
  {
   "cell_type": "code",
   "execution_count": 139,
   "id": "213de1cf",
   "metadata": {},
   "outputs": [
    {
     "data": {
      "application/javascript": [
       "\n",
       "            setTimeout(function() {\n",
       "                var nbb_cell_id = 139;\n",
       "                var nbb_unformatted_code = \"conn = sqlite3.connect(\\\"sql_app.db\\\")\";\n",
       "                var nbb_formatted_code = \"conn = sqlite3.connect(\\\"sql_app.db\\\")\";\n",
       "                var nbb_cells = Jupyter.notebook.get_cells();\n",
       "                for (var i = 0; i < nbb_cells.length; ++i) {\n",
       "                    if (nbb_cells[i].input_prompt_number == nbb_cell_id) {\n",
       "                        if (nbb_cells[i].get_text() == nbb_unformatted_code) {\n",
       "                             nbb_cells[i].set_text(nbb_formatted_code);\n",
       "                        }\n",
       "                        break;\n",
       "                    }\n",
       "                }\n",
       "            }, 500);\n",
       "            "
      ],
      "text/plain": [
       "<IPython.core.display.Javascript object>"
      ]
     },
     "metadata": {},
     "output_type": "display_data"
    }
   ],
   "source": [
    "conn = sqlite3.connect(\"sql_app.db\")"
   ]
  },
  {
   "cell_type": "code",
   "execution_count": 140,
   "id": "b7a51c90",
   "metadata": {},
   "outputs": [
    {
     "data": {
      "text/plain": [
       "77"
      ]
     },
     "execution_count": 140,
     "metadata": {},
     "output_type": "execute_result"
    },
    {
     "data": {
      "application/javascript": [
       "\n",
       "            setTimeout(function() {\n",
       "                var nbb_cell_id = 140;\n",
       "                var nbb_unformatted_code = \"circuit_df = pd.read_csv(\\\"Datawarehouse/circuits.csv\\\")\\ncircuit_df.to_sql(\\\"circuit\\\", conn, if_exists=\\\"replace\\\", index=False)\";\n",
       "                var nbb_formatted_code = \"circuit_df = pd.read_csv(\\\"Datawarehouse/circuits.csv\\\")\\ncircuit_df.to_sql(\\\"circuit\\\", conn, if_exists=\\\"replace\\\", index=False)\";\n",
       "                var nbb_cells = Jupyter.notebook.get_cells();\n",
       "                for (var i = 0; i < nbb_cells.length; ++i) {\n",
       "                    if (nbb_cells[i].input_prompt_number == nbb_cell_id) {\n",
       "                        if (nbb_cells[i].get_text() == nbb_unformatted_code) {\n",
       "                             nbb_cells[i].set_text(nbb_formatted_code);\n",
       "                        }\n",
       "                        break;\n",
       "                    }\n",
       "                }\n",
       "            }, 500);\n",
       "            "
      ],
      "text/plain": [
       "<IPython.core.display.Javascript object>"
      ]
     },
     "metadata": {},
     "output_type": "display_data"
    }
   ],
   "source": [
    "circuit_df = pd.read_csv(\"Datawarehouse/circuits.csv\")\n",
    "circuit_df.to_sql(\"circuit\", conn, if_exists=\"replace\", index=False)"
   ]
  },
  {
   "cell_type": "code",
   "execution_count": 141,
   "id": "7cf7e2d6",
   "metadata": {},
   "outputs": [
    {
     "data": {
      "text/plain": [
       "211"
      ]
     },
     "execution_count": 141,
     "metadata": {},
     "output_type": "execute_result"
    },
    {
     "data": {
      "application/javascript": [
       "\n",
       "            setTimeout(function() {\n",
       "                var nbb_cell_id = 141;\n",
       "                var nbb_unformatted_code = \"constructor_df = pd.read_csv(\\\"Datawarehouse/constructors.csv\\\")\\nconstructor_df.to_sql(\\\"constructor\\\", conn, if_exists=\\\"replace\\\", index=False)\";\n",
       "                var nbb_formatted_code = \"constructor_df = pd.read_csv(\\\"Datawarehouse/constructors.csv\\\")\\nconstructor_df.to_sql(\\\"constructor\\\", conn, if_exists=\\\"replace\\\", index=False)\";\n",
       "                var nbb_cells = Jupyter.notebook.get_cells();\n",
       "                for (var i = 0; i < nbb_cells.length; ++i) {\n",
       "                    if (nbb_cells[i].input_prompt_number == nbb_cell_id) {\n",
       "                        if (nbb_cells[i].get_text() == nbb_unformatted_code) {\n",
       "                             nbb_cells[i].set_text(nbb_formatted_code);\n",
       "                        }\n",
       "                        break;\n",
       "                    }\n",
       "                }\n",
       "            }, 500);\n",
       "            "
      ],
      "text/plain": [
       "<IPython.core.display.Javascript object>"
      ]
     },
     "metadata": {},
     "output_type": "display_data"
    }
   ],
   "source": [
    "constructor_df = pd.read_csv(\"Datawarehouse/constructors.csv\")\n",
    "constructor_df.to_sql(\"constructor\", conn, if_exists=\"replace\", index=False)"
   ]
  },
  {
   "cell_type": "code",
   "execution_count": 142,
   "id": "e43ca64a",
   "metadata": {},
   "outputs": [
    {
     "data": {
      "text/plain": [
       "853"
      ]
     },
     "execution_count": 142,
     "metadata": {},
     "output_type": "execute_result"
    },
    {
     "data": {
      "application/javascript": [
       "\n",
       "            setTimeout(function() {\n",
       "                var nbb_cell_id = 142;\n",
       "                var nbb_unformatted_code = \"driver_df = pd.read_csv(\\\"Datawarehouse/drivers.csv\\\")\\ndriver_df.to_sql(\\\"driver\\\", conn, if_exists=\\\"replace\\\", index=False)\";\n",
       "                var nbb_formatted_code = \"driver_df = pd.read_csv(\\\"Datawarehouse/drivers.csv\\\")\\ndriver_df.to_sql(\\\"driver\\\", conn, if_exists=\\\"replace\\\", index=False)\";\n",
       "                var nbb_cells = Jupyter.notebook.get_cells();\n",
       "                for (var i = 0; i < nbb_cells.length; ++i) {\n",
       "                    if (nbb_cells[i].input_prompt_number == nbb_cell_id) {\n",
       "                        if (nbb_cells[i].get_text() == nbb_unformatted_code) {\n",
       "                             nbb_cells[i].set_text(nbb_formatted_code);\n",
       "                        }\n",
       "                        break;\n",
       "                    }\n",
       "                }\n",
       "            }, 500);\n",
       "            "
      ],
      "text/plain": [
       "<IPython.core.display.Javascript object>"
      ]
     },
     "metadata": {},
     "output_type": "display_data"
    }
   ],
   "source": [
    "driver_df = pd.read_csv(\"Datawarehouse/drivers.csv\")\n",
    "driver_df.to_sql(\"driver\", conn, if_exists=\"replace\", index=False)"
   ]
  },
  {
   "cell_type": "code",
   "execution_count": 143,
   "id": "0c0e104a",
   "metadata": {},
   "outputs": [
    {
     "data": {
      "text/plain": [
       "8030"
      ]
     },
     "execution_count": 143,
     "metadata": {},
     "output_type": "execute_result"
    },
    {
     "data": {
      "application/javascript": [
       "\n",
       "            setTimeout(function() {\n",
       "                var nbb_cell_id = 143;\n",
       "                var nbb_unformatted_code = \"pit_stop_df = pd.read_csv(\\\"Datawarehouse/pit_stops.csv\\\")\\npit_stop_df.to_sql(\\\"pitstop\\\", conn, if_exists=\\\"replace\\\", index=False)\";\n",
       "                var nbb_formatted_code = \"pit_stop_df = pd.read_csv(\\\"Datawarehouse/pit_stops.csv\\\")\\npit_stop_df.to_sql(\\\"pitstop\\\", conn, if_exists=\\\"replace\\\", index=False)\";\n",
       "                var nbb_cells = Jupyter.notebook.get_cells();\n",
       "                for (var i = 0; i < nbb_cells.length; ++i) {\n",
       "                    if (nbb_cells[i].input_prompt_number == nbb_cell_id) {\n",
       "                        if (nbb_cells[i].get_text() == nbb_unformatted_code) {\n",
       "                             nbb_cells[i].set_text(nbb_formatted_code);\n",
       "                        }\n",
       "                        break;\n",
       "                    }\n",
       "                }\n",
       "            }, 500);\n",
       "            "
      ],
      "text/plain": [
       "<IPython.core.display.Javascript object>"
      ]
     },
     "metadata": {},
     "output_type": "display_data"
    }
   ],
   "source": [
    "pit_stop_df = pd.read_csv(\"Datawarehouse/pit_stops.csv\")\n",
    "pit_stop_df.to_sql(\"pitstop\", conn, if_exists=\"replace\", index=False)"
   ]
  },
  {
   "cell_type": "code",
   "execution_count": 144,
   "id": "8f783f65",
   "metadata": {},
   "outputs": [
    {
     "data": {
      "text/plain": [
       "1058"
      ]
     },
     "execution_count": 144,
     "metadata": {},
     "output_type": "execute_result"
    },
    {
     "data": {
      "application/javascript": [
       "\n",
       "            setTimeout(function() {\n",
       "                var nbb_cell_id = 144;\n",
       "                var nbb_unformatted_code = \"race_df = pd.read_csv(\\\"Datawarehouse/races.csv\\\")\\nrace_df.to_sql(\\\"race\\\", conn, if_exists=\\\"replace\\\", index=False)\";\n",
       "                var nbb_formatted_code = \"race_df = pd.read_csv(\\\"Datawarehouse/races.csv\\\")\\nrace_df.to_sql(\\\"race\\\", conn, if_exists=\\\"replace\\\", index=False)\";\n",
       "                var nbb_cells = Jupyter.notebook.get_cells();\n",
       "                for (var i = 0; i < nbb_cells.length; ++i) {\n",
       "                    if (nbb_cells[i].input_prompt_number == nbb_cell_id) {\n",
       "                        if (nbb_cells[i].get_text() == nbb_unformatted_code) {\n",
       "                             nbb_cells[i].set_text(nbb_formatted_code);\n",
       "                        }\n",
       "                        break;\n",
       "                    }\n",
       "                }\n",
       "            }, 500);\n",
       "            "
      ],
      "text/plain": [
       "<IPython.core.display.Javascript object>"
      ]
     },
     "metadata": {},
     "output_type": "display_data"
    }
   ],
   "source": [
    "race_df = pd.read_csv(\"Datawarehouse/races.csv\")\n",
    "race_df.to_sql(\"race\", conn, if_exists=\"replace\", index=False)"
   ]
  },
  {
   "cell_type": "code",
   "execution_count": 145,
   "id": "6322dab3",
   "metadata": {},
   "outputs": [
    {
     "data": {
      "text/plain": [
       "24960"
      ]
     },
     "execution_count": 145,
     "metadata": {},
     "output_type": "execute_result"
    },
    {
     "data": {
      "application/javascript": [
       "\n",
       "            setTimeout(function() {\n",
       "                var nbb_cell_id = 145;\n",
       "                var nbb_unformatted_code = \"result_df = pd.read_csv(\\\"Datawarehouse/results.csv\\\")\\nresult_df.to_sql(\\\"result\\\", conn, if_exists=\\\"replace\\\", index=False)\";\n",
       "                var nbb_formatted_code = \"result_df = pd.read_csv(\\\"Datawarehouse/results.csv\\\")\\nresult_df.to_sql(\\\"result\\\", conn, if_exists=\\\"replace\\\", index=False)\";\n",
       "                var nbb_cells = Jupyter.notebook.get_cells();\n",
       "                for (var i = 0; i < nbb_cells.length; ++i) {\n",
       "                    if (nbb_cells[i].input_prompt_number == nbb_cell_id) {\n",
       "                        if (nbb_cells[i].get_text() == nbb_unformatted_code) {\n",
       "                             nbb_cells[i].set_text(nbb_formatted_code);\n",
       "                        }\n",
       "                        break;\n",
       "                    }\n",
       "                }\n",
       "            }, 500);\n",
       "            "
      ],
      "text/plain": [
       "<IPython.core.display.Javascript object>"
      ]
     },
     "metadata": {},
     "output_type": "display_data"
    }
   ],
   "source": [
    "result_df = pd.read_csv(\"Datawarehouse/results.csv\")\n",
    "result_df.to_sql(\"result\", conn, if_exists=\"replace\", index=False)"
   ]
  },
  {
   "cell_type": "code",
   "execution_count": 146,
   "id": "6ba19607",
   "metadata": {},
   "outputs": [
    {
     "data": {
      "text/plain": [
       "8694"
      ]
     },
     "execution_count": 146,
     "metadata": {},
     "output_type": "execute_result"
    },
    {
     "data": {
      "application/javascript": [
       "\n",
       "            setTimeout(function() {\n",
       "                var nbb_cell_id = 146;\n",
       "                var nbb_unformatted_code = \"qualifying_df = pd.read_csv(\\\"Datawarehouse/qualifying.csv\\\")\\nqualifying_df.to_sql(\\\"qualifying\\\", conn, if_exists=\\\"replace\\\", index=False)\";\n",
       "                var nbb_formatted_code = \"qualifying_df = pd.read_csv(\\\"Datawarehouse/qualifying.csv\\\")\\nqualifying_df.to_sql(\\\"qualifying\\\", conn, if_exists=\\\"replace\\\", index=False)\";\n",
       "                var nbb_cells = Jupyter.notebook.get_cells();\n",
       "                for (var i = 0; i < nbb_cells.length; ++i) {\n",
       "                    if (nbb_cells[i].input_prompt_number == nbb_cell_id) {\n",
       "                        if (nbb_cells[i].get_text() == nbb_unformatted_code) {\n",
       "                             nbb_cells[i].set_text(nbb_formatted_code);\n",
       "                        }\n",
       "                        break;\n",
       "                    }\n",
       "                }\n",
       "            }, 500);\n",
       "            "
      ],
      "text/plain": [
       "<IPython.core.display.Javascript object>"
      ]
     },
     "metadata": {},
     "output_type": "display_data"
    }
   ],
   "source": [
    "qualifying_df = pd.read_csv(\"Datawarehouse/qualifying.csv\")\n",
    "qualifying_df.to_sql(\"qualifying\", conn, if_exists=\"replace\", index=False)"
   ]
  },
  {
   "cell_type": "code",
   "execution_count": 147,
   "id": "bda37eb1",
   "metadata": {},
   "outputs": [
    {
     "data": {
      "text/plain": [
       "490904"
      ]
     },
     "execution_count": 147,
     "metadata": {},
     "output_type": "execute_result"
    },
    {
     "data": {
      "application/javascript": [
       "\n",
       "            setTimeout(function() {\n",
       "                var nbb_cell_id = 147;\n",
       "                var nbb_unformatted_code = \"lab_time_df = pd.read_csv(\\\"Datawarehouse/lap_times.csv\\\")\\nlab_time_df.to_sql(\\\"labtimessplit\\\", conn, if_exists=\\\"replace\\\", index=False)\";\n",
       "                var nbb_formatted_code = \"lab_time_df = pd.read_csv(\\\"Datawarehouse/lap_times.csv\\\")\\nlab_time_df.to_sql(\\\"labtimessplit\\\", conn, if_exists=\\\"replace\\\", index=False)\";\n",
       "                var nbb_cells = Jupyter.notebook.get_cells();\n",
       "                for (var i = 0; i < nbb_cells.length; ++i) {\n",
       "                    if (nbb_cells[i].input_prompt_number == nbb_cell_id) {\n",
       "                        if (nbb_cells[i].get_text() == nbb_unformatted_code) {\n",
       "                             nbb_cells[i].set_text(nbb_formatted_code);\n",
       "                        }\n",
       "                        break;\n",
       "                    }\n",
       "                }\n",
       "            }, 500);\n",
       "            "
      ],
      "text/plain": [
       "<IPython.core.display.Javascript object>"
      ]
     },
     "metadata": {},
     "output_type": "display_data"
    }
   ],
   "source": [
    "lab_time_df = pd.read_csv(\"Datawarehouse/lap_times.csv\")\n",
    "lab_time_df.to_sql(\"labtimessplit\", conn, if_exists=\"replace\", index=False)"
   ]
  },
  {
   "cell_type": "code",
   "execution_count": null,
   "id": "7fe0b64f",
   "metadata": {},
   "outputs": [],
   "source": []
  }
 ],
 "metadata": {
  "kernelspec": {
   "display_name": "Python 3 (ipykernel)",
   "language": "python",
   "name": "python3"
  },
  "language_info": {
   "codemirror_mode": {
    "name": "ipython",
    "version": 3
   },
   "file_extension": ".py",
   "mimetype": "text/x-python",
   "name": "python",
   "nbconvert_exporter": "python",
   "pygments_lexer": "ipython3",
   "version": "3.8.10"
  }
 },
 "nbformat": 4,
 "nbformat_minor": 5
}
