{
 "cells": [
  {
   "cell_type": "code",
   "execution_count": 3,
   "id": "13f6a9b5",
   "metadata": {},
   "outputs": [
    {
     "data": {
      "application/javascript": [
       "\n",
       "            setTimeout(function() {\n",
       "                var nbb_cell_id = 3;\n",
       "                var nbb_unformatted_code = \"# Python black formater for notebook\\n%load_ext nb_black\";\n",
       "                var nbb_formatted_code = \"# Python black formater for notebook\\n%load_ext nb_black\";\n",
       "                var nbb_cells = Jupyter.notebook.get_cells();\n",
       "                for (var i = 0; i < nbb_cells.length; ++i) {\n",
       "                    if (nbb_cells[i].input_prompt_number == nbb_cell_id) {\n",
       "                        if (nbb_cells[i].get_text() == nbb_unformatted_code) {\n",
       "                             nbb_cells[i].set_text(nbb_formatted_code);\n",
       "                        }\n",
       "                        break;\n",
       "                    }\n",
       "                }\n",
       "            }, 500);\n",
       "            "
      ],
      "text/plain": [
       "<IPython.core.display.Javascript object>"
      ]
     },
     "metadata": {},
     "output_type": "display_data"
    }
   ],
   "source": [
    "# Python black formater for notebook\n",
    "%load_ext nb_black"
   ]
  },
  {
   "cell_type": "markdown",
   "id": "781a9677",
   "metadata": {},
   "source": [
    "# ETL\n",
    "We are going to extract multiple data sources from the Dataset folder (csv & json), clean and transform those files into csv format to integrate and process into a Postgrestql database. "
   ]
  },
  {
   "cell_type": "code",
   "execution_count": 4,
   "id": "6b0d390d",
   "metadata": {},
   "outputs": [
    {
     "data": {
      "application/javascript": [
       "\n",
       "            setTimeout(function() {\n",
       "                var nbb_cell_id = 4;\n",
       "                var nbb_unformatted_code = \"# Importing modules\\nimport numpy as np\\nimport pandas as pd\\nimport matplotlib.pyplot as plt\\nimport json\\nimport os\\nimport glob\\nimport sqlite3\";\n",
       "                var nbb_formatted_code = \"# Importing modules\\nimport numpy as np\\nimport pandas as pd\\nimport matplotlib.pyplot as plt\\nimport json\\nimport os\\nimport glob\\nimport sqlite3\";\n",
       "                var nbb_cells = Jupyter.notebook.get_cells();\n",
       "                for (var i = 0; i < nbb_cells.length; ++i) {\n",
       "                    if (nbb_cells[i].input_prompt_number == nbb_cell_id) {\n",
       "                        if (nbb_cells[i].get_text() == nbb_unformatted_code) {\n",
       "                             nbb_cells[i].set_text(nbb_formatted_code);\n",
       "                        }\n",
       "                        break;\n",
       "                    }\n",
       "                }\n",
       "            }, 500);\n",
       "            "
      ],
      "text/plain": [
       "<IPython.core.display.Javascript object>"
      ]
     },
     "metadata": {},
     "output_type": "display_data"
    }
   ],
   "source": [
    "# Importing modules\n",
    "import numpy as np\n",
    "import pandas as pd\n",
    "import matplotlib.pyplot as plt\n",
    "import json\n",
    "import os\n",
    "import glob\n",
    "import sqlite3"
   ]
  },
  {
   "cell_type": "markdown",
   "id": "babc7095",
   "metadata": {},
   "source": [
    "## circuits.csv"
   ]
  },
  {
   "cell_type": "code",
   "execution_count": 5,
   "id": "93653f14",
   "metadata": {},
   "outputs": [
    {
     "data": {
      "application/javascript": [
       "\n",
       "            setTimeout(function() {\n",
       "                var nbb_cell_id = 5;\n",
       "                var nbb_unformatted_code = \"circuits_df = pd.read_csv(\\\"Datasets/circuits.csv\\\")\";\n",
       "                var nbb_formatted_code = \"circuits_df = pd.read_csv(\\\"Datasets/circuits.csv\\\")\";\n",
       "                var nbb_cells = Jupyter.notebook.get_cells();\n",
       "                for (var i = 0; i < nbb_cells.length; ++i) {\n",
       "                    if (nbb_cells[i].input_prompt_number == nbb_cell_id) {\n",
       "                        if (nbb_cells[i].get_text() == nbb_unformatted_code) {\n",
       "                             nbb_cells[i].set_text(nbb_formatted_code);\n",
       "                        }\n",
       "                        break;\n",
       "                    }\n",
       "                }\n",
       "            }, 500);\n",
       "            "
      ],
      "text/plain": [
       "<IPython.core.display.Javascript object>"
      ]
     },
     "metadata": {},
     "output_type": "display_data"
    }
   ],
   "source": [
    "circuits_df = pd.read_csv(\"Datasets/circuits.csv\")"
   ]
  },
  {
   "cell_type": "code",
   "execution_count": 6,
   "id": "fb8054cb",
   "metadata": {},
   "outputs": [
    {
     "data": {
      "text/html": [
       "<div>\n",
       "<style scoped>\n",
       "    .dataframe tbody tr th:only-of-type {\n",
       "        vertical-align: middle;\n",
       "    }\n",
       "\n",
       "    .dataframe tbody tr th {\n",
       "        vertical-align: top;\n",
       "    }\n",
       "\n",
       "    .dataframe thead th {\n",
       "        text-align: right;\n",
       "    }\n",
       "</style>\n",
       "<table border=\"1\" class=\"dataframe\">\n",
       "  <thead>\n",
       "    <tr style=\"text-align: right;\">\n",
       "      <th></th>\n",
       "      <th>circuitId</th>\n",
       "      <th>circuitRef</th>\n",
       "      <th>name</th>\n",
       "      <th>location</th>\n",
       "      <th>country</th>\n",
       "      <th>lat</th>\n",
       "      <th>lng</th>\n",
       "      <th>alt</th>\n",
       "      <th>url</th>\n",
       "    </tr>\n",
       "  </thead>\n",
       "  <tbody>\n",
       "    <tr>\n",
       "      <th>44</th>\n",
       "      <td>45</td>\n",
       "      <td>jarama</td>\n",
       "      <td>Jarama</td>\n",
       "      <td>Madrid</td>\n",
       "      <td>Spain</td>\n",
       "      <td>40.6171</td>\n",
       "      <td>-3.585580</td>\n",
       "      <td>609</td>\n",
       "      <td>http://en.wikipedia.org/wiki/Circuito_Permanen...</td>\n",
       "    </tr>\n",
       "    <tr>\n",
       "      <th>59</th>\n",
       "      <td>60</td>\n",
       "      <td>riverside</td>\n",
       "      <td>Riverside International Raceway</td>\n",
       "      <td>California</td>\n",
       "      <td>USA</td>\n",
       "      <td>33.9370</td>\n",
       "      <td>-117.273000</td>\n",
       "      <td>470</td>\n",
       "      <td>http://en.wikipedia.org/wiki/Riverside_Interna...</td>\n",
       "    </tr>\n",
       "    <tr>\n",
       "      <th>76</th>\n",
       "      <td>77</td>\n",
       "      <td>jeddah</td>\n",
       "      <td>Jeddah Street Circuit</td>\n",
       "      <td>Jeddah</td>\n",
       "      <td>Saudi Arabia</td>\n",
       "      <td>21.5433</td>\n",
       "      <td>39.172800</td>\n",
       "      <td>15</td>\n",
       "      <td>http://en.wikipedia.org/wiki/Jeddah_Street_Cir...</td>\n",
       "    </tr>\n",
       "    <tr>\n",
       "      <th>3</th>\n",
       "      <td>4</td>\n",
       "      <td>catalunya</td>\n",
       "      <td>Circuit de Barcelona-Catalunya</td>\n",
       "      <td>Montmeló</td>\n",
       "      <td>Spain</td>\n",
       "      <td>41.5700</td>\n",
       "      <td>2.261110</td>\n",
       "      <td>109</td>\n",
       "      <td>http://en.wikipedia.org/wiki/Circuit_de_Barcel...</td>\n",
       "    </tr>\n",
       "    <tr>\n",
       "      <th>71</th>\n",
       "      <td>72</td>\n",
       "      <td>port_imperial</td>\n",
       "      <td>Port Imperial Street Circuit</td>\n",
       "      <td>New Jersey</td>\n",
       "      <td>USA</td>\n",
       "      <td>40.7769</td>\n",
       "      <td>-74.011100</td>\n",
       "      <td>4</td>\n",
       "      <td>http://en.wikipedia.org/wiki/Port_Imperial_Str...</td>\n",
       "    </tr>\n",
       "    <tr>\n",
       "      <th>75</th>\n",
       "      <td>76</td>\n",
       "      <td>mugello</td>\n",
       "      <td>Autodromo Internazionale del Mugello</td>\n",
       "      <td>Mugello</td>\n",
       "      <td>Italy</td>\n",
       "      <td>43.9975</td>\n",
       "      <td>11.371900</td>\n",
       "      <td>255</td>\n",
       "      <td>http://en.wikipedia.org/wiki/Mugello_Circuit</td>\n",
       "    </tr>\n",
       "    <tr>\n",
       "      <th>74</th>\n",
       "      <td>75</td>\n",
       "      <td>portimao</td>\n",
       "      <td>Autódromo Internacional do Algarve</td>\n",
       "      <td>Portimão</td>\n",
       "      <td>Portugal</td>\n",
       "      <td>37.2270</td>\n",
       "      <td>-8.626700</td>\n",
       "      <td>108</td>\n",
       "      <td>http://en.wikipedia.org/wiki/Algarve_Internati...</td>\n",
       "    </tr>\n",
       "    <tr>\n",
       "      <th>37</th>\n",
       "      <td>38</td>\n",
       "      <td>brands_hatch</td>\n",
       "      <td>Brands Hatch</td>\n",
       "      <td>Kent</td>\n",
       "      <td>UK</td>\n",
       "      <td>51.3569</td>\n",
       "      <td>0.263056</td>\n",
       "      <td>145</td>\n",
       "      <td>http://en.wikipedia.org/wiki/Brands_Hatch</td>\n",
       "    </tr>\n",
       "    <tr>\n",
       "      <th>5</th>\n",
       "      <td>6</td>\n",
       "      <td>monaco</td>\n",
       "      <td>Circuit de Monaco</td>\n",
       "      <td>Monte-Carlo</td>\n",
       "      <td>Monaco</td>\n",
       "      <td>43.7347</td>\n",
       "      <td>7.420560</td>\n",
       "      <td>7</td>\n",
       "      <td>http://en.wikipedia.org/wiki/Circuit_de_Monaco</td>\n",
       "    </tr>\n",
       "    <tr>\n",
       "      <th>0</th>\n",
       "      <td>1</td>\n",
       "      <td>albert_park</td>\n",
       "      <td>Albert Park Grand Prix Circuit</td>\n",
       "      <td>Melbourne</td>\n",
       "      <td>Australia</td>\n",
       "      <td>-37.8497</td>\n",
       "      <td>144.968000</td>\n",
       "      <td>10</td>\n",
       "      <td>http://en.wikipedia.org/wiki/Melbourne_Grand_P...</td>\n",
       "    </tr>\n",
       "  </tbody>\n",
       "</table>\n",
       "</div>"
      ],
      "text/plain": [
       "    circuitId     circuitRef                                  name  \\\n",
       "44         45         jarama                                Jarama   \n",
       "59         60      riverside       Riverside International Raceway   \n",
       "76         77         jeddah                 Jeddah Street Circuit   \n",
       "3           4      catalunya        Circuit de Barcelona-Catalunya   \n",
       "71         72  port_imperial          Port Imperial Street Circuit   \n",
       "75         76        mugello  Autodromo Internazionale del Mugello   \n",
       "74         75       portimao    Autódromo Internacional do Algarve   \n",
       "37         38   brands_hatch                          Brands Hatch   \n",
       "5           6         monaco                     Circuit de Monaco   \n",
       "0           1    albert_park        Albert Park Grand Prix Circuit   \n",
       "\n",
       "       location       country      lat         lng  alt  \\\n",
       "44       Madrid         Spain  40.6171   -3.585580  609   \n",
       "59   California           USA  33.9370 -117.273000  470   \n",
       "76       Jeddah  Saudi Arabia  21.5433   39.172800   15   \n",
       "3      Montmeló         Spain  41.5700    2.261110  109   \n",
       "71   New Jersey           USA  40.7769  -74.011100    4   \n",
       "75      Mugello         Italy  43.9975   11.371900  255   \n",
       "74     Portimão      Portugal  37.2270   -8.626700  108   \n",
       "37         Kent            UK  51.3569    0.263056  145   \n",
       "5   Monte-Carlo        Monaco  43.7347    7.420560    7   \n",
       "0     Melbourne     Australia -37.8497  144.968000   10   \n",
       "\n",
       "                                                  url  \n",
       "44  http://en.wikipedia.org/wiki/Circuito_Permanen...  \n",
       "59  http://en.wikipedia.org/wiki/Riverside_Interna...  \n",
       "76  http://en.wikipedia.org/wiki/Jeddah_Street_Cir...  \n",
       "3   http://en.wikipedia.org/wiki/Circuit_de_Barcel...  \n",
       "71  http://en.wikipedia.org/wiki/Port_Imperial_Str...  \n",
       "75       http://en.wikipedia.org/wiki/Mugello_Circuit  \n",
       "74  http://en.wikipedia.org/wiki/Algarve_Internati...  \n",
       "37          http://en.wikipedia.org/wiki/Brands_Hatch  \n",
       "5      http://en.wikipedia.org/wiki/Circuit_de_Monaco  \n",
       "0   http://en.wikipedia.org/wiki/Melbourne_Grand_P...  "
      ]
     },
     "execution_count": 6,
     "metadata": {},
     "output_type": "execute_result"
    },
    {
     "data": {
      "application/javascript": [
       "\n",
       "            setTimeout(function() {\n",
       "                var nbb_cell_id = 6;\n",
       "                var nbb_unformatted_code = \"circuits_df.sample(10)\";\n",
       "                var nbb_formatted_code = \"circuits_df.sample(10)\";\n",
       "                var nbb_cells = Jupyter.notebook.get_cells();\n",
       "                for (var i = 0; i < nbb_cells.length; ++i) {\n",
       "                    if (nbb_cells[i].input_prompt_number == nbb_cell_id) {\n",
       "                        if (nbb_cells[i].get_text() == nbb_unformatted_code) {\n",
       "                             nbb_cells[i].set_text(nbb_formatted_code);\n",
       "                        }\n",
       "                        break;\n",
       "                    }\n",
       "                }\n",
       "            }, 500);\n",
       "            "
      ],
      "text/plain": [
       "<IPython.core.display.Javascript object>"
      ]
     },
     "metadata": {},
     "output_type": "display_data"
    }
   ],
   "source": [
    "circuits_df.sample(10)"
   ]
  },
  {
   "cell_type": "code",
   "execution_count": 7,
   "id": "74f952ff",
   "metadata": {},
   "outputs": [
    {
     "name": "stdout",
     "output_type": "stream",
     "text": [
      "<class 'pandas.core.frame.DataFrame'>\n",
      "RangeIndex: 77 entries, 0 to 76\n",
      "Data columns (total 9 columns):\n",
      " #   Column      Non-Null Count  Dtype  \n",
      "---  ------      --------------  -----  \n",
      " 0   circuitId   77 non-null     int64  \n",
      " 1   circuitRef  77 non-null     object \n",
      " 2   name        77 non-null     object \n",
      " 3   location    77 non-null     object \n",
      " 4   country     77 non-null     object \n",
      " 5   lat         77 non-null     float64\n",
      " 6   lng         77 non-null     float64\n",
      " 7   alt         77 non-null     int64  \n",
      " 8   url         77 non-null     object \n",
      "dtypes: float64(2), int64(2), object(5)\n",
      "memory usage: 5.5+ KB\n"
     ]
    },
    {
     "data": {
      "application/javascript": [
       "\n",
       "            setTimeout(function() {\n",
       "                var nbb_cell_id = 7;\n",
       "                var nbb_unformatted_code = \"circuits_df.info()\";\n",
       "                var nbb_formatted_code = \"circuits_df.info()\";\n",
       "                var nbb_cells = Jupyter.notebook.get_cells();\n",
       "                for (var i = 0; i < nbb_cells.length; ++i) {\n",
       "                    if (nbb_cells[i].input_prompt_number == nbb_cell_id) {\n",
       "                        if (nbb_cells[i].get_text() == nbb_unformatted_code) {\n",
       "                             nbb_cells[i].set_text(nbb_formatted_code);\n",
       "                        }\n",
       "                        break;\n",
       "                    }\n",
       "                }\n",
       "            }, 500);\n",
       "            "
      ],
      "text/plain": [
       "<IPython.core.display.Javascript object>"
      ]
     },
     "metadata": {},
     "output_type": "display_data"
    }
   ],
   "source": [
    "circuits_df.info()"
   ]
  },
  {
   "cell_type": "code",
   "execution_count": 8,
   "id": "9a574c56",
   "metadata": {},
   "outputs": [
    {
     "data": {
      "text/plain": [
       "circuitId     0\n",
       "circuitRef    0\n",
       "name          0\n",
       "location      0\n",
       "country       0\n",
       "lat           0\n",
       "lng           0\n",
       "alt           0\n",
       "url           0\n",
       "dtype: int64"
      ]
     },
     "execution_count": 8,
     "metadata": {},
     "output_type": "execute_result"
    },
    {
     "data": {
      "application/javascript": [
       "\n",
       "            setTimeout(function() {\n",
       "                var nbb_cell_id = 8;\n",
       "                var nbb_unformatted_code = \"circuits_df.isnull().sum()\";\n",
       "                var nbb_formatted_code = \"circuits_df.isnull().sum()\";\n",
       "                var nbb_cells = Jupyter.notebook.get_cells();\n",
       "                for (var i = 0; i < nbb_cells.length; ++i) {\n",
       "                    if (nbb_cells[i].input_prompt_number == nbb_cell_id) {\n",
       "                        if (nbb_cells[i].get_text() == nbb_unformatted_code) {\n",
       "                             nbb_cells[i].set_text(nbb_formatted_code);\n",
       "                        }\n",
       "                        break;\n",
       "                    }\n",
       "                }\n",
       "            }, 500);\n",
       "            "
      ],
      "text/plain": [
       "<IPython.core.display.Javascript object>"
      ]
     },
     "metadata": {},
     "output_type": "display_data"
    }
   ],
   "source": [
    "circuits_df.isnull().sum()"
   ]
  },
  {
   "cell_type": "code",
   "execution_count": 9,
   "id": "48b72c93",
   "metadata": {},
   "outputs": [
    {
     "data": {
      "application/javascript": [
       "\n",
       "            setTimeout(function() {\n",
       "                var nbb_cell_id = 9;\n",
       "                var nbb_unformatted_code = \"circuits_df.to_csv(\\\"Datawarehouse/circuits.csv\\\", index=False)\";\n",
       "                var nbb_formatted_code = \"circuits_df.to_csv(\\\"Datawarehouse/circuits.csv\\\", index=False)\";\n",
       "                var nbb_cells = Jupyter.notebook.get_cells();\n",
       "                for (var i = 0; i < nbb_cells.length; ++i) {\n",
       "                    if (nbb_cells[i].input_prompt_number == nbb_cell_id) {\n",
       "                        if (nbb_cells[i].get_text() == nbb_unformatted_code) {\n",
       "                             nbb_cells[i].set_text(nbb_formatted_code);\n",
       "                        }\n",
       "                        break;\n",
       "                    }\n",
       "                }\n",
       "            }, 500);\n",
       "            "
      ],
      "text/plain": [
       "<IPython.core.display.Javascript object>"
      ]
     },
     "metadata": {},
     "output_type": "display_data"
    }
   ],
   "source": [
    "circuits_df.to_csv(\"Datawarehouse/circuits.csv\", index=False)"
   ]
  },
  {
   "cell_type": "markdown",
   "id": "bd1932ee",
   "metadata": {},
   "source": [
    "## constructors.json"
   ]
  },
  {
   "cell_type": "code",
   "execution_count": 10,
   "id": "3932f688",
   "metadata": {},
   "outputs": [
    {
     "data": {
      "application/javascript": [
       "\n",
       "            setTimeout(function() {\n",
       "                var nbb_cell_id = 10;\n",
       "                var nbb_unformatted_code = \"constructors_df = pd.read_json(\\\"Datasets/constructors.json\\\", lines=True)\";\n",
       "                var nbb_formatted_code = \"constructors_df = pd.read_json(\\\"Datasets/constructors.json\\\", lines=True)\";\n",
       "                var nbb_cells = Jupyter.notebook.get_cells();\n",
       "                for (var i = 0; i < nbb_cells.length; ++i) {\n",
       "                    if (nbb_cells[i].input_prompt_number == nbb_cell_id) {\n",
       "                        if (nbb_cells[i].get_text() == nbb_unformatted_code) {\n",
       "                             nbb_cells[i].set_text(nbb_formatted_code);\n",
       "                        }\n",
       "                        break;\n",
       "                    }\n",
       "                }\n",
       "            }, 500);\n",
       "            "
      ],
      "text/plain": [
       "<IPython.core.display.Javascript object>"
      ]
     },
     "metadata": {},
     "output_type": "display_data"
    }
   ],
   "source": [
    "constructors_df = pd.read_json(\"Datasets/constructors.json\", lines=True)"
   ]
  },
  {
   "cell_type": "code",
   "execution_count": 11,
   "id": "a375345e",
   "metadata": {},
   "outputs": [
    {
     "data": {
      "text/html": [
       "<div>\n",
       "<style scoped>\n",
       "    .dataframe tbody tr th:only-of-type {\n",
       "        vertical-align: middle;\n",
       "    }\n",
       "\n",
       "    .dataframe tbody tr th {\n",
       "        vertical-align: top;\n",
       "    }\n",
       "\n",
       "    .dataframe thead th {\n",
       "        text-align: right;\n",
       "    }\n",
       "</style>\n",
       "<table border=\"1\" class=\"dataframe\">\n",
       "  <thead>\n",
       "    <tr style=\"text-align: right;\">\n",
       "      <th></th>\n",
       "      <th>constructorId</th>\n",
       "      <th>constructorRef</th>\n",
       "      <th>name</th>\n",
       "      <th>nationality</th>\n",
       "      <th>url</th>\n",
       "    </tr>\n",
       "  </thead>\n",
       "  <tbody>\n",
       "    <tr>\n",
       "      <th>76</th>\n",
       "      <td>78</td>\n",
       "      <td>amon</td>\n",
       "      <td>Amon</td>\n",
       "      <td>New Zealand</td>\n",
       "      <td>http://en.wikipedia.org/wiki/Amon_(Formula_One...</td>\n",
       "    </tr>\n",
       "    <tr>\n",
       "      <th>24</th>\n",
       "      <td>25</td>\n",
       "      <td>tyrrell</td>\n",
       "      <td>Tyrrell</td>\n",
       "      <td>British</td>\n",
       "      <td>http://en.wikipedia.org/wiki/Tyrrell_Racing</td>\n",
       "    </tr>\n",
       "    <tr>\n",
       "      <th>31</th>\n",
       "      <td>32</td>\n",
       "      <td>team_lotus</td>\n",
       "      <td>Team Lotus</td>\n",
       "      <td>British</td>\n",
       "      <td>http://en.wikipedia.org/wiki/Team_Lotus</td>\n",
       "    </tr>\n",
       "    <tr>\n",
       "      <th>147</th>\n",
       "      <td>149</td>\n",
       "      <td>sherman</td>\n",
       "      <td>Sherman</td>\n",
       "      <td>American</td>\n",
       "      <td>http://en.wikipedia.org/wiki/Sherman_(construc...</td>\n",
       "    </tr>\n",
       "    <tr>\n",
       "      <th>92</th>\n",
       "      <td>94</td>\n",
       "      <td>brp</td>\n",
       "      <td>BRP</td>\n",
       "      <td>British</td>\n",
       "      <td>http://en.wikipedia.org/wiki/British_Racing_Pa...</td>\n",
       "    </tr>\n",
       "    <tr>\n",
       "      <th>140</th>\n",
       "      <td>142</td>\n",
       "      <td>turner</td>\n",
       "      <td>Turner</td>\n",
       "      <td>American</td>\n",
       "      <td>http://en.wikipedia.org/wiki/Turner_(constructor)</td>\n",
       "    </tr>\n",
       "    <tr>\n",
       "      <th>25</th>\n",
       "      <td>26</td>\n",
       "      <td>lola</td>\n",
       "      <td>Lola</td>\n",
       "      <td>British</td>\n",
       "      <td>http://en.wikipedia.org/wiki/MasterCard_Lola</td>\n",
       "    </tr>\n",
       "    <tr>\n",
       "      <th>132</th>\n",
       "      <td>134</td>\n",
       "      <td>schroeder</td>\n",
       "      <td>Schroeder</td>\n",
       "      <td>American</td>\n",
       "      <td>http://en.wikipedia.org/wiki/Schroeder_(constr...</td>\n",
       "    </tr>\n",
       "    <tr>\n",
       "      <th>89</th>\n",
       "      <td>91</td>\n",
       "      <td>shannon</td>\n",
       "      <td>Shannon</td>\n",
       "      <td>British</td>\n",
       "      <td>http://en.wikipedia.org/wiki/Shannon_(Formula_...</td>\n",
       "    </tr>\n",
       "    <tr>\n",
       "      <th>206</th>\n",
       "      <td>209</td>\n",
       "      <td>manor</td>\n",
       "      <td>Manor Marussia</td>\n",
       "      <td>British</td>\n",
       "      <td>http://en.wikipedia.org/wiki/Manor_Motorsport</td>\n",
       "    </tr>\n",
       "  </tbody>\n",
       "</table>\n",
       "</div>"
      ],
      "text/plain": [
       "     constructorId constructorRef            name  nationality  \\\n",
       "76              78           amon            Amon  New Zealand   \n",
       "24              25        tyrrell         Tyrrell      British   \n",
       "31              32     team_lotus      Team Lotus      British   \n",
       "147            149        sherman         Sherman     American   \n",
       "92              94            brp             BRP      British   \n",
       "140            142         turner          Turner     American   \n",
       "25              26           lola            Lola      British   \n",
       "132            134      schroeder       Schroeder     American   \n",
       "89              91        shannon         Shannon      British   \n",
       "206            209          manor  Manor Marussia      British   \n",
       "\n",
       "                                                   url  \n",
       "76   http://en.wikipedia.org/wiki/Amon_(Formula_One...  \n",
       "24         http://en.wikipedia.org/wiki/Tyrrell_Racing  \n",
       "31             http://en.wikipedia.org/wiki/Team_Lotus  \n",
       "147  http://en.wikipedia.org/wiki/Sherman_(construc...  \n",
       "92   http://en.wikipedia.org/wiki/British_Racing_Pa...  \n",
       "140  http://en.wikipedia.org/wiki/Turner_(constructor)  \n",
       "25        http://en.wikipedia.org/wiki/MasterCard_Lola  \n",
       "132  http://en.wikipedia.org/wiki/Schroeder_(constr...  \n",
       "89   http://en.wikipedia.org/wiki/Shannon_(Formula_...  \n",
       "206      http://en.wikipedia.org/wiki/Manor_Motorsport  "
      ]
     },
     "execution_count": 11,
     "metadata": {},
     "output_type": "execute_result"
    },
    {
     "data": {
      "application/javascript": [
       "\n",
       "            setTimeout(function() {\n",
       "                var nbb_cell_id = 11;\n",
       "                var nbb_unformatted_code = \"constructors_df.sample(10)\";\n",
       "                var nbb_formatted_code = \"constructors_df.sample(10)\";\n",
       "                var nbb_cells = Jupyter.notebook.get_cells();\n",
       "                for (var i = 0; i < nbb_cells.length; ++i) {\n",
       "                    if (nbb_cells[i].input_prompt_number == nbb_cell_id) {\n",
       "                        if (nbb_cells[i].get_text() == nbb_unformatted_code) {\n",
       "                             nbb_cells[i].set_text(nbb_formatted_code);\n",
       "                        }\n",
       "                        break;\n",
       "                    }\n",
       "                }\n",
       "            }, 500);\n",
       "            "
      ],
      "text/plain": [
       "<IPython.core.display.Javascript object>"
      ]
     },
     "metadata": {},
     "output_type": "display_data"
    }
   ],
   "source": [
    "constructors_df.sample(10)"
   ]
  },
  {
   "cell_type": "code",
   "execution_count": 12,
   "id": "76b60091",
   "metadata": {},
   "outputs": [
    {
     "name": "stdout",
     "output_type": "stream",
     "text": [
      "<class 'pandas.core.frame.DataFrame'>\n",
      "RangeIndex: 211 entries, 0 to 210\n",
      "Data columns (total 5 columns):\n",
      " #   Column          Non-Null Count  Dtype \n",
      "---  ------          --------------  ----- \n",
      " 0   constructorId   211 non-null    int64 \n",
      " 1   constructorRef  211 non-null    object\n",
      " 2   name            211 non-null    object\n",
      " 3   nationality     211 non-null    object\n",
      " 4   url             211 non-null    object\n",
      "dtypes: int64(1), object(4)\n",
      "memory usage: 8.4+ KB\n"
     ]
    },
    {
     "data": {
      "application/javascript": [
       "\n",
       "            setTimeout(function() {\n",
       "                var nbb_cell_id = 12;\n",
       "                var nbb_unformatted_code = \"constructors_df.info()\";\n",
       "                var nbb_formatted_code = \"constructors_df.info()\";\n",
       "                var nbb_cells = Jupyter.notebook.get_cells();\n",
       "                for (var i = 0; i < nbb_cells.length; ++i) {\n",
       "                    if (nbb_cells[i].input_prompt_number == nbb_cell_id) {\n",
       "                        if (nbb_cells[i].get_text() == nbb_unformatted_code) {\n",
       "                             nbb_cells[i].set_text(nbb_formatted_code);\n",
       "                        }\n",
       "                        break;\n",
       "                    }\n",
       "                }\n",
       "            }, 500);\n",
       "            "
      ],
      "text/plain": [
       "<IPython.core.display.Javascript object>"
      ]
     },
     "metadata": {},
     "output_type": "display_data"
    }
   ],
   "source": [
    "constructors_df.info()"
   ]
  },
  {
   "cell_type": "code",
   "execution_count": 13,
   "id": "1cc2d7c5",
   "metadata": {},
   "outputs": [
    {
     "data": {
      "text/plain": [
       "constructorId     0\n",
       "constructorRef    0\n",
       "name              0\n",
       "nationality       0\n",
       "url               0\n",
       "dtype: int64"
      ]
     },
     "execution_count": 13,
     "metadata": {},
     "output_type": "execute_result"
    },
    {
     "data": {
      "application/javascript": [
       "\n",
       "            setTimeout(function() {\n",
       "                var nbb_cell_id = 13;\n",
       "                var nbb_unformatted_code = \"constructors_df.isnull().sum()\";\n",
       "                var nbb_formatted_code = \"constructors_df.isnull().sum()\";\n",
       "                var nbb_cells = Jupyter.notebook.get_cells();\n",
       "                for (var i = 0; i < nbb_cells.length; ++i) {\n",
       "                    if (nbb_cells[i].input_prompt_number == nbb_cell_id) {\n",
       "                        if (nbb_cells[i].get_text() == nbb_unformatted_code) {\n",
       "                             nbb_cells[i].set_text(nbb_formatted_code);\n",
       "                        }\n",
       "                        break;\n",
       "                    }\n",
       "                }\n",
       "            }, 500);\n",
       "            "
      ],
      "text/plain": [
       "<IPython.core.display.Javascript object>"
      ]
     },
     "metadata": {},
     "output_type": "display_data"
    }
   ],
   "source": [
    "constructors_df.isnull().sum()"
   ]
  },
  {
   "cell_type": "code",
   "execution_count": 14,
   "id": "b2974abc",
   "metadata": {},
   "outputs": [
    {
     "data": {
      "application/javascript": [
       "\n",
       "            setTimeout(function() {\n",
       "                var nbb_cell_id = 14;\n",
       "                var nbb_unformatted_code = \"constructors_df.to_csv(\\\"Datawarehouse/constructors.csv\\\", index=False)\";\n",
       "                var nbb_formatted_code = \"constructors_df.to_csv(\\\"Datawarehouse/constructors.csv\\\", index=False)\";\n",
       "                var nbb_cells = Jupyter.notebook.get_cells();\n",
       "                for (var i = 0; i < nbb_cells.length; ++i) {\n",
       "                    if (nbb_cells[i].input_prompt_number == nbb_cell_id) {\n",
       "                        if (nbb_cells[i].get_text() == nbb_unformatted_code) {\n",
       "                             nbb_cells[i].set_text(nbb_formatted_code);\n",
       "                        }\n",
       "                        break;\n",
       "                    }\n",
       "                }\n",
       "            }, 500);\n",
       "            "
      ],
      "text/plain": [
       "<IPython.core.display.Javascript object>"
      ]
     },
     "metadata": {},
     "output_type": "display_data"
    }
   ],
   "source": [
    "constructors_df.to_csv(\"Datawarehouse/constructors.csv\", index=False)"
   ]
  },
  {
   "cell_type": "markdown",
   "id": "c0d14674",
   "metadata": {},
   "source": [
    "## drivers.json"
   ]
  },
  {
   "cell_type": "code",
   "execution_count": 15,
   "id": "053f104f",
   "metadata": {},
   "outputs": [
    {
     "data": {
      "application/javascript": [
       "\n",
       "            setTimeout(function() {\n",
       "                var nbb_cell_id = 15;\n",
       "                var nbb_unformatted_code = \"with open(\\\"Datasets/drivers.json\\\") as json_file:\\n    drivers_data = [json.loads(line) for line in json_file]\\n\\ndrivers_df = pd.json_normalize(drivers_data, sep=\\\"_\\\")\";\n",
       "                var nbb_formatted_code = \"with open(\\\"Datasets/drivers.json\\\") as json_file:\\n    drivers_data = [json.loads(line) for line in json_file]\\n\\ndrivers_df = pd.json_normalize(drivers_data, sep=\\\"_\\\")\";\n",
       "                var nbb_cells = Jupyter.notebook.get_cells();\n",
       "                for (var i = 0; i < nbb_cells.length; ++i) {\n",
       "                    if (nbb_cells[i].input_prompt_number == nbb_cell_id) {\n",
       "                        if (nbb_cells[i].get_text() == nbb_unformatted_code) {\n",
       "                             nbb_cells[i].set_text(nbb_formatted_code);\n",
       "                        }\n",
       "                        break;\n",
       "                    }\n",
       "                }\n",
       "            }, 500);\n",
       "            "
      ],
      "text/plain": [
       "<IPython.core.display.Javascript object>"
      ]
     },
     "metadata": {},
     "output_type": "display_data"
    }
   ],
   "source": [
    "with open(\"Datasets/drivers.json\") as json_file:\n",
    "    drivers_data = [json.loads(line) for line in json_file]\n",
    "\n",
    "drivers_df = pd.json_normalize(drivers_data, sep=\"_\")"
   ]
  },
  {
   "cell_type": "code",
   "execution_count": 16,
   "id": "1aeb585b",
   "metadata": {},
   "outputs": [
    {
     "data": {
      "application/javascript": [
       "\n",
       "            setTimeout(function() {\n",
       "                var nbb_cell_id = 16;\n",
       "                var nbb_unformatted_code = \"drivers_df[\\\"number\\\"].replace(\\\"\\\\\\\\N\\\", np.NaN, inplace=True)\";\n",
       "                var nbb_formatted_code = \"drivers_df[\\\"number\\\"].replace(\\\"\\\\\\\\N\\\", np.NaN, inplace=True)\";\n",
       "                var nbb_cells = Jupyter.notebook.get_cells();\n",
       "                for (var i = 0; i < nbb_cells.length; ++i) {\n",
       "                    if (nbb_cells[i].input_prompt_number == nbb_cell_id) {\n",
       "                        if (nbb_cells[i].get_text() == nbb_unformatted_code) {\n",
       "                             nbb_cells[i].set_text(nbb_formatted_code);\n",
       "                        }\n",
       "                        break;\n",
       "                    }\n",
       "                }\n",
       "            }, 500);\n",
       "            "
      ],
      "text/plain": [
       "<IPython.core.display.Javascript object>"
      ]
     },
     "metadata": {},
     "output_type": "display_data"
    }
   ],
   "source": [
    "drivers_df[\"number\"].replace(\"\\\\N\", np.NaN, inplace=True)"
   ]
  },
  {
   "cell_type": "code",
   "execution_count": 17,
   "id": "8bbe7a98",
   "metadata": {},
   "outputs": [
    {
     "data": {
      "application/javascript": [
       "\n",
       "            setTimeout(function() {\n",
       "                var nbb_cell_id = 17;\n",
       "                var nbb_unformatted_code = \"drivers_df[\\\"code\\\"].replace(\\\"\\\\\\\\N\\\", np.NaN, inplace=True)\";\n",
       "                var nbb_formatted_code = \"drivers_df[\\\"code\\\"].replace(\\\"\\\\\\\\N\\\", np.NaN, inplace=True)\";\n",
       "                var nbb_cells = Jupyter.notebook.get_cells();\n",
       "                for (var i = 0; i < nbb_cells.length; ++i) {\n",
       "                    if (nbb_cells[i].input_prompt_number == nbb_cell_id) {\n",
       "                        if (nbb_cells[i].get_text() == nbb_unformatted_code) {\n",
       "                             nbb_cells[i].set_text(nbb_formatted_code);\n",
       "                        }\n",
       "                        break;\n",
       "                    }\n",
       "                }\n",
       "            }, 500);\n",
       "            "
      ],
      "text/plain": [
       "<IPython.core.display.Javascript object>"
      ]
     },
     "metadata": {},
     "output_type": "display_data"
    }
   ],
   "source": [
    "drivers_df[\"code\"].replace(\"\\\\N\", np.NaN, inplace=True)"
   ]
  },
  {
   "cell_type": "code",
   "execution_count": 18,
   "id": "0a4db23f",
   "metadata": {},
   "outputs": [
    {
     "data": {
      "text/html": [
       "<div>\n",
       "<style scoped>\n",
       "    .dataframe tbody tr th:only-of-type {\n",
       "        vertical-align: middle;\n",
       "    }\n",
       "\n",
       "    .dataframe tbody tr th {\n",
       "        vertical-align: top;\n",
       "    }\n",
       "\n",
       "    .dataframe thead th {\n",
       "        text-align: right;\n",
       "    }\n",
       "</style>\n",
       "<table border=\"1\" class=\"dataframe\">\n",
       "  <thead>\n",
       "    <tr style=\"text-align: right;\">\n",
       "      <th></th>\n",
       "      <th>driverId</th>\n",
       "      <th>driverRef</th>\n",
       "      <th>number</th>\n",
       "      <th>code</th>\n",
       "      <th>dob</th>\n",
       "      <th>nationality</th>\n",
       "      <th>url</th>\n",
       "      <th>name_forename</th>\n",
       "      <th>name_surname</th>\n",
       "    </tr>\n",
       "  </thead>\n",
       "  <tbody>\n",
       "    <tr>\n",
       "      <th>814</th>\n",
       "      <td>815</td>\n",
       "      <td>perez</td>\n",
       "      <td>11.0</td>\n",
       "      <td>PER</td>\n",
       "      <td>1990-01-26</td>\n",
       "      <td>Mexican</td>\n",
       "      <td>http://en.wikipedia.org/wiki/Sergio_P%C3%A9rez</td>\n",
       "      <td>Sergio</td>\n",
       "      <td>Pérez</td>\n",
       "    </tr>\n",
       "    <tr>\n",
       "      <th>664</th>\n",
       "      <td>664</td>\n",
       "      <td>mcalpine</td>\n",
       "      <td>NaN</td>\n",
       "      <td>NaN</td>\n",
       "      <td>1920-09-21</td>\n",
       "      <td>British</td>\n",
       "      <td>http://en.wikipedia.org/wiki/Kenneth_McAlpine</td>\n",
       "      <td>Kenneth</td>\n",
       "      <td>McAlpine</td>\n",
       "    </tr>\n",
       "    <tr>\n",
       "      <th>547</th>\n",
       "      <td>547</td>\n",
       "      <td>gould</td>\n",
       "      <td>NaN</td>\n",
       "      <td>NaN</td>\n",
       "      <td>1918-09-20</td>\n",
       "      <td>British</td>\n",
       "      <td>http://en.wikipedia.org/wiki/Horace_Gould</td>\n",
       "      <td>Horace</td>\n",
       "      <td>Gould</td>\n",
       "    </tr>\n",
       "    <tr>\n",
       "      <th>608</th>\n",
       "      <td>608</td>\n",
       "      <td>castellotti</td>\n",
       "      <td>NaN</td>\n",
       "      <td>NaN</td>\n",
       "      <td>1930-10-10</td>\n",
       "      <td>Italian</td>\n",
       "      <td>http://en.wikipedia.org/wiki/Eugenio_Castellotti</td>\n",
       "      <td>Eugenio</td>\n",
       "      <td>Castellotti</td>\n",
       "    </tr>\n",
       "    <tr>\n",
       "      <th>339</th>\n",
       "      <td>340</td>\n",
       "      <td>love</td>\n",
       "      <td>NaN</td>\n",
       "      <td>NaN</td>\n",
       "      <td>1924-12-07</td>\n",
       "      <td>Rhodesian</td>\n",
       "      <td>http://en.wikipedia.org/wiki/John_Love_(racing...</td>\n",
       "      <td>John</td>\n",
       "      <td>Love</td>\n",
       "    </tr>\n",
       "    <tr>\n",
       "      <th>154</th>\n",
       "      <td>155</td>\n",
       "      <td>kobayashi</td>\n",
       "      <td>10.0</td>\n",
       "      <td>KOB</td>\n",
       "      <td>1986-09-13</td>\n",
       "      <td>Japanese</td>\n",
       "      <td>http://en.wikipedia.org/wiki/Kamui_Kobayashi</td>\n",
       "      <td>Kamui</td>\n",
       "      <td>Kobayashi</td>\n",
       "    </tr>\n",
       "    <tr>\n",
       "      <th>62</th>\n",
       "      <td>63</td>\n",
       "      <td>salo</td>\n",
       "      <td>NaN</td>\n",
       "      <td>NaN</td>\n",
       "      <td>1966-11-30</td>\n",
       "      <td>Finnish</td>\n",
       "      <td>http://en.wikipedia.org/wiki/Mika_Salo</td>\n",
       "      <td>Mika</td>\n",
       "      <td>Salo</td>\n",
       "    </tr>\n",
       "    <tr>\n",
       "      <th>357</th>\n",
       "      <td>358</td>\n",
       "      <td>rindt</td>\n",
       "      <td>NaN</td>\n",
       "      <td>NaN</td>\n",
       "      <td>1942-04-18</td>\n",
       "      <td>Austrian</td>\n",
       "      <td>http://en.wikipedia.org/wiki/Jochen_Rindt</td>\n",
       "      <td>Jochen</td>\n",
       "      <td>Rindt</td>\n",
       "    </tr>\n",
       "    <tr>\n",
       "      <th>158</th>\n",
       "      <td>159</td>\n",
       "      <td>sala</td>\n",
       "      <td>NaN</td>\n",
       "      <td>NaN</td>\n",
       "      <td>1959-05-15</td>\n",
       "      <td>Spanish</td>\n",
       "      <td>http://en.wikipedia.org/wiki/Luis_Perez-Sala</td>\n",
       "      <td>Luis</td>\n",
       "      <td>Pérez-Sala</td>\n",
       "    </tr>\n",
       "    <tr>\n",
       "      <th>802</th>\n",
       "      <td>802</td>\n",
       "      <td>serafini</td>\n",
       "      <td>NaN</td>\n",
       "      <td>NaN</td>\n",
       "      <td>1909-07-22</td>\n",
       "      <td>Italian</td>\n",
       "      <td>http://en.wikipedia.org/wiki/Dorino_Serafini</td>\n",
       "      <td>Dorino</td>\n",
       "      <td>Serafini</td>\n",
       "    </tr>\n",
       "  </tbody>\n",
       "</table>\n",
       "</div>"
      ],
      "text/plain": [
       "     driverId    driverRef  number code         dob nationality  \\\n",
       "814       815        perez    11.0  PER  1990-01-26     Mexican   \n",
       "664       664     mcalpine     NaN  NaN  1920-09-21     British   \n",
       "547       547        gould     NaN  NaN  1918-09-20     British   \n",
       "608       608  castellotti     NaN  NaN  1930-10-10     Italian   \n",
       "339       340         love     NaN  NaN  1924-12-07   Rhodesian   \n",
       "154       155    kobayashi    10.0  KOB  1986-09-13    Japanese   \n",
       "62         63         salo     NaN  NaN  1966-11-30     Finnish   \n",
       "357       358        rindt     NaN  NaN  1942-04-18    Austrian   \n",
       "158       159         sala     NaN  NaN  1959-05-15     Spanish   \n",
       "802       802     serafini     NaN  NaN  1909-07-22     Italian   \n",
       "\n",
       "                                                   url name_forename  \\\n",
       "814     http://en.wikipedia.org/wiki/Sergio_P%C3%A9rez        Sergio   \n",
       "664      http://en.wikipedia.org/wiki/Kenneth_McAlpine       Kenneth   \n",
       "547          http://en.wikipedia.org/wiki/Horace_Gould        Horace   \n",
       "608   http://en.wikipedia.org/wiki/Eugenio_Castellotti       Eugenio   \n",
       "339  http://en.wikipedia.org/wiki/John_Love_(racing...          John   \n",
       "154       http://en.wikipedia.org/wiki/Kamui_Kobayashi         Kamui   \n",
       "62              http://en.wikipedia.org/wiki/Mika_Salo          Mika   \n",
       "357          http://en.wikipedia.org/wiki/Jochen_Rindt        Jochen   \n",
       "158       http://en.wikipedia.org/wiki/Luis_Perez-Sala          Luis   \n",
       "802       http://en.wikipedia.org/wiki/Dorino_Serafini        Dorino   \n",
       "\n",
       "    name_surname  \n",
       "814        Pérez  \n",
       "664     McAlpine  \n",
       "547        Gould  \n",
       "608  Castellotti  \n",
       "339         Love  \n",
       "154    Kobayashi  \n",
       "62          Salo  \n",
       "357        Rindt  \n",
       "158   Pérez-Sala  \n",
       "802     Serafini  "
      ]
     },
     "execution_count": 18,
     "metadata": {},
     "output_type": "execute_result"
    },
    {
     "data": {
      "application/javascript": [
       "\n",
       "            setTimeout(function() {\n",
       "                var nbb_cell_id = 18;\n",
       "                var nbb_unformatted_code = \"drivers_df.sample(10)\";\n",
       "                var nbb_formatted_code = \"drivers_df.sample(10)\";\n",
       "                var nbb_cells = Jupyter.notebook.get_cells();\n",
       "                for (var i = 0; i < nbb_cells.length; ++i) {\n",
       "                    if (nbb_cells[i].input_prompt_number == nbb_cell_id) {\n",
       "                        if (nbb_cells[i].get_text() == nbb_unformatted_code) {\n",
       "                             nbb_cells[i].set_text(nbb_formatted_code);\n",
       "                        }\n",
       "                        break;\n",
       "                    }\n",
       "                }\n",
       "            }, 500);\n",
       "            "
      ],
      "text/plain": [
       "<IPython.core.display.Javascript object>"
      ]
     },
     "metadata": {},
     "output_type": "display_data"
    }
   ],
   "source": [
    "drivers_df.sample(10)"
   ]
  },
  {
   "cell_type": "code",
   "execution_count": 19,
   "id": "4851d611",
   "metadata": {},
   "outputs": [
    {
     "name": "stdout",
     "output_type": "stream",
     "text": [
      "<class 'pandas.core.frame.DataFrame'>\n",
      "RangeIndex: 853 entries, 0 to 852\n",
      "Data columns (total 9 columns):\n",
      " #   Column         Non-Null Count  Dtype  \n",
      "---  ------         --------------  -----  \n",
      " 0   driverId       853 non-null    int64  \n",
      " 1   driverRef      853 non-null    object \n",
      " 2   number         47 non-null     float64\n",
      " 3   code           96 non-null     object \n",
      " 4   dob            853 non-null    object \n",
      " 5   nationality    853 non-null    object \n",
      " 6   url            853 non-null    object \n",
      " 7   name_forename  853 non-null    object \n",
      " 8   name_surname   853 non-null    object \n",
      "dtypes: float64(1), int64(1), object(7)\n",
      "memory usage: 60.1+ KB\n"
     ]
    },
    {
     "data": {
      "application/javascript": [
       "\n",
       "            setTimeout(function() {\n",
       "                var nbb_cell_id = 19;\n",
       "                var nbb_unformatted_code = \"drivers_df.info()\";\n",
       "                var nbb_formatted_code = \"drivers_df.info()\";\n",
       "                var nbb_cells = Jupyter.notebook.get_cells();\n",
       "                for (var i = 0; i < nbb_cells.length; ++i) {\n",
       "                    if (nbb_cells[i].input_prompt_number == nbb_cell_id) {\n",
       "                        if (nbb_cells[i].get_text() == nbb_unformatted_code) {\n",
       "                             nbb_cells[i].set_text(nbb_formatted_code);\n",
       "                        }\n",
       "                        break;\n",
       "                    }\n",
       "                }\n",
       "            }, 500);\n",
       "            "
      ],
      "text/plain": [
       "<IPython.core.display.Javascript object>"
      ]
     },
     "metadata": {},
     "output_type": "display_data"
    }
   ],
   "source": [
    "drivers_df.info()"
   ]
  },
  {
   "cell_type": "code",
   "execution_count": 20,
   "id": "e8617205",
   "metadata": {},
   "outputs": [
    {
     "data": {
      "text/plain": [
       "driverId           0\n",
       "driverRef          0\n",
       "number           806\n",
       "code             757\n",
       "dob                0\n",
       "nationality        0\n",
       "url                0\n",
       "name_forename      0\n",
       "name_surname       0\n",
       "dtype: int64"
      ]
     },
     "execution_count": 20,
     "metadata": {},
     "output_type": "execute_result"
    },
    {
     "data": {
      "application/javascript": [
       "\n",
       "            setTimeout(function() {\n",
       "                var nbb_cell_id = 20;\n",
       "                var nbb_unformatted_code = \"drivers_df.isnull().sum()\";\n",
       "                var nbb_formatted_code = \"drivers_df.isnull().sum()\";\n",
       "                var nbb_cells = Jupyter.notebook.get_cells();\n",
       "                for (var i = 0; i < nbb_cells.length; ++i) {\n",
       "                    if (nbb_cells[i].input_prompt_number == nbb_cell_id) {\n",
       "                        if (nbb_cells[i].get_text() == nbb_unformatted_code) {\n",
       "                             nbb_cells[i].set_text(nbb_formatted_code);\n",
       "                        }\n",
       "                        break;\n",
       "                    }\n",
       "                }\n",
       "            }, 500);\n",
       "            "
      ],
      "text/plain": [
       "<IPython.core.display.Javascript object>"
      ]
     },
     "metadata": {},
     "output_type": "display_data"
    }
   ],
   "source": [
    "drivers_df.isnull().sum()"
   ]
  },
  {
   "cell_type": "code",
   "execution_count": 21,
   "id": "a4307541",
   "metadata": {},
   "outputs": [
    {
     "data": {
      "application/javascript": [
       "\n",
       "            setTimeout(function() {\n",
       "                var nbb_cell_id = 21;\n",
       "                var nbb_unformatted_code = \"drivers_df.to_csv(\\\"Datawarehouse/drivers.csv\\\", index=False)\";\n",
       "                var nbb_formatted_code = \"drivers_df.to_csv(\\\"Datawarehouse/drivers.csv\\\", index=False)\";\n",
       "                var nbb_cells = Jupyter.notebook.get_cells();\n",
       "                for (var i = 0; i < nbb_cells.length; ++i) {\n",
       "                    if (nbb_cells[i].input_prompt_number == nbb_cell_id) {\n",
       "                        if (nbb_cells[i].get_text() == nbb_unformatted_code) {\n",
       "                             nbb_cells[i].set_text(nbb_formatted_code);\n",
       "                        }\n",
       "                        break;\n",
       "                    }\n",
       "                }\n",
       "            }, 500);\n",
       "            "
      ],
      "text/plain": [
       "<IPython.core.display.Javascript object>"
      ]
     },
     "metadata": {},
     "output_type": "display_data"
    }
   ],
   "source": [
    "drivers_df.to_csv(\"Datawarehouse/drivers.csv\", index=False)"
   ]
  },
  {
   "cell_type": "markdown",
   "id": "dcfa0514",
   "metadata": {},
   "source": [
    "## pit_stops.json"
   ]
  },
  {
   "cell_type": "code",
   "execution_count": 22,
   "id": "7056a8ab",
   "metadata": {},
   "outputs": [
    {
     "data": {
      "application/javascript": [
       "\n",
       "            setTimeout(function() {\n",
       "                var nbb_cell_id = 22;\n",
       "                var nbb_unformatted_code = \"pit_stops_df = pd.read_json(\\\"Datasets/pit_stops.json\\\")\";\n",
       "                var nbb_formatted_code = \"pit_stops_df = pd.read_json(\\\"Datasets/pit_stops.json\\\")\";\n",
       "                var nbb_cells = Jupyter.notebook.get_cells();\n",
       "                for (var i = 0; i < nbb_cells.length; ++i) {\n",
       "                    if (nbb_cells[i].input_prompt_number == nbb_cell_id) {\n",
       "                        if (nbb_cells[i].get_text() == nbb_unformatted_code) {\n",
       "                             nbb_cells[i].set_text(nbb_formatted_code);\n",
       "                        }\n",
       "                        break;\n",
       "                    }\n",
       "                }\n",
       "            }, 500);\n",
       "            "
      ],
      "text/plain": [
       "<IPython.core.display.Javascript object>"
      ]
     },
     "metadata": {},
     "output_type": "display_data"
    }
   ],
   "source": [
    "pit_stops_df = pd.read_json(\"Datasets/pit_stops.json\")"
   ]
  },
  {
   "cell_type": "code",
   "execution_count": 23,
   "id": "01a43800",
   "metadata": {},
   "outputs": [
    {
     "data": {
      "text/html": [
       "<div>\n",
       "<style scoped>\n",
       "    .dataframe tbody tr th:only-of-type {\n",
       "        vertical-align: middle;\n",
       "    }\n",
       "\n",
       "    .dataframe tbody tr th {\n",
       "        vertical-align: top;\n",
       "    }\n",
       "\n",
       "    .dataframe thead th {\n",
       "        text-align: right;\n",
       "    }\n",
       "</style>\n",
       "<table border=\"1\" class=\"dataframe\">\n",
       "  <thead>\n",
       "    <tr style=\"text-align: right;\">\n",
       "      <th></th>\n",
       "      <th>raceId</th>\n",
       "      <th>driverId</th>\n",
       "      <th>stop</th>\n",
       "      <th>lap</th>\n",
       "      <th>time</th>\n",
       "      <th>duration</th>\n",
       "      <th>milliseconds</th>\n",
       "    </tr>\n",
       "  </thead>\n",
       "  <tbody>\n",
       "    <tr>\n",
       "      <th>858</th>\n",
       "      <td>855</td>\n",
       "      <td>4</td>\n",
       "      <td>1</td>\n",
       "      <td>10</td>\n",
       "      <td>15:20:34</td>\n",
       "      <td>21.147</td>\n",
       "      <td>21147</td>\n",
       "    </tr>\n",
       "    <tr>\n",
       "      <th>6844</th>\n",
       "      <td>1011</td>\n",
       "      <td>826</td>\n",
       "      <td>2</td>\n",
       "      <td>38</td>\n",
       "      <td>19:16:45</td>\n",
       "      <td>30.761</td>\n",
       "      <td>30761</td>\n",
       "    </tr>\n",
       "    <tr>\n",
       "      <th>3498</th>\n",
       "      <td>911</td>\n",
       "      <td>16</td>\n",
       "      <td>2</td>\n",
       "      <td>21</td>\n",
       "      <td>14:45:40</td>\n",
       "      <td>23.779</td>\n",
       "      <td>23779</td>\n",
       "    </tr>\n",
       "    <tr>\n",
       "      <th>7494</th>\n",
       "      <td>1032</td>\n",
       "      <td>830</td>\n",
       "      <td>2</td>\n",
       "      <td>68</td>\n",
       "      <td>16:32:33</td>\n",
       "      <td>21.091</td>\n",
       "      <td>21091</td>\n",
       "    </tr>\n",
       "    <tr>\n",
       "      <th>7637</th>\n",
       "      <td>1036</td>\n",
       "      <td>822</td>\n",
       "      <td>3</td>\n",
       "      <td>64</td>\n",
       "      <td>16:42:47</td>\n",
       "      <td>22.607</td>\n",
       "      <td>22607</td>\n",
       "    </tr>\n",
       "    <tr>\n",
       "      <th>2447</th>\n",
       "      <td>886</td>\n",
       "      <td>820</td>\n",
       "      <td>1</td>\n",
       "      <td>38</td>\n",
       "      <td>14:55:52</td>\n",
       "      <td>21.374</td>\n",
       "      <td>21374</td>\n",
       "    </tr>\n",
       "    <tr>\n",
       "      <th>4119</th>\n",
       "      <td>934</td>\n",
       "      <td>828</td>\n",
       "      <td>4</td>\n",
       "      <td>42</td>\n",
       "      <td>14:18:36</td>\n",
       "      <td>30.197</td>\n",
       "      <td>30197</td>\n",
       "    </tr>\n",
       "    <tr>\n",
       "      <th>7539</th>\n",
       "      <td>1033</td>\n",
       "      <td>1</td>\n",
       "      <td>3</td>\n",
       "      <td>66</td>\n",
       "      <td>16:43:33</td>\n",
       "      <td>22.426</td>\n",
       "      <td>22426</td>\n",
       "    </tr>\n",
       "    <tr>\n",
       "      <th>2557</th>\n",
       "      <td>888</td>\n",
       "      <td>17</td>\n",
       "      <td>2</td>\n",
       "      <td>23</td>\n",
       "      <td>14:44:15</td>\n",
       "      <td>19.991</td>\n",
       "      <td>19991</td>\n",
       "    </tr>\n",
       "    <tr>\n",
       "      <th>5358</th>\n",
       "      <td>964</td>\n",
       "      <td>815</td>\n",
       "      <td>1</td>\n",
       "      <td>12</td>\n",
       "      <td>14:23:45</td>\n",
       "      <td>23.605</td>\n",
       "      <td>23605</td>\n",
       "    </tr>\n",
       "  </tbody>\n",
       "</table>\n",
       "</div>"
      ],
      "text/plain": [
       "      raceId  driverId  stop  lap      time duration  milliseconds\n",
       "858      855         4     1   10  15:20:34   21.147         21147\n",
       "6844    1011       826     2   38  19:16:45   30.761         30761\n",
       "3498     911        16     2   21  14:45:40   23.779         23779\n",
       "7494    1032       830     2   68  16:32:33   21.091         21091\n",
       "7637    1036       822     3   64  16:42:47   22.607         22607\n",
       "2447     886       820     1   38  14:55:52   21.374         21374\n",
       "4119     934       828     4   42  14:18:36   30.197         30197\n",
       "7539    1033         1     3   66  16:43:33   22.426         22426\n",
       "2557     888        17     2   23  14:44:15   19.991         19991\n",
       "5358     964       815     1   12  14:23:45   23.605         23605"
      ]
     },
     "execution_count": 23,
     "metadata": {},
     "output_type": "execute_result"
    },
    {
     "data": {
      "application/javascript": [
       "\n",
       "            setTimeout(function() {\n",
       "                var nbb_cell_id = 23;\n",
       "                var nbb_unformatted_code = \"pit_stops_df.sample(10)\";\n",
       "                var nbb_formatted_code = \"pit_stops_df.sample(10)\";\n",
       "                var nbb_cells = Jupyter.notebook.get_cells();\n",
       "                for (var i = 0; i < nbb_cells.length; ++i) {\n",
       "                    if (nbb_cells[i].input_prompt_number == nbb_cell_id) {\n",
       "                        if (nbb_cells[i].get_text() == nbb_unformatted_code) {\n",
       "                             nbb_cells[i].set_text(nbb_formatted_code);\n",
       "                        }\n",
       "                        break;\n",
       "                    }\n",
       "                }\n",
       "            }, 500);\n",
       "            "
      ],
      "text/plain": [
       "<IPython.core.display.Javascript object>"
      ]
     },
     "metadata": {},
     "output_type": "display_data"
    }
   ],
   "source": [
    "pit_stops_df.sample(10)"
   ]
  },
  {
   "cell_type": "code",
   "execution_count": 24,
   "id": "d0789064",
   "metadata": {},
   "outputs": [
    {
     "name": "stdout",
     "output_type": "stream",
     "text": [
      "<class 'pandas.core.frame.DataFrame'>\n",
      "RangeIndex: 8030 entries, 0 to 8029\n",
      "Data columns (total 7 columns):\n",
      " #   Column        Non-Null Count  Dtype \n",
      "---  ------        --------------  ----- \n",
      " 0   raceId        8030 non-null   int64 \n",
      " 1   driverId      8030 non-null   int64 \n",
      " 2   stop          8030 non-null   int64 \n",
      " 3   lap           8030 non-null   int64 \n",
      " 4   time          8030 non-null   object\n",
      " 5   duration      8030 non-null   object\n",
      " 6   milliseconds  8030 non-null   int64 \n",
      "dtypes: int64(5), object(2)\n",
      "memory usage: 439.3+ KB\n"
     ]
    },
    {
     "data": {
      "application/javascript": [
       "\n",
       "            setTimeout(function() {\n",
       "                var nbb_cell_id = 24;\n",
       "                var nbb_unformatted_code = \"pit_stops_df.info()\";\n",
       "                var nbb_formatted_code = \"pit_stops_df.info()\";\n",
       "                var nbb_cells = Jupyter.notebook.get_cells();\n",
       "                for (var i = 0; i < nbb_cells.length; ++i) {\n",
       "                    if (nbb_cells[i].input_prompt_number == nbb_cell_id) {\n",
       "                        if (nbb_cells[i].get_text() == nbb_unformatted_code) {\n",
       "                             nbb_cells[i].set_text(nbb_formatted_code);\n",
       "                        }\n",
       "                        break;\n",
       "                    }\n",
       "                }\n",
       "            }, 500);\n",
       "            "
      ],
      "text/plain": [
       "<IPython.core.display.Javascript object>"
      ]
     },
     "metadata": {},
     "output_type": "display_data"
    }
   ],
   "source": [
    "pit_stops_df.info()"
   ]
  },
  {
   "cell_type": "code",
   "execution_count": 25,
   "id": "49a31a7d",
   "metadata": {},
   "outputs": [
    {
     "data": {
      "application/javascript": [
       "\n",
       "            setTimeout(function() {\n",
       "                var nbb_cell_id = 25;\n",
       "                var nbb_unformatted_code = \"pit_stops_df[\\\"duration\\\"] = pd.to_timedelta(\\n    pit_stops_df[\\\"milliseconds\\\"],\\n    unit=\\\"ms\\\",\\n)\";\n",
       "                var nbb_formatted_code = \"pit_stops_df[\\\"duration\\\"] = pd.to_timedelta(\\n    pit_stops_df[\\\"milliseconds\\\"],\\n    unit=\\\"ms\\\",\\n)\";\n",
       "                var nbb_cells = Jupyter.notebook.get_cells();\n",
       "                for (var i = 0; i < nbb_cells.length; ++i) {\n",
       "                    if (nbb_cells[i].input_prompt_number == nbb_cell_id) {\n",
       "                        if (nbb_cells[i].get_text() == nbb_unformatted_code) {\n",
       "                             nbb_cells[i].set_text(nbb_formatted_code);\n",
       "                        }\n",
       "                        break;\n",
       "                    }\n",
       "                }\n",
       "            }, 500);\n",
       "            "
      ],
      "text/plain": [
       "<IPython.core.display.Javascript object>"
      ]
     },
     "metadata": {},
     "output_type": "display_data"
    }
   ],
   "source": [
    "pit_stops_df[\"duration\"] = pd.to_timedelta(\n",
    "    pit_stops_df[\"milliseconds\"],\n",
    "    unit=\"ms\",\n",
    ")"
   ]
  },
  {
   "cell_type": "code",
   "execution_count": 26,
   "id": "b15b0cd6",
   "metadata": {},
   "outputs": [
    {
     "data": {
      "text/html": [
       "<div>\n",
       "<style scoped>\n",
       "    .dataframe tbody tr th:only-of-type {\n",
       "        vertical-align: middle;\n",
       "    }\n",
       "\n",
       "    .dataframe tbody tr th {\n",
       "        vertical-align: top;\n",
       "    }\n",
       "\n",
       "    .dataframe thead th {\n",
       "        text-align: right;\n",
       "    }\n",
       "</style>\n",
       "<table border=\"1\" class=\"dataframe\">\n",
       "  <thead>\n",
       "    <tr style=\"text-align: right;\">\n",
       "      <th></th>\n",
       "      <th>raceId</th>\n",
       "      <th>driverId</th>\n",
       "      <th>stop</th>\n",
       "      <th>lap</th>\n",
       "      <th>time</th>\n",
       "      <th>duration</th>\n",
       "      <th>milliseconds</th>\n",
       "    </tr>\n",
       "  </thead>\n",
       "  <tbody>\n",
       "    <tr>\n",
       "      <th>2648</th>\n",
       "      <td>891</td>\n",
       "      <td>824</td>\n",
       "      <td>1</td>\n",
       "      <td>14</td>\n",
       "      <td>14:32:07</td>\n",
       "      <td>0 days 00:00:24.083000</td>\n",
       "      <td>24083</td>\n",
       "    </tr>\n",
       "    <tr>\n",
       "      <th>2462</th>\n",
       "      <td>886</td>\n",
       "      <td>814</td>\n",
       "      <td>1</td>\n",
       "      <td>56</td>\n",
       "      <td>15:18:16</td>\n",
       "      <td>0 days 00:00:21.066000</td>\n",
       "      <td>21066</td>\n",
       "    </tr>\n",
       "    <tr>\n",
       "      <th>160</th>\n",
       "      <td>843</td>\n",
       "      <td>815</td>\n",
       "      <td>3</td>\n",
       "      <td>48</td>\n",
       "      <td>16:28:01</td>\n",
       "      <td>0 days 00:00:13.900000</td>\n",
       "      <td>13900</td>\n",
       "    </tr>\n",
       "    <tr>\n",
       "      <th>3138</th>\n",
       "      <td>902</td>\n",
       "      <td>20</td>\n",
       "      <td>2</td>\n",
       "      <td>34</td>\n",
       "      <td>19:02:35</td>\n",
       "      <td>0 days 00:00:26.186000</td>\n",
       "      <td>26186</td>\n",
       "    </tr>\n",
       "    <tr>\n",
       "      <th>686</th>\n",
       "      <td>851</td>\n",
       "      <td>5</td>\n",
       "      <td>5</td>\n",
       "      <td>52</td>\n",
       "      <td>15:28:12</td>\n",
       "      <td>0 days 00:00:21.715000</td>\n",
       "      <td>21715</td>\n",
       "    </tr>\n",
       "  </tbody>\n",
       "</table>\n",
       "</div>"
      ],
      "text/plain": [
       "      raceId  driverId  stop  lap      time               duration  \\\n",
       "2648     891       824     1   14  14:32:07 0 days 00:00:24.083000   \n",
       "2462     886       814     1   56  15:18:16 0 days 00:00:21.066000   \n",
       "160      843       815     3   48  16:28:01 0 days 00:00:13.900000   \n",
       "3138     902        20     2   34  19:02:35 0 days 00:00:26.186000   \n",
       "686      851         5     5   52  15:28:12 0 days 00:00:21.715000   \n",
       "\n",
       "      milliseconds  \n",
       "2648         24083  \n",
       "2462         21066  \n",
       "160          13900  \n",
       "3138         26186  \n",
       "686          21715  "
      ]
     },
     "execution_count": 26,
     "metadata": {},
     "output_type": "execute_result"
    },
    {
     "data": {
      "application/javascript": [
       "\n",
       "            setTimeout(function() {\n",
       "                var nbb_cell_id = 26;\n",
       "                var nbb_unformatted_code = \"pit_stops_df.sample(5)\";\n",
       "                var nbb_formatted_code = \"pit_stops_df.sample(5)\";\n",
       "                var nbb_cells = Jupyter.notebook.get_cells();\n",
       "                for (var i = 0; i < nbb_cells.length; ++i) {\n",
       "                    if (nbb_cells[i].input_prompt_number == nbb_cell_id) {\n",
       "                        if (nbb_cells[i].get_text() == nbb_unformatted_code) {\n",
       "                             nbb_cells[i].set_text(nbb_formatted_code);\n",
       "                        }\n",
       "                        break;\n",
       "                    }\n",
       "                }\n",
       "            }, 500);\n",
       "            "
      ],
      "text/plain": [
       "<IPython.core.display.Javascript object>"
      ]
     },
     "metadata": {},
     "output_type": "display_data"
    }
   ],
   "source": [
    "pit_stops_df.sample(5)"
   ]
  },
  {
   "cell_type": "code",
   "execution_count": 27,
   "id": "9607bc1c",
   "metadata": {},
   "outputs": [
    {
     "data": {
      "application/javascript": [
       "\n",
       "            setTimeout(function() {\n",
       "                var nbb_cell_id = 27;\n",
       "                var nbb_unformatted_code = \"pit_stops_df.to_csv(\\\"Datawarehouse/pit_stops.csv\\\", index=False)\";\n",
       "                var nbb_formatted_code = \"pit_stops_df.to_csv(\\\"Datawarehouse/pit_stops.csv\\\", index=False)\";\n",
       "                var nbb_cells = Jupyter.notebook.get_cells();\n",
       "                for (var i = 0; i < nbb_cells.length; ++i) {\n",
       "                    if (nbb_cells[i].input_prompt_number == nbb_cell_id) {\n",
       "                        if (nbb_cells[i].get_text() == nbb_unformatted_code) {\n",
       "                             nbb_cells[i].set_text(nbb_formatted_code);\n",
       "                        }\n",
       "                        break;\n",
       "                    }\n",
       "                }\n",
       "            }, 500);\n",
       "            "
      ],
      "text/plain": [
       "<IPython.core.display.Javascript object>"
      ]
     },
     "metadata": {},
     "output_type": "display_data"
    }
   ],
   "source": [
    "pit_stops_df.to_csv(\"Datawarehouse/pit_stops.csv\", index=False)"
   ]
  },
  {
   "cell_type": "markdown",
   "id": "2f838dd2",
   "metadata": {},
   "source": [
    "## races.csv"
   ]
  },
  {
   "cell_type": "code",
   "execution_count": 28,
   "id": "ec7adf2e",
   "metadata": {},
   "outputs": [
    {
     "data": {
      "application/javascript": [
       "\n",
       "            setTimeout(function() {\n",
       "                var nbb_cell_id = 28;\n",
       "                var nbb_unformatted_code = \"races_df = pd.read_csv(\\\"Datasets/races.csv\\\")\";\n",
       "                var nbb_formatted_code = \"races_df = pd.read_csv(\\\"Datasets/races.csv\\\")\";\n",
       "                var nbb_cells = Jupyter.notebook.get_cells();\n",
       "                for (var i = 0; i < nbb_cells.length; ++i) {\n",
       "                    if (nbb_cells[i].input_prompt_number == nbb_cell_id) {\n",
       "                        if (nbb_cells[i].get_text() == nbb_unformatted_code) {\n",
       "                             nbb_cells[i].set_text(nbb_formatted_code);\n",
       "                        }\n",
       "                        break;\n",
       "                    }\n",
       "                }\n",
       "            }, 500);\n",
       "            "
      ],
      "text/plain": [
       "<IPython.core.display.Javascript object>"
      ]
     },
     "metadata": {},
     "output_type": "display_data"
    }
   ],
   "source": [
    "races_df = pd.read_csv(\"Datasets/races.csv\")"
   ]
  },
  {
   "cell_type": "code",
   "execution_count": 29,
   "id": "994278da",
   "metadata": {},
   "outputs": [
    {
     "data": {
      "text/html": [
       "<div>\n",
       "<style scoped>\n",
       "    .dataframe tbody tr th:only-of-type {\n",
       "        vertical-align: middle;\n",
       "    }\n",
       "\n",
       "    .dataframe tbody tr th {\n",
       "        vertical-align: top;\n",
       "    }\n",
       "\n",
       "    .dataframe thead th {\n",
       "        text-align: right;\n",
       "    }\n",
       "</style>\n",
       "<table border=\"1\" class=\"dataframe\">\n",
       "  <thead>\n",
       "    <tr style=\"text-align: right;\">\n",
       "      <th></th>\n",
       "      <th>raceId</th>\n",
       "      <th>year</th>\n",
       "      <th>round</th>\n",
       "      <th>circuitId</th>\n",
       "      <th>name</th>\n",
       "      <th>date</th>\n",
       "      <th>time</th>\n",
       "      <th>url</th>\n",
       "    </tr>\n",
       "  </thead>\n",
       "  <tbody>\n",
       "    <tr>\n",
       "      <th>775</th>\n",
       "      <td>776</td>\n",
       "      <td>1957</td>\n",
       "      <td>1</td>\n",
       "      <td>25</td>\n",
       "      <td>Argentine Grand Prix</td>\n",
       "      <td>1957-01-13</td>\n",
       "      <td>\\N</td>\n",
       "      <td>http://en.wikipedia.org/wiki/1957_Argentine_Gr...</td>\n",
       "    </tr>\n",
       "    <tr>\n",
       "      <th>802</th>\n",
       "      <td>803</td>\n",
       "      <td>1954</td>\n",
       "      <td>5</td>\n",
       "      <td>9</td>\n",
       "      <td>British Grand Prix</td>\n",
       "      <td>1954-07-17</td>\n",
       "      <td>\\N</td>\n",
       "      <td>http://en.wikipedia.org/wiki/1954_British_Gran...</td>\n",
       "    </tr>\n",
       "    <tr>\n",
       "      <th>479</th>\n",
       "      <td>480</td>\n",
       "      <td>1982</td>\n",
       "      <td>14</td>\n",
       "      <td>41</td>\n",
       "      <td>Swiss Grand Prix</td>\n",
       "      <td>1982-08-29</td>\n",
       "      <td>\\N</td>\n",
       "      <td>http://en.wikipedia.org/wiki/1982_Swiss_Grand_...</td>\n",
       "    </tr>\n",
       "    <tr>\n",
       "      <th>840</th>\n",
       "      <td>842</td>\n",
       "      <td>2011</td>\n",
       "      <td>2</td>\n",
       "      <td>2</td>\n",
       "      <td>Malaysian Grand Prix</td>\n",
       "      <td>2011-04-10</td>\n",
       "      <td>08:00:00</td>\n",
       "      <td>http://en.wikipedia.org/wiki/2011_Malaysian_Gr...</td>\n",
       "    </tr>\n",
       "    <tr>\n",
       "      <th>816</th>\n",
       "      <td>817</td>\n",
       "      <td>1952</td>\n",
       "      <td>1</td>\n",
       "      <td>66</td>\n",
       "      <td>Swiss Grand Prix</td>\n",
       "      <td>1952-05-18</td>\n",
       "      <td>\\N</td>\n",
       "      <td>http://en.wikipedia.org/wiki/1952_Swiss_Grand_...</td>\n",
       "    </tr>\n",
       "  </tbody>\n",
       "</table>\n",
       "</div>"
      ],
      "text/plain": [
       "     raceId  year  round  circuitId                  name        date  \\\n",
       "775     776  1957      1         25  Argentine Grand Prix  1957-01-13   \n",
       "802     803  1954      5          9    British Grand Prix  1954-07-17   \n",
       "479     480  1982     14         41      Swiss Grand Prix  1982-08-29   \n",
       "840     842  2011      2          2  Malaysian Grand Prix  2011-04-10   \n",
       "816     817  1952      1         66      Swiss Grand Prix  1952-05-18   \n",
       "\n",
       "         time                                                url  \n",
       "775        \\N  http://en.wikipedia.org/wiki/1957_Argentine_Gr...  \n",
       "802        \\N  http://en.wikipedia.org/wiki/1954_British_Gran...  \n",
       "479        \\N  http://en.wikipedia.org/wiki/1982_Swiss_Grand_...  \n",
       "840  08:00:00  http://en.wikipedia.org/wiki/2011_Malaysian_Gr...  \n",
       "816        \\N  http://en.wikipedia.org/wiki/1952_Swiss_Grand_...  "
      ]
     },
     "execution_count": 29,
     "metadata": {},
     "output_type": "execute_result"
    },
    {
     "data": {
      "application/javascript": [
       "\n",
       "            setTimeout(function() {\n",
       "                var nbb_cell_id = 29;\n",
       "                var nbb_unformatted_code = \"races_df.sample(5)\";\n",
       "                var nbb_formatted_code = \"races_df.sample(5)\";\n",
       "                var nbb_cells = Jupyter.notebook.get_cells();\n",
       "                for (var i = 0; i < nbb_cells.length; ++i) {\n",
       "                    if (nbb_cells[i].input_prompt_number == nbb_cell_id) {\n",
       "                        if (nbb_cells[i].get_text() == nbb_unformatted_code) {\n",
       "                             nbb_cells[i].set_text(nbb_formatted_code);\n",
       "                        }\n",
       "                        break;\n",
       "                    }\n",
       "                }\n",
       "            }, 500);\n",
       "            "
      ],
      "text/plain": [
       "<IPython.core.display.Javascript object>"
      ]
     },
     "metadata": {},
     "output_type": "display_data"
    }
   ],
   "source": [
    "races_df.sample(5)"
   ]
  },
  {
   "cell_type": "code",
   "execution_count": 30,
   "id": "8fa3986c",
   "metadata": {},
   "outputs": [
    {
     "name": "stdout",
     "output_type": "stream",
     "text": [
      "<class 'pandas.core.frame.DataFrame'>\n",
      "RangeIndex: 1058 entries, 0 to 1057\n",
      "Data columns (total 8 columns):\n",
      " #   Column     Non-Null Count  Dtype \n",
      "---  ------     --------------  ----- \n",
      " 0   raceId     1058 non-null   int64 \n",
      " 1   year       1058 non-null   int64 \n",
      " 2   round      1058 non-null   int64 \n",
      " 3   circuitId  1058 non-null   int64 \n",
      " 4   name       1058 non-null   object\n",
      " 5   date       1058 non-null   object\n",
      " 6   time       1058 non-null   object\n",
      " 7   url        1058 non-null   object\n",
      "dtypes: int64(4), object(4)\n",
      "memory usage: 66.2+ KB\n"
     ]
    },
    {
     "data": {
      "application/javascript": [
       "\n",
       "            setTimeout(function() {\n",
       "                var nbb_cell_id = 30;\n",
       "                var nbb_unformatted_code = \"races_df.info()\";\n",
       "                var nbb_formatted_code = \"races_df.info()\";\n",
       "                var nbb_cells = Jupyter.notebook.get_cells();\n",
       "                for (var i = 0; i < nbb_cells.length; ++i) {\n",
       "                    if (nbb_cells[i].input_prompt_number == nbb_cell_id) {\n",
       "                        if (nbb_cells[i].get_text() == nbb_unformatted_code) {\n",
       "                             nbb_cells[i].set_text(nbb_formatted_code);\n",
       "                        }\n",
       "                        break;\n",
       "                    }\n",
       "                }\n",
       "            }, 500);\n",
       "            "
      ],
      "text/plain": [
       "<IPython.core.display.Javascript object>"
      ]
     },
     "metadata": {},
     "output_type": "display_data"
    }
   ],
   "source": [
    "races_df.info()"
   ]
  },
  {
   "cell_type": "code",
   "execution_count": 31,
   "id": "cbe473cd",
   "metadata": {},
   "outputs": [
    {
     "data": {
      "text/plain": [
       "raceId       0\n",
       "year         0\n",
       "round        0\n",
       "circuitId    0\n",
       "name         0\n",
       "date         0\n",
       "time         0\n",
       "url          0\n",
       "dtype: int64"
      ]
     },
     "execution_count": 31,
     "metadata": {},
     "output_type": "execute_result"
    },
    {
     "data": {
      "application/javascript": [
       "\n",
       "            setTimeout(function() {\n",
       "                var nbb_cell_id = 31;\n",
       "                var nbb_unformatted_code = \"races_df.isnull().sum()\";\n",
       "                var nbb_formatted_code = \"races_df.isnull().sum()\";\n",
       "                var nbb_cells = Jupyter.notebook.get_cells();\n",
       "                for (var i = 0; i < nbb_cells.length; ++i) {\n",
       "                    if (nbb_cells[i].input_prompt_number == nbb_cell_id) {\n",
       "                        if (nbb_cells[i].get_text() == nbb_unformatted_code) {\n",
       "                             nbb_cells[i].set_text(nbb_formatted_code);\n",
       "                        }\n",
       "                        break;\n",
       "                    }\n",
       "                }\n",
       "            }, 500);\n",
       "            "
      ],
      "text/plain": [
       "<IPython.core.display.Javascript object>"
      ]
     },
     "metadata": {},
     "output_type": "display_data"
    }
   ],
   "source": [
    "races_df.isnull().sum()"
   ]
  },
  {
   "cell_type": "code",
   "execution_count": 32,
   "id": "f11bb7db",
   "metadata": {},
   "outputs": [
    {
     "data": {
      "application/javascript": [
       "\n",
       "            setTimeout(function() {\n",
       "                var nbb_cell_id = 32;\n",
       "                var nbb_unformatted_code = \"races_df[\\\"time\\\"].replace(\\\"\\\\\\\\N\\\", np.NaN, inplace=True)\";\n",
       "                var nbb_formatted_code = \"races_df[\\\"time\\\"].replace(\\\"\\\\\\\\N\\\", np.NaN, inplace=True)\";\n",
       "                var nbb_cells = Jupyter.notebook.get_cells();\n",
       "                for (var i = 0; i < nbb_cells.length; ++i) {\n",
       "                    if (nbb_cells[i].input_prompt_number == nbb_cell_id) {\n",
       "                        if (nbb_cells[i].get_text() == nbb_unformatted_code) {\n",
       "                             nbb_cells[i].set_text(nbb_formatted_code);\n",
       "                        }\n",
       "                        break;\n",
       "                    }\n",
       "                }\n",
       "            }, 500);\n",
       "            "
      ],
      "text/plain": [
       "<IPython.core.display.Javascript object>"
      ]
     },
     "metadata": {},
     "output_type": "display_data"
    }
   ],
   "source": [
    "races_df[\"time\"].replace(\"\\\\N\", np.NaN, inplace=True)"
   ]
  },
  {
   "cell_type": "code",
   "execution_count": 33,
   "id": "60562a12",
   "metadata": {},
   "outputs": [
    {
     "data": {
      "text/html": [
       "<div>\n",
       "<style scoped>\n",
       "    .dataframe tbody tr th:only-of-type {\n",
       "        vertical-align: middle;\n",
       "    }\n",
       "\n",
       "    .dataframe tbody tr th {\n",
       "        vertical-align: top;\n",
       "    }\n",
       "\n",
       "    .dataframe thead th {\n",
       "        text-align: right;\n",
       "    }\n",
       "</style>\n",
       "<table border=\"1\" class=\"dataframe\">\n",
       "  <thead>\n",
       "    <tr style=\"text-align: right;\">\n",
       "      <th></th>\n",
       "      <th>raceId</th>\n",
       "      <th>year</th>\n",
       "      <th>round</th>\n",
       "      <th>circuitId</th>\n",
       "      <th>name</th>\n",
       "      <th>date</th>\n",
       "      <th>time</th>\n",
       "      <th>url</th>\n",
       "    </tr>\n",
       "  </thead>\n",
       "  <tbody>\n",
       "    <tr>\n",
       "      <th>455</th>\n",
       "      <td>456</td>\n",
       "      <td>1983</td>\n",
       "      <td>5</td>\n",
       "      <td>6</td>\n",
       "      <td>Monaco Grand Prix</td>\n",
       "      <td>1983-05-15</td>\n",
       "      <td>NaN</td>\n",
       "      <td>http://en.wikipedia.org/wiki/1983_Monaco_Grand...</td>\n",
       "    </tr>\n",
       "    <tr>\n",
       "      <th>81</th>\n",
       "      <td>82</td>\n",
       "      <td>2005</td>\n",
       "      <td>12</td>\n",
       "      <td>10</td>\n",
       "      <td>German Grand Prix</td>\n",
       "      <td>2005-07-24</td>\n",
       "      <td>14:00:00</td>\n",
       "      <td>http://en.wikipedia.org/wiki/2005_German_Grand...</td>\n",
       "    </tr>\n",
       "    <tr>\n",
       "      <th>920</th>\n",
       "      <td>928</td>\n",
       "      <td>2015</td>\n",
       "      <td>3</td>\n",
       "      <td>17</td>\n",
       "      <td>Chinese Grand Prix</td>\n",
       "      <td>2015-04-12</td>\n",
       "      <td>06:00:00</td>\n",
       "      <td>http://en.wikipedia.org/wiki/2015_Chinese_Gran...</td>\n",
       "    </tr>\n",
       "    <tr>\n",
       "      <th>879</th>\n",
       "      <td>881</td>\n",
       "      <td>2013</td>\n",
       "      <td>2</td>\n",
       "      <td>2</td>\n",
       "      <td>Malaysian Grand Prix</td>\n",
       "      <td>2013-03-24</td>\n",
       "      <td>08:00:00</td>\n",
       "      <td>http://en.wikipedia.org/wiki/2013_Malaysian_Gr...</td>\n",
       "    </tr>\n",
       "    <tr>\n",
       "      <th>630</th>\n",
       "      <td>631</td>\n",
       "      <td>1972</td>\n",
       "      <td>12</td>\n",
       "      <td>46</td>\n",
       "      <td>United States Grand Prix</td>\n",
       "      <td>1972-10-08</td>\n",
       "      <td>NaN</td>\n",
       "      <td>http://en.wikipedia.org/wiki/1972_United_State...</td>\n",
       "    </tr>\n",
       "  </tbody>\n",
       "</table>\n",
       "</div>"
      ],
      "text/plain": [
       "     raceId  year  round  circuitId                      name        date  \\\n",
       "455     456  1983      5          6         Monaco Grand Prix  1983-05-15   \n",
       "81       82  2005     12         10         German Grand Prix  2005-07-24   \n",
       "920     928  2015      3         17        Chinese Grand Prix  2015-04-12   \n",
       "879     881  2013      2          2      Malaysian Grand Prix  2013-03-24   \n",
       "630     631  1972     12         46  United States Grand Prix  1972-10-08   \n",
       "\n",
       "         time                                                url  \n",
       "455       NaN  http://en.wikipedia.org/wiki/1983_Monaco_Grand...  \n",
       "81   14:00:00  http://en.wikipedia.org/wiki/2005_German_Grand...  \n",
       "920  06:00:00  http://en.wikipedia.org/wiki/2015_Chinese_Gran...  \n",
       "879  08:00:00  http://en.wikipedia.org/wiki/2013_Malaysian_Gr...  \n",
       "630       NaN  http://en.wikipedia.org/wiki/1972_United_State...  "
      ]
     },
     "execution_count": 33,
     "metadata": {},
     "output_type": "execute_result"
    },
    {
     "data": {
      "application/javascript": [
       "\n",
       "            setTimeout(function() {\n",
       "                var nbb_cell_id = 33;\n",
       "                var nbb_unformatted_code = \"races_df.sample(5)\";\n",
       "                var nbb_formatted_code = \"races_df.sample(5)\";\n",
       "                var nbb_cells = Jupyter.notebook.get_cells();\n",
       "                for (var i = 0; i < nbb_cells.length; ++i) {\n",
       "                    if (nbb_cells[i].input_prompt_number == nbb_cell_id) {\n",
       "                        if (nbb_cells[i].get_text() == nbb_unformatted_code) {\n",
       "                             nbb_cells[i].set_text(nbb_formatted_code);\n",
       "                        }\n",
       "                        break;\n",
       "                    }\n",
       "                }\n",
       "            }, 500);\n",
       "            "
      ],
      "text/plain": [
       "<IPython.core.display.Javascript object>"
      ]
     },
     "metadata": {},
     "output_type": "display_data"
    }
   ],
   "source": [
    "races_df.sample(5)"
   ]
  },
  {
   "cell_type": "code",
   "execution_count": 34,
   "id": "cad443d4",
   "metadata": {},
   "outputs": [
    {
     "data": {
      "application/javascript": [
       "\n",
       "            setTimeout(function() {\n",
       "                var nbb_cell_id = 34;\n",
       "                var nbb_unformatted_code = \"races_df.to_csv(\\\"Datawarehouse/races.csv\\\", index=False)\";\n",
       "                var nbb_formatted_code = \"races_df.to_csv(\\\"Datawarehouse/races.csv\\\", index=False)\";\n",
       "                var nbb_cells = Jupyter.notebook.get_cells();\n",
       "                for (var i = 0; i < nbb_cells.length; ++i) {\n",
       "                    if (nbb_cells[i].input_prompt_number == nbb_cell_id) {\n",
       "                        if (nbb_cells[i].get_text() == nbb_unformatted_code) {\n",
       "                             nbb_cells[i].set_text(nbb_formatted_code);\n",
       "                        }\n",
       "                        break;\n",
       "                    }\n",
       "                }\n",
       "            }, 500);\n",
       "            "
      ],
      "text/plain": [
       "<IPython.core.display.Javascript object>"
      ]
     },
     "metadata": {},
     "output_type": "display_data"
    }
   ],
   "source": [
    "races_df.to_csv(\"Datawarehouse/races.csv\", index=False)"
   ]
  },
  {
   "cell_type": "markdown",
   "id": "f573ff7f",
   "metadata": {},
   "source": [
    "## results.json"
   ]
  },
  {
   "cell_type": "code",
   "execution_count": 35,
   "id": "6366bb10",
   "metadata": {},
   "outputs": [
    {
     "data": {
      "application/javascript": [
       "\n",
       "            setTimeout(function() {\n",
       "                var nbb_cell_id = 35;\n",
       "                var nbb_unformatted_code = \"with open(\\\"Datasets/results.json\\\") as json_file:\\n    results_data = [json.loads(line) for line in json_file]\\n\\nresults_df = pd.json_normalize(results_data)\";\n",
       "                var nbb_formatted_code = \"with open(\\\"Datasets/results.json\\\") as json_file:\\n    results_data = [json.loads(line) for line in json_file]\\n\\nresults_df = pd.json_normalize(results_data)\";\n",
       "                var nbb_cells = Jupyter.notebook.get_cells();\n",
       "                for (var i = 0; i < nbb_cells.length; ++i) {\n",
       "                    if (nbb_cells[i].input_prompt_number == nbb_cell_id) {\n",
       "                        if (nbb_cells[i].get_text() == nbb_unformatted_code) {\n",
       "                             nbb_cells[i].set_text(nbb_formatted_code);\n",
       "                        }\n",
       "                        break;\n",
       "                    }\n",
       "                }\n",
       "            }, 500);\n",
       "            "
      ],
      "text/plain": [
       "<IPython.core.display.Javascript object>"
      ]
     },
     "metadata": {},
     "output_type": "display_data"
    }
   ],
   "source": [
    "with open(\"Datasets/results.json\") as json_file:\n",
    "    results_data = [json.loads(line) for line in json_file]\n",
    "\n",
    "results_df = pd.json_normalize(results_data)"
   ]
  },
  {
   "cell_type": "code",
   "execution_count": 36,
   "id": "d0590cf8",
   "metadata": {},
   "outputs": [
    {
     "data": {
      "text/html": [
       "<div>\n",
       "<style scoped>\n",
       "    .dataframe tbody tr th:only-of-type {\n",
       "        vertical-align: middle;\n",
       "    }\n",
       "\n",
       "    .dataframe tbody tr th {\n",
       "        vertical-align: top;\n",
       "    }\n",
       "\n",
       "    .dataframe thead th {\n",
       "        text-align: right;\n",
       "    }\n",
       "</style>\n",
       "<table border=\"1\" class=\"dataframe\">\n",
       "  <thead>\n",
       "    <tr style=\"text-align: right;\">\n",
       "      <th></th>\n",
       "      <th>resultId</th>\n",
       "      <th>raceId</th>\n",
       "      <th>driverId</th>\n",
       "      <th>constructorId</th>\n",
       "      <th>number</th>\n",
       "      <th>grid</th>\n",
       "      <th>position</th>\n",
       "      <th>positionText</th>\n",
       "      <th>positionOrder</th>\n",
       "      <th>points</th>\n",
       "      <th>laps</th>\n",
       "      <th>time</th>\n",
       "      <th>milliseconds</th>\n",
       "      <th>fastestLap</th>\n",
       "      <th>rank</th>\n",
       "      <th>fastestLapTime</th>\n",
       "      <th>fastestLapSpeed</th>\n",
       "      <th>statusId</th>\n",
       "    </tr>\n",
       "  </thead>\n",
       "  <tbody>\n",
       "    <tr>\n",
       "      <th>19087</th>\n",
       "      <td>19088</td>\n",
       "      <td>793</td>\n",
       "      <td>647</td>\n",
       "      <td>132</td>\n",
       "      <td>26</td>\n",
       "      <td>2</td>\n",
       "      <td>\\N</td>\n",
       "      <td>R</td>\n",
       "      <td>11</td>\n",
       "      <td>0.0</td>\n",
       "      <td>80</td>\n",
       "      <td>\\N</td>\n",
       "      <td>\\N</td>\n",
       "      <td>\\N</td>\n",
       "      <td>\\N</td>\n",
       "      <td>\\N</td>\n",
       "      <td>\\N</td>\n",
       "      <td>3</td>\n",
       "    </tr>\n",
       "    <tr>\n",
       "      <th>6743</th>\n",
       "      <td>6744</td>\n",
       "      <td>312</td>\n",
       "      <td>142</td>\n",
       "      <td>42</td>\n",
       "      <td>31</td>\n",
       "      <td>0</td>\n",
       "      <td>\\N</td>\n",
       "      <td>F</td>\n",
       "      <td>34</td>\n",
       "      <td>0.0</td>\n",
       "      <td>0</td>\n",
       "      <td>\\N</td>\n",
       "      <td>\\N</td>\n",
       "      <td>\\N</td>\n",
       "      <td>\\N</td>\n",
       "      <td>\\N</td>\n",
       "      <td>\\N</td>\n",
       "      <td>97</td>\n",
       "    </tr>\n",
       "    <tr>\n",
       "      <th>6982</th>\n",
       "      <td>6983</td>\n",
       "      <td>320</td>\n",
       "      <td>137</td>\n",
       "      <td>22</td>\n",
       "      <td>20</td>\n",
       "      <td>5</td>\n",
       "      <td>4</td>\n",
       "      <td>4</td>\n",
       "      <td>4</td>\n",
       "      <td>1.5</td>\n",
       "      <td>14</td>\n",
       "      <td>+30.103</td>\n",
       "      <td>1505002</td>\n",
       "      <td>\\N</td>\n",
       "      <td>\\N</td>\n",
       "      <td>\\N</td>\n",
       "      <td>\\N</td>\n",
       "      <td>1</td>\n",
       "    </tr>\n",
       "    <tr>\n",
       "      <th>379</th>\n",
       "      <td>380</td>\n",
       "      <td>36</td>\n",
       "      <td>11</td>\n",
       "      <td>8</td>\n",
       "      <td>22</td>\n",
       "      <td>10</td>\n",
       "      <td>12</td>\n",
       "      <td>12</td>\n",
       "      <td>12</td>\n",
       "      <td>0.0</td>\n",
       "      <td>57</td>\n",
       "      <td>\\N</td>\n",
       "      <td>\\N</td>\n",
       "      <td>20</td>\n",
       "      <td>18</td>\n",
       "      <td>1:28.487</td>\n",
       "      <td>215.746</td>\n",
       "      <td>11</td>\n",
       "    </tr>\n",
       "    <tr>\n",
       "      <th>1315</th>\n",
       "      <td>1316</td>\n",
       "      <td>80</td>\n",
       "      <td>8</td>\n",
       "      <td>1</td>\n",
       "      <td>9</td>\n",
       "      <td>13</td>\n",
       "      <td>2</td>\n",
       "      <td>2</td>\n",
       "      <td>2</td>\n",
       "      <td>8.0</td>\n",
       "      <td>70</td>\n",
       "      <td>+11.8</td>\n",
       "      <td>5494032</td>\n",
       "      <td>25</td>\n",
       "      <td>1</td>\n",
       "      <td>1:16.423</td>\n",
       "      <td>207.785</td>\n",
       "      <td>1</td>\n",
       "    </tr>\n",
       "  </tbody>\n",
       "</table>\n",
       "</div>"
      ],
      "text/plain": [
       "       resultId  raceId  driverId  constructorId number  grid position  \\\n",
       "19087     19088     793       647            132     26     2       \\N   \n",
       "6743       6744     312       142             42     31     0       \\N   \n",
       "6982       6983     320       137             22     20     5        4   \n",
       "379         380      36        11              8     22    10       12   \n",
       "1315       1316      80         8              1      9    13        2   \n",
       "\n",
       "      positionText  positionOrder  points  laps     time milliseconds  \\\n",
       "19087            R             11     0.0    80       \\N           \\N   \n",
       "6743             F             34     0.0     0       \\N           \\N   \n",
       "6982             4              4     1.5    14  +30.103      1505002   \n",
       "379             12             12     0.0    57       \\N           \\N   \n",
       "1315             2              2     8.0    70    +11.8      5494032   \n",
       "\n",
       "      fastestLap rank fastestLapTime fastestLapSpeed  statusId  \n",
       "19087         \\N   \\N             \\N              \\N         3  \n",
       "6743          \\N   \\N             \\N              \\N        97  \n",
       "6982          \\N   \\N             \\N              \\N         1  \n",
       "379           20   18       1:28.487         215.746        11  \n",
       "1315          25    1       1:16.423         207.785         1  "
      ]
     },
     "execution_count": 36,
     "metadata": {},
     "output_type": "execute_result"
    },
    {
     "data": {
      "application/javascript": [
       "\n",
       "            setTimeout(function() {\n",
       "                var nbb_cell_id = 36;\n",
       "                var nbb_unformatted_code = \"results_df.sample(5)\";\n",
       "                var nbb_formatted_code = \"results_df.sample(5)\";\n",
       "                var nbb_cells = Jupyter.notebook.get_cells();\n",
       "                for (var i = 0; i < nbb_cells.length; ++i) {\n",
       "                    if (nbb_cells[i].input_prompt_number == nbb_cell_id) {\n",
       "                        if (nbb_cells[i].get_text() == nbb_unformatted_code) {\n",
       "                             nbb_cells[i].set_text(nbb_formatted_code);\n",
       "                        }\n",
       "                        break;\n",
       "                    }\n",
       "                }\n",
       "            }, 500);\n",
       "            "
      ],
      "text/plain": [
       "<IPython.core.display.Javascript object>"
      ]
     },
     "metadata": {},
     "output_type": "display_data"
    }
   ],
   "source": [
    "results_df.sample(5)"
   ]
  },
  {
   "cell_type": "code",
   "execution_count": 37,
   "id": "a19c6616",
   "metadata": {},
   "outputs": [
    {
     "name": "stdout",
     "output_type": "stream",
     "text": [
      "<class 'pandas.core.frame.DataFrame'>\n",
      "RangeIndex: 24960 entries, 0 to 24959\n",
      "Data columns (total 18 columns):\n",
      " #   Column           Non-Null Count  Dtype  \n",
      "---  ------           --------------  -----  \n",
      " 0   resultId         24960 non-null  int64  \n",
      " 1   raceId           24960 non-null  int64  \n",
      " 2   driverId         24960 non-null  int64  \n",
      " 3   constructorId    24960 non-null  int64  \n",
      " 4   number           24960 non-null  object \n",
      " 5   grid             24960 non-null  int64  \n",
      " 6   position         24960 non-null  object \n",
      " 7   positionText     24960 non-null  object \n",
      " 8   positionOrder    24960 non-null  int64  \n",
      " 9   points           24960 non-null  float64\n",
      " 10  laps             24960 non-null  int64  \n",
      " 11  time             24960 non-null  object \n",
      " 12  milliseconds     24960 non-null  object \n",
      " 13  fastestLap       24960 non-null  object \n",
      " 14  rank             24960 non-null  object \n",
      " 15  fastestLapTime   24960 non-null  object \n",
      " 16  fastestLapSpeed  24960 non-null  object \n",
      " 17  statusId         24960 non-null  int64  \n",
      "dtypes: float64(1), int64(8), object(9)\n",
      "memory usage: 3.4+ MB\n"
     ]
    },
    {
     "data": {
      "application/javascript": [
       "\n",
       "            setTimeout(function() {\n",
       "                var nbb_cell_id = 37;\n",
       "                var nbb_unformatted_code = \"results_df.info()\";\n",
       "                var nbb_formatted_code = \"results_df.info()\";\n",
       "                var nbb_cells = Jupyter.notebook.get_cells();\n",
       "                for (var i = 0; i < nbb_cells.length; ++i) {\n",
       "                    if (nbb_cells[i].input_prompt_number == nbb_cell_id) {\n",
       "                        if (nbb_cells[i].get_text() == nbb_unformatted_code) {\n",
       "                             nbb_cells[i].set_text(nbb_formatted_code);\n",
       "                        }\n",
       "                        break;\n",
       "                    }\n",
       "                }\n",
       "            }, 500);\n",
       "            "
      ],
      "text/plain": [
       "<IPython.core.display.Javascript object>"
      ]
     },
     "metadata": {},
     "output_type": "display_data"
    }
   ],
   "source": [
    "results_df.info()"
   ]
  },
  {
   "cell_type": "code",
   "execution_count": 38,
   "id": "19835657",
   "metadata": {},
   "outputs": [
    {
     "data": {
      "application/javascript": [
       "\n",
       "            setTimeout(function() {\n",
       "                var nbb_cell_id = 38;\n",
       "                var nbb_unformatted_code = \"results_df[:].replace(\\\"\\\\\\\\N\\\", np.NaN, inplace=True)\";\n",
       "                var nbb_formatted_code = \"results_df[:].replace(\\\"\\\\\\\\N\\\", np.NaN, inplace=True)\";\n",
       "                var nbb_cells = Jupyter.notebook.get_cells();\n",
       "                for (var i = 0; i < nbb_cells.length; ++i) {\n",
       "                    if (nbb_cells[i].input_prompt_number == nbb_cell_id) {\n",
       "                        if (nbb_cells[i].get_text() == nbb_unformatted_code) {\n",
       "                             nbb_cells[i].set_text(nbb_formatted_code);\n",
       "                        }\n",
       "                        break;\n",
       "                    }\n",
       "                }\n",
       "            }, 500);\n",
       "            "
      ],
      "text/plain": [
       "<IPython.core.display.Javascript object>"
      ]
     },
     "metadata": {},
     "output_type": "display_data"
    }
   ],
   "source": [
    "results_df[:].replace(\"\\\\N\", np.NaN, inplace=True)"
   ]
  },
  {
   "cell_type": "code",
   "execution_count": 39,
   "id": "8a9cbc71",
   "metadata": {},
   "outputs": [
    {
     "data": {
      "text/html": [
       "<div>\n",
       "<style scoped>\n",
       "    .dataframe tbody tr th:only-of-type {\n",
       "        vertical-align: middle;\n",
       "    }\n",
       "\n",
       "    .dataframe tbody tr th {\n",
       "        vertical-align: top;\n",
       "    }\n",
       "\n",
       "    .dataframe thead th {\n",
       "        text-align: right;\n",
       "    }\n",
       "</style>\n",
       "<table border=\"1\" class=\"dataframe\">\n",
       "  <thead>\n",
       "    <tr style=\"text-align: right;\">\n",
       "      <th></th>\n",
       "      <th>resultId</th>\n",
       "      <th>raceId</th>\n",
       "      <th>driverId</th>\n",
       "      <th>constructorId</th>\n",
       "      <th>number</th>\n",
       "      <th>grid</th>\n",
       "      <th>position</th>\n",
       "      <th>positionText</th>\n",
       "      <th>positionOrder</th>\n",
       "      <th>points</th>\n",
       "      <th>laps</th>\n",
       "      <th>time</th>\n",
       "      <th>milliseconds</th>\n",
       "      <th>fastestLap</th>\n",
       "      <th>rank</th>\n",
       "      <th>fastestLapTime</th>\n",
       "      <th>fastestLapSpeed</th>\n",
       "      <th>statusId</th>\n",
       "    </tr>\n",
       "  </thead>\n",
       "  <tbody>\n",
       "    <tr>\n",
       "      <th>17040</th>\n",
       "      <td>17041</td>\n",
       "      <td>701</td>\n",
       "      <td>364</td>\n",
       "      <td>183</td>\n",
       "      <td>15</td>\n",
       "      <td>5</td>\n",
       "      <td>10</td>\n",
       "      <td>10</td>\n",
       "      <td>10</td>\n",
       "      <td>0.0</td>\n",
       "      <td>30</td>\n",
       "      <td>NaN</td>\n",
       "      <td>NaN</td>\n",
       "      <td>NaN</td>\n",
       "      <td>NaN</td>\n",
       "      <td>NaN</td>\n",
       "      <td>NaN</td>\n",
       "      <td>12</td>\n",
       "    </tr>\n",
       "    <tr>\n",
       "      <th>21241</th>\n",
       "      <td>21244</td>\n",
       "      <td>860</td>\n",
       "      <td>813</td>\n",
       "      <td>3</td>\n",
       "      <td>18</td>\n",
       "      <td>8</td>\n",
       "      <td>13</td>\n",
       "      <td>13</td>\n",
       "      <td>13</td>\n",
       "      <td>0.0</td>\n",
       "      <td>57</td>\n",
       "      <td>NaN</td>\n",
       "      <td>NaN</td>\n",
       "      <td>53</td>\n",
       "      <td>5</td>\n",
       "      <td>1:30.254</td>\n",
       "      <td>211.523</td>\n",
       "      <td>3</td>\n",
       "    </tr>\n",
       "    <tr>\n",
       "      <th>4669</th>\n",
       "      <td>4670</td>\n",
       "      <td>237</td>\n",
       "      <td>79</td>\n",
       "      <td>25</td>\n",
       "      <td>18</td>\n",
       "      <td>16</td>\n",
       "      <td>10</td>\n",
       "      <td>10</td>\n",
       "      <td>10</td>\n",
       "      <td>0.0</td>\n",
       "      <td>51</td>\n",
       "      <td>NaN</td>\n",
       "      <td>NaN</td>\n",
       "      <td>NaN</td>\n",
       "      <td>NaN</td>\n",
       "      <td>NaN</td>\n",
       "      <td>NaN</td>\n",
       "      <td>12</td>\n",
       "    </tr>\n",
       "    <tr>\n",
       "      <th>24623</th>\n",
       "      <td>24629</td>\n",
       "      <td>1031</td>\n",
       "      <td>1</td>\n",
       "      <td>131</td>\n",
       "      <td>44</td>\n",
       "      <td>5</td>\n",
       "      <td>4</td>\n",
       "      <td>4</td>\n",
       "      <td>4</td>\n",
       "      <td>12.0</td>\n",
       "      <td>71</td>\n",
       "      <td>+5.689</td>\n",
       "      <td>5461428</td>\n",
       "      <td>67</td>\n",
       "      <td>3</td>\n",
       "      <td>1:07.712</td>\n",
       "      <td>229.572</td>\n",
       "      <td>1</td>\n",
       "    </tr>\n",
       "    <tr>\n",
       "      <th>4797</th>\n",
       "      <td>4798</td>\n",
       "      <td>242</td>\n",
       "      <td>30</td>\n",
       "      <td>22</td>\n",
       "      <td>1</td>\n",
       "      <td>1</td>\n",
       "      <td>NaN</td>\n",
       "      <td>R</td>\n",
       "      <td>26</td>\n",
       "      <td>0.0</td>\n",
       "      <td>10</td>\n",
       "      <td>NaN</td>\n",
       "      <td>NaN</td>\n",
       "      <td>NaN</td>\n",
       "      <td>NaN</td>\n",
       "      <td>NaN</td>\n",
       "      <td>NaN</td>\n",
       "      <td>20</td>\n",
       "    </tr>\n",
       "  </tbody>\n",
       "</table>\n",
       "</div>"
      ],
      "text/plain": [
       "       resultId  raceId  driverId  constructorId number  grid position  \\\n",
       "17040     17041     701       364            183     15     5       10   \n",
       "21241     21244     860       813              3     18     8       13   \n",
       "4669       4670     237        79             25     18    16       10   \n",
       "24623     24629    1031         1            131     44     5        4   \n",
       "4797       4798     242        30             22      1     1      NaN   \n",
       "\n",
       "      positionText  positionOrder  points  laps    time milliseconds  \\\n",
       "17040           10             10     0.0    30     NaN          NaN   \n",
       "21241           13             13     0.0    57     NaN          NaN   \n",
       "4669            10             10     0.0    51     NaN          NaN   \n",
       "24623            4              4    12.0    71  +5.689      5461428   \n",
       "4797             R             26     0.0    10     NaN          NaN   \n",
       "\n",
       "      fastestLap rank fastestLapTime fastestLapSpeed  statusId  \n",
       "17040        NaN  NaN            NaN             NaN        12  \n",
       "21241         53    5       1:30.254         211.523         3  \n",
       "4669         NaN  NaN            NaN             NaN        12  \n",
       "24623         67    3       1:07.712         229.572         1  \n",
       "4797         NaN  NaN            NaN             NaN        20  "
      ]
     },
     "execution_count": 39,
     "metadata": {},
     "output_type": "execute_result"
    },
    {
     "data": {
      "application/javascript": [
       "\n",
       "            setTimeout(function() {\n",
       "                var nbb_cell_id = 39;\n",
       "                var nbb_unformatted_code = \"results_df.sample(5)\";\n",
       "                var nbb_formatted_code = \"results_df.sample(5)\";\n",
       "                var nbb_cells = Jupyter.notebook.get_cells();\n",
       "                for (var i = 0; i < nbb_cells.length; ++i) {\n",
       "                    if (nbb_cells[i].input_prompt_number == nbb_cell_id) {\n",
       "                        if (nbb_cells[i].get_text() == nbb_unformatted_code) {\n",
       "                             nbb_cells[i].set_text(nbb_formatted_code);\n",
       "                        }\n",
       "                        break;\n",
       "                    }\n",
       "                }\n",
       "            }, 500);\n",
       "            "
      ],
      "text/plain": [
       "<IPython.core.display.Javascript object>"
      ]
     },
     "metadata": {},
     "output_type": "display_data"
    }
   ],
   "source": [
    "results_df.sample(5)"
   ]
  },
  {
   "cell_type": "code",
   "execution_count": 40,
   "id": "44b41eba",
   "metadata": {},
   "outputs": [
    {
     "data": {
      "text/plain": [
       "resultId               0\n",
       "raceId                 0\n",
       "driverId               0\n",
       "constructorId          0\n",
       "number                 6\n",
       "grid                   0\n",
       "position           10735\n",
       "positionText           0\n",
       "positionOrder          0\n",
       "points                 0\n",
       "laps                   0\n",
       "time               18368\n",
       "milliseconds       18369\n",
       "fastestLap         18410\n",
       "rank               18249\n",
       "fastestLapTime     18410\n",
       "fastestLapSpeed    18410\n",
       "statusId               0\n",
       "dtype: int64"
      ]
     },
     "execution_count": 40,
     "metadata": {},
     "output_type": "execute_result"
    },
    {
     "data": {
      "application/javascript": [
       "\n",
       "            setTimeout(function() {\n",
       "                var nbb_cell_id = 40;\n",
       "                var nbb_unformatted_code = \"results_df.isnull().sum()\";\n",
       "                var nbb_formatted_code = \"results_df.isnull().sum()\";\n",
       "                var nbb_cells = Jupyter.notebook.get_cells();\n",
       "                for (var i = 0; i < nbb_cells.length; ++i) {\n",
       "                    if (nbb_cells[i].input_prompt_number == nbb_cell_id) {\n",
       "                        if (nbb_cells[i].get_text() == nbb_unformatted_code) {\n",
       "                             nbb_cells[i].set_text(nbb_formatted_code);\n",
       "                        }\n",
       "                        break;\n",
       "                    }\n",
       "                }\n",
       "            }, 500);\n",
       "            "
      ],
      "text/plain": [
       "<IPython.core.display.Javascript object>"
      ]
     },
     "metadata": {},
     "output_type": "display_data"
    }
   ],
   "source": [
    "results_df.isnull().sum()"
   ]
  },
  {
   "cell_type": "code",
   "execution_count": 41,
   "id": "e05ef8d0",
   "metadata": {},
   "outputs": [
    {
     "data": {
      "application/javascript": [
       "\n",
       "            setTimeout(function() {\n",
       "                var nbb_cell_id = 41;\n",
       "                var nbb_unformatted_code = \"results_df.to_csv(\\\"Datawarehouse/results.csv\\\", index=False)\";\n",
       "                var nbb_formatted_code = \"results_df.to_csv(\\\"Datawarehouse/results.csv\\\", index=False)\";\n",
       "                var nbb_cells = Jupyter.notebook.get_cells();\n",
       "                for (var i = 0; i < nbb_cells.length; ++i) {\n",
       "                    if (nbb_cells[i].input_prompt_number == nbb_cell_id) {\n",
       "                        if (nbb_cells[i].get_text() == nbb_unformatted_code) {\n",
       "                             nbb_cells[i].set_text(nbb_formatted_code);\n",
       "                        }\n",
       "                        break;\n",
       "                    }\n",
       "                }\n",
       "            }, 500);\n",
       "            "
      ],
      "text/plain": [
       "<IPython.core.display.Javascript object>"
      ]
     },
     "metadata": {},
     "output_type": "display_data"
    }
   ],
   "source": [
    "results_df.to_csv(\"Datawarehouse/results.csv\", index=False)"
   ]
  },
  {
   "cell_type": "markdown",
   "id": "43143acb",
   "metadata": {},
   "source": [
    "## qualifying"
   ]
  },
  {
   "cell_type": "markdown",
   "id": "45caa0b4",
   "metadata": {},
   "source": [
    "### qualifying 1"
   ]
  },
  {
   "cell_type": "code",
   "execution_count": 42,
   "id": "11487d18",
   "metadata": {},
   "outputs": [
    {
     "data": {
      "application/javascript": [
       "\n",
       "            setTimeout(function() {\n",
       "                var nbb_cell_id = 42;\n",
       "                var nbb_unformatted_code = \"qualifying_split_1_df = pd.read_json(\\\"Datasets/Qualifying/qualifying_split_1.json\\\")\";\n",
       "                var nbb_formatted_code = \"qualifying_split_1_df = pd.read_json(\\\"Datasets/Qualifying/qualifying_split_1.json\\\")\";\n",
       "                var nbb_cells = Jupyter.notebook.get_cells();\n",
       "                for (var i = 0; i < nbb_cells.length; ++i) {\n",
       "                    if (nbb_cells[i].input_prompt_number == nbb_cell_id) {\n",
       "                        if (nbb_cells[i].get_text() == nbb_unformatted_code) {\n",
       "                             nbb_cells[i].set_text(nbb_formatted_code);\n",
       "                        }\n",
       "                        break;\n",
       "                    }\n",
       "                }\n",
       "            }, 500);\n",
       "            "
      ],
      "text/plain": [
       "<IPython.core.display.Javascript object>"
      ]
     },
     "metadata": {},
     "output_type": "display_data"
    }
   ],
   "source": [
    "qualifying_split_1_df = pd.read_json(\"Datasets/Qualifying/qualifying_split_1.json\")"
   ]
  },
  {
   "cell_type": "code",
   "execution_count": 43,
   "id": "b322a6fc",
   "metadata": {},
   "outputs": [
    {
     "data": {
      "text/html": [
       "<div>\n",
       "<style scoped>\n",
       "    .dataframe tbody tr th:only-of-type {\n",
       "        vertical-align: middle;\n",
       "    }\n",
       "\n",
       "    .dataframe tbody tr th {\n",
       "        vertical-align: top;\n",
       "    }\n",
       "\n",
       "    .dataframe thead th {\n",
       "        text-align: right;\n",
       "    }\n",
       "</style>\n",
       "<table border=\"1\" class=\"dataframe\">\n",
       "  <thead>\n",
       "    <tr style=\"text-align: right;\">\n",
       "      <th></th>\n",
       "      <th>qualifyId</th>\n",
       "      <th>raceId</th>\n",
       "      <th>driverId</th>\n",
       "      <th>constructorId</th>\n",
       "      <th>number</th>\n",
       "      <th>position</th>\n",
       "      <th>q1</th>\n",
       "      <th>q2</th>\n",
       "      <th>q3</th>\n",
       "    </tr>\n",
       "  </thead>\n",
       "  <tbody>\n",
       "    <tr>\n",
       "      <th>3929</th>\n",
       "      <td>3931</td>\n",
       "      <td>116</td>\n",
       "      <td>17</td>\n",
       "      <td>19</td>\n",
       "      <td>14</td>\n",
       "      <td>11</td>\n",
       "      <td>1:33.066</td>\n",
       "      <td>\\N</td>\n",
       "      <td>\\N</td>\n",
       "    </tr>\n",
       "    <tr>\n",
       "      <th>3509</th>\n",
       "      <td>3511</td>\n",
       "      <td>344</td>\n",
       "      <td>155</td>\n",
       "      <td>15</td>\n",
       "      <td>23</td>\n",
       "      <td>18</td>\n",
       "      <td>1:18.019</td>\n",
       "      <td>\\N</td>\n",
       "      <td>\\N</td>\n",
       "    </tr>\n",
       "    <tr>\n",
       "      <th>2353</th>\n",
       "      <td>2355</td>\n",
       "      <td>247</td>\n",
       "      <td>30</td>\n",
       "      <td>22</td>\n",
       "      <td>1</td>\n",
       "      <td>2</td>\n",
       "      <td>1:28.397</td>\n",
       "      <td>\\N</td>\n",
       "      <td>\\N</td>\n",
       "    </tr>\n",
       "    <tr>\n",
       "      <th>4100</th>\n",
       "      <td>4102</td>\n",
       "      <td>91</td>\n",
       "      <td>17</td>\n",
       "      <td>19</td>\n",
       "      <td>14</td>\n",
       "      <td>2</td>\n",
       "      <td>1:33.715</td>\n",
       "      <td>\\N</td>\n",
       "      <td>\\N</td>\n",
       "    </tr>\n",
       "    <tr>\n",
       "      <th>1564</th>\n",
       "      <td>1565</td>\n",
       "      <td>161</td>\n",
       "      <td>37</td>\n",
       "      <td>21</td>\n",
       "      <td>18</td>\n",
       "      <td>19</td>\n",
       "      <td>1:28.135</td>\n",
       "      <td>\\N</td>\n",
       "      <td>\\N</td>\n",
       "    </tr>\n",
       "  </tbody>\n",
       "</table>\n",
       "</div>"
      ],
      "text/plain": [
       "      qualifyId  raceId  driverId  constructorId  number  position        q1  \\\n",
       "3929       3931     116        17             19      14        11  1:33.066   \n",
       "3509       3511     344       155             15      23        18  1:18.019   \n",
       "2353       2355     247        30             22       1         2  1:28.397   \n",
       "4100       4102      91        17             19      14         2  1:33.715   \n",
       "1564       1565     161        37             21      18        19  1:28.135   \n",
       "\n",
       "      q2  q3  \n",
       "3929  \\N  \\N  \n",
       "3509  \\N  \\N  \n",
       "2353  \\N  \\N  \n",
       "4100  \\N  \\N  \n",
       "1564  \\N  \\N  "
      ]
     },
     "execution_count": 43,
     "metadata": {},
     "output_type": "execute_result"
    },
    {
     "data": {
      "application/javascript": [
       "\n",
       "            setTimeout(function() {\n",
       "                var nbb_cell_id = 43;\n",
       "                var nbb_unformatted_code = \"qualifying_split_1_df.sample(5)\";\n",
       "                var nbb_formatted_code = \"qualifying_split_1_df.sample(5)\";\n",
       "                var nbb_cells = Jupyter.notebook.get_cells();\n",
       "                for (var i = 0; i < nbb_cells.length; ++i) {\n",
       "                    if (nbb_cells[i].input_prompt_number == nbb_cell_id) {\n",
       "                        if (nbb_cells[i].get_text() == nbb_unformatted_code) {\n",
       "                             nbb_cells[i].set_text(nbb_formatted_code);\n",
       "                        }\n",
       "                        break;\n",
       "                    }\n",
       "                }\n",
       "            }, 500);\n",
       "            "
      ],
      "text/plain": [
       "<IPython.core.display.Javascript object>"
      ]
     },
     "metadata": {},
     "output_type": "display_data"
    }
   ],
   "source": [
    "qualifying_split_1_df.sample(5)"
   ]
  },
  {
   "cell_type": "code",
   "execution_count": 44,
   "id": "a70fa2e3",
   "metadata": {},
   "outputs": [
    {
     "name": "stdout",
     "output_type": "stream",
     "text": [
      "<class 'pandas.core.frame.DataFrame'>\n",
      "RangeIndex: 4999 entries, 0 to 4998\n",
      "Data columns (total 9 columns):\n",
      " #   Column         Non-Null Count  Dtype \n",
      "---  ------         --------------  ----- \n",
      " 0   qualifyId      4999 non-null   int64 \n",
      " 1   raceId         4999 non-null   int64 \n",
      " 2   driverId       4999 non-null   int64 \n",
      " 3   constructorId  4999 non-null   int64 \n",
      " 4   number         4999 non-null   int64 \n",
      " 5   position       4999 non-null   int64 \n",
      " 6   q1             4999 non-null   object\n",
      " 7   q2             4999 non-null   object\n",
      " 8   q3             4999 non-null   object\n",
      "dtypes: int64(6), object(3)\n",
      "memory usage: 351.6+ KB\n"
     ]
    },
    {
     "data": {
      "application/javascript": [
       "\n",
       "            setTimeout(function() {\n",
       "                var nbb_cell_id = 44;\n",
       "                var nbb_unformatted_code = \"qualifying_split_1_df.info()\";\n",
       "                var nbb_formatted_code = \"qualifying_split_1_df.info()\";\n",
       "                var nbb_cells = Jupyter.notebook.get_cells();\n",
       "                for (var i = 0; i < nbb_cells.length; ++i) {\n",
       "                    if (nbb_cells[i].input_prompt_number == nbb_cell_id) {\n",
       "                        if (nbb_cells[i].get_text() == nbb_unformatted_code) {\n",
       "                             nbb_cells[i].set_text(nbb_formatted_code);\n",
       "                        }\n",
       "                        break;\n",
       "                    }\n",
       "                }\n",
       "            }, 500);\n",
       "            "
      ],
      "text/plain": [
       "<IPython.core.display.Javascript object>"
      ]
     },
     "metadata": {},
     "output_type": "display_data"
    }
   ],
   "source": [
    "qualifying_split_1_df.info()"
   ]
  },
  {
   "cell_type": "code",
   "execution_count": 45,
   "id": "eebc2292",
   "metadata": {},
   "outputs": [
    {
     "data": {
      "application/javascript": [
       "\n",
       "            setTimeout(function() {\n",
       "                var nbb_cell_id = 45;\n",
       "                var nbb_unformatted_code = \"qualifying_split_1_df[\\\"q2\\\"].replace(\\\"\\\\\\\\N\\\", np.NaN, inplace=True)\";\n",
       "                var nbb_formatted_code = \"qualifying_split_1_df[\\\"q2\\\"].replace(\\\"\\\\\\\\N\\\", np.NaN, inplace=True)\";\n",
       "                var nbb_cells = Jupyter.notebook.get_cells();\n",
       "                for (var i = 0; i < nbb_cells.length; ++i) {\n",
       "                    if (nbb_cells[i].input_prompt_number == nbb_cell_id) {\n",
       "                        if (nbb_cells[i].get_text() == nbb_unformatted_code) {\n",
       "                             nbb_cells[i].set_text(nbb_formatted_code);\n",
       "                        }\n",
       "                        break;\n",
       "                    }\n",
       "                }\n",
       "            }, 500);\n",
       "            "
      ],
      "text/plain": [
       "<IPython.core.display.Javascript object>"
      ]
     },
     "metadata": {},
     "output_type": "display_data"
    }
   ],
   "source": [
    "qualifying_split_1_df[\"q2\"].replace(\"\\\\N\", np.NaN, inplace=True)"
   ]
  },
  {
   "cell_type": "code",
   "execution_count": 46,
   "id": "6b55f7e3",
   "metadata": {},
   "outputs": [
    {
     "data": {
      "application/javascript": [
       "\n",
       "            setTimeout(function() {\n",
       "                var nbb_cell_id = 46;\n",
       "                var nbb_unformatted_code = \"qualifying_split_1_df[\\\"q3\\\"].replace(\\\"\\\\\\\\N\\\", np.NaN, inplace=True)\";\n",
       "                var nbb_formatted_code = \"qualifying_split_1_df[\\\"q3\\\"].replace(\\\"\\\\\\\\N\\\", np.NaN, inplace=True)\";\n",
       "                var nbb_cells = Jupyter.notebook.get_cells();\n",
       "                for (var i = 0; i < nbb_cells.length; ++i) {\n",
       "                    if (nbb_cells[i].input_prompt_number == nbb_cell_id) {\n",
       "                        if (nbb_cells[i].get_text() == nbb_unformatted_code) {\n",
       "                             nbb_cells[i].set_text(nbb_formatted_code);\n",
       "                        }\n",
       "                        break;\n",
       "                    }\n",
       "                }\n",
       "            }, 500);\n",
       "            "
      ],
      "text/plain": [
       "<IPython.core.display.Javascript object>"
      ]
     },
     "metadata": {},
     "output_type": "display_data"
    }
   ],
   "source": [
    "qualifying_split_1_df[\"q3\"].replace(\"\\\\N\", np.NaN, inplace=True)"
   ]
  },
  {
   "cell_type": "code",
   "execution_count": 47,
   "id": "565d702a",
   "metadata": {},
   "outputs": [
    {
     "data": {
      "text/html": [
       "<div>\n",
       "<style scoped>\n",
       "    .dataframe tbody tr th:only-of-type {\n",
       "        vertical-align: middle;\n",
       "    }\n",
       "\n",
       "    .dataframe tbody tr th {\n",
       "        vertical-align: top;\n",
       "    }\n",
       "\n",
       "    .dataframe thead th {\n",
       "        text-align: right;\n",
       "    }\n",
       "</style>\n",
       "<table border=\"1\" class=\"dataframe\">\n",
       "  <thead>\n",
       "    <tr style=\"text-align: right;\">\n",
       "      <th></th>\n",
       "      <th>qualifyId</th>\n",
       "      <th>raceId</th>\n",
       "      <th>driverId</th>\n",
       "      <th>constructorId</th>\n",
       "      <th>number</th>\n",
       "      <th>position</th>\n",
       "      <th>q1</th>\n",
       "      <th>q2</th>\n",
       "      <th>q3</th>\n",
       "    </tr>\n",
       "  </thead>\n",
       "  <tbody>\n",
       "    <tr>\n",
       "      <th>2457</th>\n",
       "      <td>2459</td>\n",
       "      <td>251</td>\n",
       "      <td>49</td>\n",
       "      <td>15</td>\n",
       "      <td>30</td>\n",
       "      <td>10</td>\n",
       "      <td>1:26.541</td>\n",
       "      <td>NaN</td>\n",
       "      <td>NaN</td>\n",
       "    </tr>\n",
       "    <tr>\n",
       "      <th>4556</th>\n",
       "      <td>4558</td>\n",
       "      <td>841</td>\n",
       "      <td>816</td>\n",
       "      <td>166</td>\n",
       "      <td>25</td>\n",
       "      <td>22</td>\n",
       "      <td>1:30.822</td>\n",
       "      <td>NaN</td>\n",
       "      <td>NaN</td>\n",
       "    </tr>\n",
       "    <tr>\n",
       "      <th>4163</th>\n",
       "      <td>4165</td>\n",
       "      <td>94</td>\n",
       "      <td>22</td>\n",
       "      <td>6</td>\n",
       "      <td>2</td>\n",
       "      <td>5</td>\n",
       "      <td>1:16.272</td>\n",
       "      <td>NaN</td>\n",
       "      <td>NaN</td>\n",
       "    </tr>\n",
       "    <tr>\n",
       "      <th>3728</th>\n",
       "      <td>3730</td>\n",
       "      <td>353</td>\n",
       "      <td>5</td>\n",
       "      <td>205</td>\n",
       "      <td>19</td>\n",
       "      <td>21</td>\n",
       "      <td>1:41.768</td>\n",
       "      <td>NaN</td>\n",
       "      <td>NaN</td>\n",
       "    </tr>\n",
       "    <tr>\n",
       "      <th>2022</th>\n",
       "      <td>2023</td>\n",
       "      <td>216</td>\n",
       "      <td>75</td>\n",
       "      <td>20</td>\n",
       "      <td>15</td>\n",
       "      <td>17</td>\n",
       "      <td>1:44.112</td>\n",
       "      <td>NaN</td>\n",
       "      <td>NaN</td>\n",
       "    </tr>\n",
       "  </tbody>\n",
       "</table>\n",
       "</div>"
      ],
      "text/plain": [
       "      qualifyId  raceId  driverId  constructorId  number  position        q1  \\\n",
       "2457       2459     251        49             15      30        10  1:26.541   \n",
       "4556       4558     841       816            166      25        22  1:30.822   \n",
       "4163       4165      94        22              6       2         5  1:16.272   \n",
       "3728       3730     353         5            205      19        21  1:41.768   \n",
       "2022       2023     216        75             20      15        17  1:44.112   \n",
       "\n",
       "       q2   q3  \n",
       "2457  NaN  NaN  \n",
       "4556  NaN  NaN  \n",
       "4163  NaN  NaN  \n",
       "3728  NaN  NaN  \n",
       "2022  NaN  NaN  "
      ]
     },
     "execution_count": 47,
     "metadata": {},
     "output_type": "execute_result"
    },
    {
     "data": {
      "application/javascript": [
       "\n",
       "            setTimeout(function() {\n",
       "                var nbb_cell_id = 47;\n",
       "                var nbb_unformatted_code = \"qualifying_split_1_df.sample(5)\";\n",
       "                var nbb_formatted_code = \"qualifying_split_1_df.sample(5)\";\n",
       "                var nbb_cells = Jupyter.notebook.get_cells();\n",
       "                for (var i = 0; i < nbb_cells.length; ++i) {\n",
       "                    if (nbb_cells[i].input_prompt_number == nbb_cell_id) {\n",
       "                        if (nbb_cells[i].get_text() == nbb_unformatted_code) {\n",
       "                             nbb_cells[i].set_text(nbb_formatted_code);\n",
       "                        }\n",
       "                        break;\n",
       "                    }\n",
       "                }\n",
       "            }, 500);\n",
       "            "
      ],
      "text/plain": [
       "<IPython.core.display.Javascript object>"
      ]
     },
     "metadata": {},
     "output_type": "display_data"
    }
   ],
   "source": [
    "qualifying_split_1_df.sample(5)"
   ]
  },
  {
   "cell_type": "markdown",
   "id": "e8b87d16",
   "metadata": {},
   "source": [
    "### qualifying 2"
   ]
  },
  {
   "cell_type": "code",
   "execution_count": 48,
   "id": "3f2358d3",
   "metadata": {},
   "outputs": [
    {
     "data": {
      "application/javascript": [
       "\n",
       "            setTimeout(function() {\n",
       "                var nbb_cell_id = 48;\n",
       "                var nbb_unformatted_code = \"qualifying_split_2_df = pd.read_json(\\\"Datasets/Qualifying/qualifying_split_2.json\\\")\";\n",
       "                var nbb_formatted_code = \"qualifying_split_2_df = pd.read_json(\\\"Datasets/Qualifying/qualifying_split_2.json\\\")\";\n",
       "                var nbb_cells = Jupyter.notebook.get_cells();\n",
       "                for (var i = 0; i < nbb_cells.length; ++i) {\n",
       "                    if (nbb_cells[i].input_prompt_number == nbb_cell_id) {\n",
       "                        if (nbb_cells[i].get_text() == nbb_unformatted_code) {\n",
       "                             nbb_cells[i].set_text(nbb_formatted_code);\n",
       "                        }\n",
       "                        break;\n",
       "                    }\n",
       "                }\n",
       "            }, 500);\n",
       "            "
      ],
      "text/plain": [
       "<IPython.core.display.Javascript object>"
      ]
     },
     "metadata": {},
     "output_type": "display_data"
    }
   ],
   "source": [
    "qualifying_split_2_df = pd.read_json(\"Datasets/Qualifying/qualifying_split_2.json\")"
   ]
  },
  {
   "cell_type": "code",
   "execution_count": 49,
   "id": "cb5ecae5",
   "metadata": {},
   "outputs": [
    {
     "data": {
      "text/html": [
       "<div>\n",
       "<style scoped>\n",
       "    .dataframe tbody tr th:only-of-type {\n",
       "        vertical-align: middle;\n",
       "    }\n",
       "\n",
       "    .dataframe tbody tr th {\n",
       "        vertical-align: top;\n",
       "    }\n",
       "\n",
       "    .dataframe thead th {\n",
       "        text-align: right;\n",
       "    }\n",
       "</style>\n",
       "<table border=\"1\" class=\"dataframe\">\n",
       "  <thead>\n",
       "    <tr style=\"text-align: right;\">\n",
       "      <th></th>\n",
       "      <th>qualifyId</th>\n",
       "      <th>raceId</th>\n",
       "      <th>driverId</th>\n",
       "      <th>constructorId</th>\n",
       "      <th>number</th>\n",
       "      <th>position</th>\n",
       "      <th>q1</th>\n",
       "      <th>q2</th>\n",
       "      <th>q3</th>\n",
       "    </tr>\n",
       "  </thead>\n",
       "  <tbody>\n",
       "    <tr>\n",
       "      <th>3344</th>\n",
       "      <td>8367</td>\n",
       "      <td>1030</td>\n",
       "      <td>807</td>\n",
       "      <td>4</td>\n",
       "      <td>27</td>\n",
       "      <td>10</td>\n",
       "      <td>1:37.506</td>\n",
       "      <td>1:36.859</td>\n",
       "      <td>1:36.710</td>\n",
       "    </tr>\n",
       "    <tr>\n",
       "      <th>178</th>\n",
       "      <td>5180</td>\n",
       "      <td>869</td>\n",
       "      <td>4</td>\n",
       "      <td>6</td>\n",
       "      <td>5</td>\n",
       "      <td>1</td>\n",
       "      <td>1:16.073</td>\n",
       "      <td>1:38.521</td>\n",
       "      <td>1:40.621</td>\n",
       "    </tr>\n",
       "    <tr>\n",
       "      <th>3382</th>\n",
       "      <td>8405</td>\n",
       "      <td>1032</td>\n",
       "      <td>842</td>\n",
       "      <td>213</td>\n",
       "      <td>10</td>\n",
       "      <td>8</td>\n",
       "      <td>1:20.192</td>\n",
       "      <td>1:18.744</td>\n",
       "      <td>1:21.028</td>\n",
       "    </tr>\n",
       "    <tr>\n",
       "      <th>284</th>\n",
       "      <td>5286</td>\n",
       "      <td>873</td>\n",
       "      <td>8</td>\n",
       "      <td>208</td>\n",
       "      <td>9</td>\n",
       "      <td>12</td>\n",
       "      <td>1:48.169</td>\n",
       "      <td>1:48.261</td>\n",
       "      <td>\\N</td>\n",
       "    </tr>\n",
       "    <tr>\n",
       "      <th>3407</th>\n",
       "      <td>8430</td>\n",
       "      <td>1033</td>\n",
       "      <td>839</td>\n",
       "      <td>4</td>\n",
       "      <td>31</td>\n",
       "      <td>14</td>\n",
       "      <td>1:15.719</td>\n",
       "      <td>1:15.742</td>\n",
       "      <td>\\N</td>\n",
       "    </tr>\n",
       "  </tbody>\n",
       "</table>\n",
       "</div>"
      ],
      "text/plain": [
       "      qualifyId  raceId  driverId  constructorId  number  position        q1  \\\n",
       "3344       8367    1030       807              4      27        10  1:37.506   \n",
       "178        5180     869         4              6       5         1  1:16.073   \n",
       "3382       8405    1032       842            213      10         8  1:20.192   \n",
       "284        5286     873         8            208       9        12  1:48.169   \n",
       "3407       8430    1033       839              4      31        14  1:15.719   \n",
       "\n",
       "            q2        q3  \n",
       "3344  1:36.859  1:36.710  \n",
       "178   1:38.521  1:40.621  \n",
       "3382  1:18.744  1:21.028  \n",
       "284   1:48.261        \\N  \n",
       "3407  1:15.742        \\N  "
      ]
     },
     "execution_count": 49,
     "metadata": {},
     "output_type": "execute_result"
    },
    {
     "data": {
      "application/javascript": [
       "\n",
       "            setTimeout(function() {\n",
       "                var nbb_cell_id = 49;\n",
       "                var nbb_unformatted_code = \"qualifying_split_2_df.sample(5)\";\n",
       "                var nbb_formatted_code = \"qualifying_split_2_df.sample(5)\";\n",
       "                var nbb_cells = Jupyter.notebook.get_cells();\n",
       "                for (var i = 0; i < nbb_cells.length; ++i) {\n",
       "                    if (nbb_cells[i].input_prompt_number == nbb_cell_id) {\n",
       "                        if (nbb_cells[i].get_text() == nbb_unformatted_code) {\n",
       "                             nbb_cells[i].set_text(nbb_formatted_code);\n",
       "                        }\n",
       "                        break;\n",
       "                    }\n",
       "                }\n",
       "            }, 500);\n",
       "            "
      ],
      "text/plain": [
       "<IPython.core.display.Javascript object>"
      ]
     },
     "metadata": {},
     "output_type": "display_data"
    }
   ],
   "source": [
    "qualifying_split_2_df.sample(5)"
   ]
  },
  {
   "cell_type": "code",
   "execution_count": 50,
   "id": "fe7397c9",
   "metadata": {},
   "outputs": [
    {
     "name": "stdout",
     "output_type": "stream",
     "text": [
      "<class 'pandas.core.frame.DataFrame'>\n",
      "RangeIndex: 3695 entries, 0 to 3694\n",
      "Data columns (total 9 columns):\n",
      " #   Column         Non-Null Count  Dtype \n",
      "---  ------         --------------  ----- \n",
      " 0   qualifyId      3695 non-null   int64 \n",
      " 1   raceId         3695 non-null   int64 \n",
      " 2   driverId       3695 non-null   int64 \n",
      " 3   constructorId  3695 non-null   int64 \n",
      " 4   number         3695 non-null   int64 \n",
      " 5   position       3695 non-null   int64 \n",
      " 6   q1             3695 non-null   object\n",
      " 7   q2             3695 non-null   object\n",
      " 8   q3             3695 non-null   object\n",
      "dtypes: int64(6), object(3)\n",
      "memory usage: 259.9+ KB\n"
     ]
    },
    {
     "data": {
      "application/javascript": [
       "\n",
       "            setTimeout(function() {\n",
       "                var nbb_cell_id = 50;\n",
       "                var nbb_unformatted_code = \"qualifying_split_2_df.info()\";\n",
       "                var nbb_formatted_code = \"qualifying_split_2_df.info()\";\n",
       "                var nbb_cells = Jupyter.notebook.get_cells();\n",
       "                for (var i = 0; i < nbb_cells.length; ++i) {\n",
       "                    if (nbb_cells[i].input_prompt_number == nbb_cell_id) {\n",
       "                        if (nbb_cells[i].get_text() == nbb_unformatted_code) {\n",
       "                             nbb_cells[i].set_text(nbb_formatted_code);\n",
       "                        }\n",
       "                        break;\n",
       "                    }\n",
       "                }\n",
       "            }, 500);\n",
       "            "
      ],
      "text/plain": [
       "<IPython.core.display.Javascript object>"
      ]
     },
     "metadata": {},
     "output_type": "display_data"
    }
   ],
   "source": [
    "qualifying_split_2_df.info()"
   ]
  },
  {
   "cell_type": "code",
   "execution_count": 51,
   "id": "24f92059",
   "metadata": {},
   "outputs": [
    {
     "data": {
      "application/javascript": [
       "\n",
       "            setTimeout(function() {\n",
       "                var nbb_cell_id = 51;\n",
       "                var nbb_unformatted_code = \"qualifying_split_2_df[\\\"q2\\\"].replace(\\\"\\\\\\\\N\\\", np.NaN, inplace=True)\";\n",
       "                var nbb_formatted_code = \"qualifying_split_2_df[\\\"q2\\\"].replace(\\\"\\\\\\\\N\\\", np.NaN, inplace=True)\";\n",
       "                var nbb_cells = Jupyter.notebook.get_cells();\n",
       "                for (var i = 0; i < nbb_cells.length; ++i) {\n",
       "                    if (nbb_cells[i].input_prompt_number == nbb_cell_id) {\n",
       "                        if (nbb_cells[i].get_text() == nbb_unformatted_code) {\n",
       "                             nbb_cells[i].set_text(nbb_formatted_code);\n",
       "                        }\n",
       "                        break;\n",
       "                    }\n",
       "                }\n",
       "            }, 500);\n",
       "            "
      ],
      "text/plain": [
       "<IPython.core.display.Javascript object>"
      ]
     },
     "metadata": {},
     "output_type": "display_data"
    }
   ],
   "source": [
    "qualifying_split_2_df[\"q2\"].replace(\"\\\\N\", np.NaN, inplace=True)"
   ]
  },
  {
   "cell_type": "code",
   "execution_count": 52,
   "id": "186b6f50",
   "metadata": {},
   "outputs": [
    {
     "data": {
      "application/javascript": [
       "\n",
       "            setTimeout(function() {\n",
       "                var nbb_cell_id = 52;\n",
       "                var nbb_unformatted_code = \"qualifying_split_2_df[\\\"q3\\\"].replace(\\\"\\\\\\\\N\\\", np.NaN, inplace=True)\";\n",
       "                var nbb_formatted_code = \"qualifying_split_2_df[\\\"q3\\\"].replace(\\\"\\\\\\\\N\\\", np.NaN, inplace=True)\";\n",
       "                var nbb_cells = Jupyter.notebook.get_cells();\n",
       "                for (var i = 0; i < nbb_cells.length; ++i) {\n",
       "                    if (nbb_cells[i].input_prompt_number == nbb_cell_id) {\n",
       "                        if (nbb_cells[i].get_text() == nbb_unformatted_code) {\n",
       "                             nbb_cells[i].set_text(nbb_formatted_code);\n",
       "                        }\n",
       "                        break;\n",
       "                    }\n",
       "                }\n",
       "            }, 500);\n",
       "            "
      ],
      "text/plain": [
       "<IPython.core.display.Javascript object>"
      ]
     },
     "metadata": {},
     "output_type": "display_data"
    }
   ],
   "source": [
    "qualifying_split_2_df[\"q3\"].replace(\"\\\\N\", np.NaN, inplace=True)"
   ]
  },
  {
   "cell_type": "code",
   "execution_count": 53,
   "id": "45d74762",
   "metadata": {},
   "outputs": [
    {
     "data": {
      "text/plain": [
       "qualifyId           0\n",
       "raceId              0\n",
       "driverId            0\n",
       "constructorId       0\n",
       "number              0\n",
       "position            0\n",
       "q1                  0\n",
       "q2                897\n",
       "q3               1764\n",
       "dtype: int64"
      ]
     },
     "execution_count": 53,
     "metadata": {},
     "output_type": "execute_result"
    },
    {
     "data": {
      "application/javascript": [
       "\n",
       "            setTimeout(function() {\n",
       "                var nbb_cell_id = 53;\n",
       "                var nbb_unformatted_code = \"qualifying_split_2_df.isnull().sum()\";\n",
       "                var nbb_formatted_code = \"qualifying_split_2_df.isnull().sum()\";\n",
       "                var nbb_cells = Jupyter.notebook.get_cells();\n",
       "                for (var i = 0; i < nbb_cells.length; ++i) {\n",
       "                    if (nbb_cells[i].input_prompt_number == nbb_cell_id) {\n",
       "                        if (nbb_cells[i].get_text() == nbb_unformatted_code) {\n",
       "                             nbb_cells[i].set_text(nbb_formatted_code);\n",
       "                        }\n",
       "                        break;\n",
       "                    }\n",
       "                }\n",
       "            }, 500);\n",
       "            "
      ],
      "text/plain": [
       "<IPython.core.display.Javascript object>"
      ]
     },
     "metadata": {},
     "output_type": "display_data"
    }
   ],
   "source": [
    "qualifying_split_2_df.isnull().sum()"
   ]
  },
  {
   "cell_type": "code",
   "execution_count": 54,
   "id": "30220d0b",
   "metadata": {},
   "outputs": [
    {
     "data": {
      "application/javascript": [
       "\n",
       "            setTimeout(function() {\n",
       "                var nbb_cell_id = 54;\n",
       "                var nbb_unformatted_code = \"qualifying_concat = pd.concat(\\n    [qualifying_split_1_df, qualifying_split_2_df], ignore_index=True\\n)\";\n",
       "                var nbb_formatted_code = \"qualifying_concat = pd.concat(\\n    [qualifying_split_1_df, qualifying_split_2_df], ignore_index=True\\n)\";\n",
       "                var nbb_cells = Jupyter.notebook.get_cells();\n",
       "                for (var i = 0; i < nbb_cells.length; ++i) {\n",
       "                    if (nbb_cells[i].input_prompt_number == nbb_cell_id) {\n",
       "                        if (nbb_cells[i].get_text() == nbb_unformatted_code) {\n",
       "                             nbb_cells[i].set_text(nbb_formatted_code);\n",
       "                        }\n",
       "                        break;\n",
       "                    }\n",
       "                }\n",
       "            }, 500);\n",
       "            "
      ],
      "text/plain": [
       "<IPython.core.display.Javascript object>"
      ]
     },
     "metadata": {},
     "output_type": "display_data"
    }
   ],
   "source": [
    "qualifying_concat = pd.concat(\n",
    "    [qualifying_split_1_df, qualifying_split_2_df], ignore_index=True\n",
    ")"
   ]
  },
  {
   "cell_type": "code",
   "execution_count": 55,
   "id": "cf745cd0",
   "metadata": {},
   "outputs": [
    {
     "data": {
      "text/html": [
       "<div>\n",
       "<style scoped>\n",
       "    .dataframe tbody tr th:only-of-type {\n",
       "        vertical-align: middle;\n",
       "    }\n",
       "\n",
       "    .dataframe tbody tr th {\n",
       "        vertical-align: top;\n",
       "    }\n",
       "\n",
       "    .dataframe thead th {\n",
       "        text-align: right;\n",
       "    }\n",
       "</style>\n",
       "<table border=\"1\" class=\"dataframe\">\n",
       "  <thead>\n",
       "    <tr style=\"text-align: right;\">\n",
       "      <th></th>\n",
       "      <th>qualifyId</th>\n",
       "      <th>raceId</th>\n",
       "      <th>driverId</th>\n",
       "      <th>constructorId</th>\n",
       "      <th>number</th>\n",
       "      <th>position</th>\n",
       "      <th>q1</th>\n",
       "      <th>q2</th>\n",
       "      <th>q3</th>\n",
       "    </tr>\n",
       "  </thead>\n",
       "  <tbody>\n",
       "    <tr>\n",
       "      <th>0</th>\n",
       "      <td>1</td>\n",
       "      <td>18</td>\n",
       "      <td>1</td>\n",
       "      <td>1</td>\n",
       "      <td>22</td>\n",
       "      <td>1</td>\n",
       "      <td>1:26.572</td>\n",
       "      <td>1:25.187</td>\n",
       "      <td>1:26.714</td>\n",
       "    </tr>\n",
       "    <tr>\n",
       "      <th>1</th>\n",
       "      <td>2</td>\n",
       "      <td>18</td>\n",
       "      <td>9</td>\n",
       "      <td>2</td>\n",
       "      <td>4</td>\n",
       "      <td>2</td>\n",
       "      <td>1:26.103</td>\n",
       "      <td>1:25.315</td>\n",
       "      <td>1:26.869</td>\n",
       "    </tr>\n",
       "    <tr>\n",
       "      <th>2</th>\n",
       "      <td>3</td>\n",
       "      <td>18</td>\n",
       "      <td>5</td>\n",
       "      <td>1</td>\n",
       "      <td>23</td>\n",
       "      <td>3</td>\n",
       "      <td>1:25.664</td>\n",
       "      <td>1:25.452</td>\n",
       "      <td>1:27.079</td>\n",
       "    </tr>\n",
       "    <tr>\n",
       "      <th>3</th>\n",
       "      <td>4</td>\n",
       "      <td>18</td>\n",
       "      <td>13</td>\n",
       "      <td>6</td>\n",
       "      <td>2</td>\n",
       "      <td>4</td>\n",
       "      <td>1:25.994</td>\n",
       "      <td>1:25.691</td>\n",
       "      <td>1:27.178</td>\n",
       "    </tr>\n",
       "    <tr>\n",
       "      <th>4</th>\n",
       "      <td>5</td>\n",
       "      <td>18</td>\n",
       "      <td>2</td>\n",
       "      <td>2</td>\n",
       "      <td>3</td>\n",
       "      <td>5</td>\n",
       "      <td>1:25.960</td>\n",
       "      <td>1:25.518</td>\n",
       "      <td>1:27.236</td>\n",
       "    </tr>\n",
       "    <tr>\n",
       "      <th>...</th>\n",
       "      <td>...</td>\n",
       "      <td>...</td>\n",
       "      <td>...</td>\n",
       "      <td>...</td>\n",
       "      <td>...</td>\n",
       "      <td>...</td>\n",
       "      <td>...</td>\n",
       "      <td>...</td>\n",
       "      <td>...</td>\n",
       "    </tr>\n",
       "    <tr>\n",
       "      <th>8689</th>\n",
       "      <td>8730</td>\n",
       "      <td>1047</td>\n",
       "      <td>8</td>\n",
       "      <td>51</td>\n",
       "      <td>7</td>\n",
       "      <td>16</td>\n",
       "      <td>1:37.555</td>\n",
       "      <td>NaN</td>\n",
       "      <td>NaN</td>\n",
       "    </tr>\n",
       "    <tr>\n",
       "      <th>8690</th>\n",
       "      <td>8731</td>\n",
       "      <td>1047</td>\n",
       "      <td>825</td>\n",
       "      <td>210</td>\n",
       "      <td>20</td>\n",
       "      <td>17</td>\n",
       "      <td>1:37.863</td>\n",
       "      <td>NaN</td>\n",
       "      <td>NaN</td>\n",
       "    </tr>\n",
       "    <tr>\n",
       "      <th>8691</th>\n",
       "      <td>8732</td>\n",
       "      <td>1047</td>\n",
       "      <td>847</td>\n",
       "      <td>3</td>\n",
       "      <td>63</td>\n",
       "      <td>18</td>\n",
       "      <td>1:38.045</td>\n",
       "      <td>NaN</td>\n",
       "      <td>NaN</td>\n",
       "    </tr>\n",
       "    <tr>\n",
       "      <th>8692</th>\n",
       "      <td>8733</td>\n",
       "      <td>1047</td>\n",
       "      <td>850</td>\n",
       "      <td>210</td>\n",
       "      <td>51</td>\n",
       "      <td>19</td>\n",
       "      <td>1:38.173</td>\n",
       "      <td>NaN</td>\n",
       "      <td>NaN</td>\n",
       "    </tr>\n",
       "    <tr>\n",
       "      <th>8693</th>\n",
       "      <td>8734</td>\n",
       "      <td>1047</td>\n",
       "      <td>849</td>\n",
       "      <td>3</td>\n",
       "      <td>6</td>\n",
       "      <td>20</td>\n",
       "      <td>1:38.443</td>\n",
       "      <td>NaN</td>\n",
       "      <td>NaN</td>\n",
       "    </tr>\n",
       "  </tbody>\n",
       "</table>\n",
       "<p>8694 rows × 9 columns</p>\n",
       "</div>"
      ],
      "text/plain": [
       "      qualifyId  raceId  driverId  constructorId  number  position        q1  \\\n",
       "0             1      18         1              1      22         1  1:26.572   \n",
       "1             2      18         9              2       4         2  1:26.103   \n",
       "2             3      18         5              1      23         3  1:25.664   \n",
       "3             4      18        13              6       2         4  1:25.994   \n",
       "4             5      18         2              2       3         5  1:25.960   \n",
       "...         ...     ...       ...            ...     ...       ...       ...   \n",
       "8689       8730    1047         8             51       7        16  1:37.555   \n",
       "8690       8731    1047       825            210      20        17  1:37.863   \n",
       "8691       8732    1047       847              3      63        18  1:38.045   \n",
       "8692       8733    1047       850            210      51        19  1:38.173   \n",
       "8693       8734    1047       849              3       6        20  1:38.443   \n",
       "\n",
       "            q2        q3  \n",
       "0     1:25.187  1:26.714  \n",
       "1     1:25.315  1:26.869  \n",
       "2     1:25.452  1:27.079  \n",
       "3     1:25.691  1:27.178  \n",
       "4     1:25.518  1:27.236  \n",
       "...        ...       ...  \n",
       "8689       NaN       NaN  \n",
       "8690       NaN       NaN  \n",
       "8691       NaN       NaN  \n",
       "8692       NaN       NaN  \n",
       "8693       NaN       NaN  \n",
       "\n",
       "[8694 rows x 9 columns]"
      ]
     },
     "execution_count": 55,
     "metadata": {},
     "output_type": "execute_result"
    },
    {
     "data": {
      "application/javascript": [
       "\n",
       "            setTimeout(function() {\n",
       "                var nbb_cell_id = 55;\n",
       "                var nbb_unformatted_code = \"qualifying_concat\";\n",
       "                var nbb_formatted_code = \"qualifying_concat\";\n",
       "                var nbb_cells = Jupyter.notebook.get_cells();\n",
       "                for (var i = 0; i < nbb_cells.length; ++i) {\n",
       "                    if (nbb_cells[i].input_prompt_number == nbb_cell_id) {\n",
       "                        if (nbb_cells[i].get_text() == nbb_unformatted_code) {\n",
       "                             nbb_cells[i].set_text(nbb_formatted_code);\n",
       "                        }\n",
       "                        break;\n",
       "                    }\n",
       "                }\n",
       "            }, 500);\n",
       "            "
      ],
      "text/plain": [
       "<IPython.core.display.Javascript object>"
      ]
     },
     "metadata": {},
     "output_type": "display_data"
    }
   ],
   "source": [
    "qualifying_concat"
   ]
  },
  {
   "cell_type": "code",
   "execution_count": 56,
   "id": "bae3c175",
   "metadata": {},
   "outputs": [
    {
     "data": {
      "application/javascript": [
       "\n",
       "            setTimeout(function() {\n",
       "                var nbb_cell_id = 56;\n",
       "                var nbb_unformatted_code = \"qualifying_concat.to_csv(\\\"Datawarehouse/qualifying.csv\\\", index=False)\";\n",
       "                var nbb_formatted_code = \"qualifying_concat.to_csv(\\\"Datawarehouse/qualifying.csv\\\", index=False)\";\n",
       "                var nbb_cells = Jupyter.notebook.get_cells();\n",
       "                for (var i = 0; i < nbb_cells.length; ++i) {\n",
       "                    if (nbb_cells[i].input_prompt_number == nbb_cell_id) {\n",
       "                        if (nbb_cells[i].get_text() == nbb_unformatted_code) {\n",
       "                             nbb_cells[i].set_text(nbb_formatted_code);\n",
       "                        }\n",
       "                        break;\n",
       "                    }\n",
       "                }\n",
       "            }, 500);\n",
       "            "
      ],
      "text/plain": [
       "<IPython.core.display.Javascript object>"
      ]
     },
     "metadata": {},
     "output_type": "display_data"
    }
   ],
   "source": [
    "qualifying_concat.to_csv(\"Datawarehouse/qualifying.csv\", index=False)"
   ]
  },
  {
   "cell_type": "markdown",
   "id": "a35f8183",
   "metadata": {},
   "source": [
    "## lap_times_split"
   ]
  },
  {
   "cell_type": "code",
   "execution_count": 57,
   "id": "8262584c",
   "metadata": {},
   "outputs": [
    {
     "data": {
      "application/javascript": [
       "\n",
       "            setTimeout(function() {\n",
       "                var nbb_cell_id = 57;\n",
       "                var nbb_unformatted_code = \"all_files = glob.glob(\\\"Datasets/lap_times/*.csv\\\")\\nlap_times_df = pd.concat(\\n    (\\n        pd.read_csv(\\n            f,\\n            header=None,\\n            names=[\\\"raceId\\\", \\\"driverId\\\", \\\"lab\\\", \\\"position\\\", \\\"time\\\", \\\"milliseconds\\\"],\\n        )\\n        for f in all_files\\n    )\\n)\";\n",
       "                var nbb_formatted_code = \"all_files = glob.glob(\\\"Datasets/lap_times/*.csv\\\")\\nlap_times_df = pd.concat(\\n    (\\n        pd.read_csv(\\n            f,\\n            header=None,\\n            names=[\\\"raceId\\\", \\\"driverId\\\", \\\"lab\\\", \\\"position\\\", \\\"time\\\", \\\"milliseconds\\\"],\\n        )\\n        for f in all_files\\n    )\\n)\";\n",
       "                var nbb_cells = Jupyter.notebook.get_cells();\n",
       "                for (var i = 0; i < nbb_cells.length; ++i) {\n",
       "                    if (nbb_cells[i].input_prompt_number == nbb_cell_id) {\n",
       "                        if (nbb_cells[i].get_text() == nbb_unformatted_code) {\n",
       "                             nbb_cells[i].set_text(nbb_formatted_code);\n",
       "                        }\n",
       "                        break;\n",
       "                    }\n",
       "                }\n",
       "            }, 500);\n",
       "            "
      ],
      "text/plain": [
       "<IPython.core.display.Javascript object>"
      ]
     },
     "metadata": {},
     "output_type": "display_data"
    }
   ],
   "source": [
    "all_files = glob.glob(\"Datasets/lap_times/*.csv\")\n",
    "lap_times_df = pd.concat(\n",
    "    (\n",
    "        pd.read_csv(\n",
    "            f,\n",
    "            header=None,\n",
    "            names=[\"raceId\", \"driverId\", \"lab\", \"position\", \"time\", \"milliseconds\"],\n",
    "        )\n",
    "        for f in all_files\n",
    "    )\n",
    ")"
   ]
  },
  {
   "cell_type": "code",
   "execution_count": 58,
   "id": "aa72d482",
   "metadata": {},
   "outputs": [
    {
     "data": {
      "text/html": [
       "<div>\n",
       "<style scoped>\n",
       "    .dataframe tbody tr th:only-of-type {\n",
       "        vertical-align: middle;\n",
       "    }\n",
       "\n",
       "    .dataframe tbody tr th {\n",
       "        vertical-align: top;\n",
       "    }\n",
       "\n",
       "    .dataframe thead th {\n",
       "        text-align: right;\n",
       "    }\n",
       "</style>\n",
       "<table border=\"1\" class=\"dataframe\">\n",
       "  <thead>\n",
       "    <tr style=\"text-align: right;\">\n",
       "      <th></th>\n",
       "      <th>raceId</th>\n",
       "      <th>driverId</th>\n",
       "      <th>lab</th>\n",
       "      <th>position</th>\n",
       "      <th>time</th>\n",
       "      <th>milliseconds</th>\n",
       "    </tr>\n",
       "  </thead>\n",
       "  <tbody>\n",
       "    <tr>\n",
       "      <th>95555</th>\n",
       "      <td>929</td>\n",
       "      <td>829</td>\n",
       "      <td>15</td>\n",
       "      <td>18</td>\n",
       "      <td>1:45.957</td>\n",
       "      <td>105957</td>\n",
       "    </tr>\n",
       "    <tr>\n",
       "      <th>95878</th>\n",
       "      <td>63</td>\n",
       "      <td>2</td>\n",
       "      <td>69</td>\n",
       "      <td>8</td>\n",
       "      <td>1:19.842</td>\n",
       "      <td>79842</td>\n",
       "    </tr>\n",
       "    <tr>\n",
       "      <th>56781</th>\n",
       "      <td>14</td>\n",
       "      <td>6</td>\n",
       "      <td>28</td>\n",
       "      <td>10</td>\n",
       "      <td>1:52.426</td>\n",
       "      <td>112426</td>\n",
       "    </tr>\n",
       "    <tr>\n",
       "      <th>29228</th>\n",
       "      <td>208</td>\n",
       "      <td>49</td>\n",
       "      <td>70</td>\n",
       "      <td>9</td>\n",
       "      <td>1:21.034</td>\n",
       "      <td>81034</td>\n",
       "    </tr>\n",
       "    <tr>\n",
       "      <th>44738</th>\n",
       "      <td>3</td>\n",
       "      <td>2</td>\n",
       "      <td>54</td>\n",
       "      <td>10</td>\n",
       "      <td>2:02.170</td>\n",
       "      <td>122170</td>\n",
       "    </tr>\n",
       "  </tbody>\n",
       "</table>\n",
       "</div>"
      ],
      "text/plain": [
       "       raceId  driverId  lab  position      time  milliseconds\n",
       "95555     929       829   15        18  1:45.957        105957\n",
       "95878      63         2   69         8  1:19.842         79842\n",
       "56781      14         6   28        10  1:52.426        112426\n",
       "29228     208        49   70         9  1:21.034         81034\n",
       "44738       3         2   54        10  2:02.170        122170"
      ]
     },
     "execution_count": 58,
     "metadata": {},
     "output_type": "execute_result"
    },
    {
     "data": {
      "application/javascript": [
       "\n",
       "            setTimeout(function() {\n",
       "                var nbb_cell_id = 58;\n",
       "                var nbb_unformatted_code = \"lap_times_df.sample(5)\";\n",
       "                var nbb_formatted_code = \"lap_times_df.sample(5)\";\n",
       "                var nbb_cells = Jupyter.notebook.get_cells();\n",
       "                for (var i = 0; i < nbb_cells.length; ++i) {\n",
       "                    if (nbb_cells[i].input_prompt_number == nbb_cell_id) {\n",
       "                        if (nbb_cells[i].get_text() == nbb_unformatted_code) {\n",
       "                             nbb_cells[i].set_text(nbb_formatted_code);\n",
       "                        }\n",
       "                        break;\n",
       "                    }\n",
       "                }\n",
       "            }, 500);\n",
       "            "
      ],
      "text/plain": [
       "<IPython.core.display.Javascript object>"
      ]
     },
     "metadata": {},
     "output_type": "display_data"
    }
   ],
   "source": [
    "lap_times_df.sample(5)"
   ]
  },
  {
   "cell_type": "code",
   "execution_count": 59,
   "id": "02f81577",
   "metadata": {},
   "outputs": [
    {
     "name": "stdout",
     "output_type": "stream",
     "text": [
      "<class 'pandas.core.frame.DataFrame'>\n",
      "Int64Index: 490904 entries, 0 to 90904\n",
      "Data columns (total 6 columns):\n",
      " #   Column        Non-Null Count   Dtype \n",
      "---  ------        --------------   ----- \n",
      " 0   raceId        490904 non-null  int64 \n",
      " 1   driverId      490904 non-null  int64 \n",
      " 2   lab           490904 non-null  int64 \n",
      " 3   position      490904 non-null  int64 \n",
      " 4   time          490904 non-null  object\n",
      " 5   milliseconds  490904 non-null  int64 \n",
      "dtypes: int64(5), object(1)\n",
      "memory usage: 26.2+ MB\n"
     ]
    },
    {
     "data": {
      "application/javascript": [
       "\n",
       "            setTimeout(function() {\n",
       "                var nbb_cell_id = 59;\n",
       "                var nbb_unformatted_code = \"lap_times_df.info()\";\n",
       "                var nbb_formatted_code = \"lap_times_df.info()\";\n",
       "                var nbb_cells = Jupyter.notebook.get_cells();\n",
       "                for (var i = 0; i < nbb_cells.length; ++i) {\n",
       "                    if (nbb_cells[i].input_prompt_number == nbb_cell_id) {\n",
       "                        if (nbb_cells[i].get_text() == nbb_unformatted_code) {\n",
       "                             nbb_cells[i].set_text(nbb_formatted_code);\n",
       "                        }\n",
       "                        break;\n",
       "                    }\n",
       "                }\n",
       "            }, 500);\n",
       "            "
      ],
      "text/plain": [
       "<IPython.core.display.Javascript object>"
      ]
     },
     "metadata": {},
     "output_type": "display_data"
    }
   ],
   "source": [
    "lap_times_df.info()"
   ]
  },
  {
   "cell_type": "code",
   "execution_count": 60,
   "id": "e7fb8c34",
   "metadata": {},
   "outputs": [
    {
     "data": {
      "application/javascript": [
       "\n",
       "            setTimeout(function() {\n",
       "                var nbb_cell_id = 60;\n",
       "                var nbb_unformatted_code = \"lap_times_df.to_csv(\\\"Datawarehouse/lap_times.csv\\\", index=False)\";\n",
       "                var nbb_formatted_code = \"lap_times_df.to_csv(\\\"Datawarehouse/lap_times.csv\\\", index=False)\";\n",
       "                var nbb_cells = Jupyter.notebook.get_cells();\n",
       "                for (var i = 0; i < nbb_cells.length; ++i) {\n",
       "                    if (nbb_cells[i].input_prompt_number == nbb_cell_id) {\n",
       "                        if (nbb_cells[i].get_text() == nbb_unformatted_code) {\n",
       "                             nbb_cells[i].set_text(nbb_formatted_code);\n",
       "                        }\n",
       "                        break;\n",
       "                    }\n",
       "                }\n",
       "            }, 500);\n",
       "            "
      ],
      "text/plain": [
       "<IPython.core.display.Javascript object>"
      ]
     },
     "metadata": {},
     "output_type": "display_data"
    }
   ],
   "source": [
    "lap_times_df.to_csv(\"Datawarehouse/lap_times.csv\", index=False)"
   ]
  },
  {
   "cell_type": "markdown",
   "id": "413859c0",
   "metadata": {},
   "source": [
    "## Ingest data"
   ]
  },
  {
   "cell_type": "code",
   "execution_count": 70,
   "id": "213de1cf",
   "metadata": {},
   "outputs": [
    {
     "data": {
      "application/javascript": [
       "\n",
       "            setTimeout(function() {\n",
       "                var nbb_cell_id = 70;\n",
       "                var nbb_unformatted_code = \"conn = sqlite3.connect(\\\"sql_app.db\\\")\";\n",
       "                var nbb_formatted_code = \"conn = sqlite3.connect(\\\"sql_app.db\\\")\";\n",
       "                var nbb_cells = Jupyter.notebook.get_cells();\n",
       "                for (var i = 0; i < nbb_cells.length; ++i) {\n",
       "                    if (nbb_cells[i].input_prompt_number == nbb_cell_id) {\n",
       "                        if (nbb_cells[i].get_text() == nbb_unformatted_code) {\n",
       "                             nbb_cells[i].set_text(nbb_formatted_code);\n",
       "                        }\n",
       "                        break;\n",
       "                    }\n",
       "                }\n",
       "            }, 500);\n",
       "            "
      ],
      "text/plain": [
       "<IPython.core.display.Javascript object>"
      ]
     },
     "metadata": {},
     "output_type": "display_data"
    }
   ],
   "source": [
    "conn = sqlite3.connect(\"sql_app.db\")"
   ]
  },
  {
   "cell_type": "code",
   "execution_count": 71,
   "id": "b7a51c90",
   "metadata": {},
   "outputs": [
    {
     "data": {
      "text/plain": [
       "77"
      ]
     },
     "execution_count": 71,
     "metadata": {},
     "output_type": "execute_result"
    },
    {
     "data": {
      "application/javascript": [
       "\n",
       "            setTimeout(function() {\n",
       "                var nbb_cell_id = 71;\n",
       "                var nbb_unformatted_code = \"circuit_df = pd.read_csv(\\\"Datawarehouse/circuits.csv\\\")\\ncircuit_df.to_sql(\\\"circuit\\\", conn, if_exists=\\\"replace\\\", index=False)\";\n",
       "                var nbb_formatted_code = \"circuit_df = pd.read_csv(\\\"Datawarehouse/circuits.csv\\\")\\ncircuit_df.to_sql(\\\"circuit\\\", conn, if_exists=\\\"replace\\\", index=False)\";\n",
       "                var nbb_cells = Jupyter.notebook.get_cells();\n",
       "                for (var i = 0; i < nbb_cells.length; ++i) {\n",
       "                    if (nbb_cells[i].input_prompt_number == nbb_cell_id) {\n",
       "                        if (nbb_cells[i].get_text() == nbb_unformatted_code) {\n",
       "                             nbb_cells[i].set_text(nbb_formatted_code);\n",
       "                        }\n",
       "                        break;\n",
       "                    }\n",
       "                }\n",
       "            }, 500);\n",
       "            "
      ],
      "text/plain": [
       "<IPython.core.display.Javascript object>"
      ]
     },
     "metadata": {},
     "output_type": "display_data"
    }
   ],
   "source": [
    "circuit_df = pd.read_csv(\"Datawarehouse/circuits.csv\")\n",
    "circuit_df.to_sql(\"circuit\", conn, if_exists=\"replace\", index=False)"
   ]
  },
  {
   "cell_type": "code",
   "execution_count": 72,
   "id": "7cf7e2d6",
   "metadata": {},
   "outputs": [
    {
     "data": {
      "text/plain": [
       "211"
      ]
     },
     "execution_count": 72,
     "metadata": {},
     "output_type": "execute_result"
    },
    {
     "data": {
      "application/javascript": [
       "\n",
       "            setTimeout(function() {\n",
       "                var nbb_cell_id = 72;\n",
       "                var nbb_unformatted_code = \"constructor_df = pd.read_csv(\\\"Datawarehouse/constructors.csv\\\")\\nconstructor_df.to_sql(\\\"constructor\\\", conn, if_exists=\\\"replace\\\", index=False)\";\n",
       "                var nbb_formatted_code = \"constructor_df = pd.read_csv(\\\"Datawarehouse/constructors.csv\\\")\\nconstructor_df.to_sql(\\\"constructor\\\", conn, if_exists=\\\"replace\\\", index=False)\";\n",
       "                var nbb_cells = Jupyter.notebook.get_cells();\n",
       "                for (var i = 0; i < nbb_cells.length; ++i) {\n",
       "                    if (nbb_cells[i].input_prompt_number == nbb_cell_id) {\n",
       "                        if (nbb_cells[i].get_text() == nbb_unformatted_code) {\n",
       "                             nbb_cells[i].set_text(nbb_formatted_code);\n",
       "                        }\n",
       "                        break;\n",
       "                    }\n",
       "                }\n",
       "            }, 500);\n",
       "            "
      ],
      "text/plain": [
       "<IPython.core.display.Javascript object>"
      ]
     },
     "metadata": {},
     "output_type": "display_data"
    }
   ],
   "source": [
    "constructor_df = pd.read_csv(\"Datawarehouse/constructors.csv\")\n",
    "constructor_df.to_sql(\"constructor\", conn, if_exists=\"replace\", index=False)"
   ]
  },
  {
   "cell_type": "code",
   "execution_count": 73,
   "id": "e43ca64a",
   "metadata": {},
   "outputs": [
    {
     "data": {
      "text/plain": [
       "853"
      ]
     },
     "execution_count": 73,
     "metadata": {},
     "output_type": "execute_result"
    },
    {
     "data": {
      "application/javascript": [
       "\n",
       "            setTimeout(function() {\n",
       "                var nbb_cell_id = 73;\n",
       "                var nbb_unformatted_code = \"driver_df = pd.read_csv(\\\"Datawarehouse/drivers.csv\\\")\\ndriver_df.to_sql(\\\"driver\\\", conn, if_exists=\\\"replace\\\", index=False)\";\n",
       "                var nbb_formatted_code = \"driver_df = pd.read_csv(\\\"Datawarehouse/drivers.csv\\\")\\ndriver_df.to_sql(\\\"driver\\\", conn, if_exists=\\\"replace\\\", index=False)\";\n",
       "                var nbb_cells = Jupyter.notebook.get_cells();\n",
       "                for (var i = 0; i < nbb_cells.length; ++i) {\n",
       "                    if (nbb_cells[i].input_prompt_number == nbb_cell_id) {\n",
       "                        if (nbb_cells[i].get_text() == nbb_unformatted_code) {\n",
       "                             nbb_cells[i].set_text(nbb_formatted_code);\n",
       "                        }\n",
       "                        break;\n",
       "                    }\n",
       "                }\n",
       "            }, 500);\n",
       "            "
      ],
      "text/plain": [
       "<IPython.core.display.Javascript object>"
      ]
     },
     "metadata": {},
     "output_type": "display_data"
    }
   ],
   "source": [
    "driver_df = pd.read_csv(\"Datawarehouse/drivers.csv\")\n",
    "driver_df.to_sql(\"driver\", conn, if_exists=\"replace\", index=False)"
   ]
  },
  {
   "cell_type": "code",
   "execution_count": 74,
   "id": "0c0e104a",
   "metadata": {},
   "outputs": [
    {
     "data": {
      "text/plain": [
       "8030"
      ]
     },
     "execution_count": 74,
     "metadata": {},
     "output_type": "execute_result"
    },
    {
     "data": {
      "application/javascript": [
       "\n",
       "            setTimeout(function() {\n",
       "                var nbb_cell_id = 74;\n",
       "                var nbb_unformatted_code = \"pit_stop_df = pd.read_csv(\\\"Datawarehouse/pit_stops.csv\\\")\\npit_stop_df.to_sql(\\\"pitstop\\\", conn, if_exists=\\\"replace\\\", index=False)\";\n",
       "                var nbb_formatted_code = \"pit_stop_df = pd.read_csv(\\\"Datawarehouse/pit_stops.csv\\\")\\npit_stop_df.to_sql(\\\"pitstop\\\", conn, if_exists=\\\"replace\\\", index=False)\";\n",
       "                var nbb_cells = Jupyter.notebook.get_cells();\n",
       "                for (var i = 0; i < nbb_cells.length; ++i) {\n",
       "                    if (nbb_cells[i].input_prompt_number == nbb_cell_id) {\n",
       "                        if (nbb_cells[i].get_text() == nbb_unformatted_code) {\n",
       "                             nbb_cells[i].set_text(nbb_formatted_code);\n",
       "                        }\n",
       "                        break;\n",
       "                    }\n",
       "                }\n",
       "            }, 500);\n",
       "            "
      ],
      "text/plain": [
       "<IPython.core.display.Javascript object>"
      ]
     },
     "metadata": {},
     "output_type": "display_data"
    }
   ],
   "source": [
    "pit_stop_df = pd.read_csv(\"Datawarehouse/pit_stops.csv\")\n",
    "pit_stop_df.to_sql(\"pitstop\", conn, if_exists=\"replace\", index=False)"
   ]
  },
  {
   "cell_type": "code",
   "execution_count": 75,
   "id": "8f783f65",
   "metadata": {},
   "outputs": [
    {
     "data": {
      "text/plain": [
       "1058"
      ]
     },
     "execution_count": 75,
     "metadata": {},
     "output_type": "execute_result"
    },
    {
     "data": {
      "application/javascript": [
       "\n",
       "            setTimeout(function() {\n",
       "                var nbb_cell_id = 75;\n",
       "                var nbb_unformatted_code = \"race_df = pd.read_csv(\\\"Datawarehouse/races.csv\\\")\\nrace_df.to_sql(\\\"race\\\", conn, if_exists=\\\"replace\\\", index=False)\";\n",
       "                var nbb_formatted_code = \"race_df = pd.read_csv(\\\"Datawarehouse/races.csv\\\")\\nrace_df.to_sql(\\\"race\\\", conn, if_exists=\\\"replace\\\", index=False)\";\n",
       "                var nbb_cells = Jupyter.notebook.get_cells();\n",
       "                for (var i = 0; i < nbb_cells.length; ++i) {\n",
       "                    if (nbb_cells[i].input_prompt_number == nbb_cell_id) {\n",
       "                        if (nbb_cells[i].get_text() == nbb_unformatted_code) {\n",
       "                             nbb_cells[i].set_text(nbb_formatted_code);\n",
       "                        }\n",
       "                        break;\n",
       "                    }\n",
       "                }\n",
       "            }, 500);\n",
       "            "
      ],
      "text/plain": [
       "<IPython.core.display.Javascript object>"
      ]
     },
     "metadata": {},
     "output_type": "display_data"
    }
   ],
   "source": [
    "race_df = pd.read_csv(\"Datawarehouse/races.csv\")\n",
    "race_df.to_sql(\"race\", conn, if_exists=\"replace\", index=False)"
   ]
  },
  {
   "cell_type": "code",
   "execution_count": 76,
   "id": "6322dab3",
   "metadata": {},
   "outputs": [
    {
     "data": {
      "text/plain": [
       "24960"
      ]
     },
     "execution_count": 76,
     "metadata": {},
     "output_type": "execute_result"
    },
    {
     "data": {
      "application/javascript": [
       "\n",
       "            setTimeout(function() {\n",
       "                var nbb_cell_id = 76;\n",
       "                var nbb_unformatted_code = \"result_df = pd.read_csv(\\\"Datawarehouse/results.csv\\\")\\nresult_df.to_sql(\\\"result\\\", conn, if_exists=\\\"replace\\\", index=False)\";\n",
       "                var nbb_formatted_code = \"result_df = pd.read_csv(\\\"Datawarehouse/results.csv\\\")\\nresult_df.to_sql(\\\"result\\\", conn, if_exists=\\\"replace\\\", index=False)\";\n",
       "                var nbb_cells = Jupyter.notebook.get_cells();\n",
       "                for (var i = 0; i < nbb_cells.length; ++i) {\n",
       "                    if (nbb_cells[i].input_prompt_number == nbb_cell_id) {\n",
       "                        if (nbb_cells[i].get_text() == nbb_unformatted_code) {\n",
       "                             nbb_cells[i].set_text(nbb_formatted_code);\n",
       "                        }\n",
       "                        break;\n",
       "                    }\n",
       "                }\n",
       "            }, 500);\n",
       "            "
      ],
      "text/plain": [
       "<IPython.core.display.Javascript object>"
      ]
     },
     "metadata": {},
     "output_type": "display_data"
    }
   ],
   "source": [
    "result_df = pd.read_csv(\"Datawarehouse/results.csv\")\n",
    "result_df.to_sql(\"result\", conn, if_exists=\"replace\", index=False)"
   ]
  },
  {
   "cell_type": "code",
   "execution_count": 77,
   "id": "6ba19607",
   "metadata": {},
   "outputs": [
    {
     "data": {
      "text/plain": [
       "8694"
      ]
     },
     "execution_count": 77,
     "metadata": {},
     "output_type": "execute_result"
    },
    {
     "data": {
      "application/javascript": [
       "\n",
       "            setTimeout(function() {\n",
       "                var nbb_cell_id = 77;\n",
       "                var nbb_unformatted_code = \"qualifying_df = pd.read_csv(\\\"Datawarehouse/qualifying.csv\\\")\\nqualifying_df.to_sql(\\\"qualifying\\\", conn, if_exists=\\\"replace\\\", index=False)\";\n",
       "                var nbb_formatted_code = \"qualifying_df = pd.read_csv(\\\"Datawarehouse/qualifying.csv\\\")\\nqualifying_df.to_sql(\\\"qualifying\\\", conn, if_exists=\\\"replace\\\", index=False)\";\n",
       "                var nbb_cells = Jupyter.notebook.get_cells();\n",
       "                for (var i = 0; i < nbb_cells.length; ++i) {\n",
       "                    if (nbb_cells[i].input_prompt_number == nbb_cell_id) {\n",
       "                        if (nbb_cells[i].get_text() == nbb_unformatted_code) {\n",
       "                             nbb_cells[i].set_text(nbb_formatted_code);\n",
       "                        }\n",
       "                        break;\n",
       "                    }\n",
       "                }\n",
       "            }, 500);\n",
       "            "
      ],
      "text/plain": [
       "<IPython.core.display.Javascript object>"
      ]
     },
     "metadata": {},
     "output_type": "display_data"
    }
   ],
   "source": [
    "qualifying_df = pd.read_csv(\"Datawarehouse/qualifying.csv\")\n",
    "qualifying_df.to_sql(\"qualifying\", conn, if_exists=\"replace\", index=False)"
   ]
  },
  {
   "cell_type": "code",
   "execution_count": 78,
   "id": "bda37eb1",
   "metadata": {},
   "outputs": [
    {
     "data": {
      "text/plain": [
       "490904"
      ]
     },
     "execution_count": 78,
     "metadata": {},
     "output_type": "execute_result"
    },
    {
     "data": {
      "application/javascript": [
       "\n",
       "            setTimeout(function() {\n",
       "                var nbb_cell_id = 78;\n",
       "                var nbb_unformatted_code = \"lab_time_df = pd.read_csv(\\\"Datawarehouse/lap_times.csv\\\")\\nlab_time_df.to_sql(\\\"labtimessplit\\\", conn, if_exists=\\\"replace\\\", index=False)\";\n",
       "                var nbb_formatted_code = \"lab_time_df = pd.read_csv(\\\"Datawarehouse/lap_times.csv\\\")\\nlab_time_df.to_sql(\\\"labtimessplit\\\", conn, if_exists=\\\"replace\\\", index=False)\";\n",
       "                var nbb_cells = Jupyter.notebook.get_cells();\n",
       "                for (var i = 0; i < nbb_cells.length; ++i) {\n",
       "                    if (nbb_cells[i].input_prompt_number == nbb_cell_id) {\n",
       "                        if (nbb_cells[i].get_text() == nbb_unformatted_code) {\n",
       "                             nbb_cells[i].set_text(nbb_formatted_code);\n",
       "                        }\n",
       "                        break;\n",
       "                    }\n",
       "                }\n",
       "            }, 500);\n",
       "            "
      ],
      "text/plain": [
       "<IPython.core.display.Javascript object>"
      ]
     },
     "metadata": {},
     "output_type": "display_data"
    }
   ],
   "source": [
    "lab_time_df = pd.read_csv(\"Datawarehouse/lap_times.csv\")\n",
    "lab_time_df.to_sql(\"labtimessplit\", conn, if_exists=\"replace\", index=False)"
   ]
  },
  {
   "cell_type": "code",
   "execution_count": null,
   "id": "7fe0b64f",
   "metadata": {},
   "outputs": [],
   "source": []
  }
 ],
 "metadata": {
  "kernelspec": {
   "display_name": "Python 3 (ipykernel)",
   "language": "python",
   "name": "python3"
  },
  "language_info": {
   "codemirror_mode": {
    "name": "ipython",
    "version": 3
   },
   "file_extension": ".py",
   "mimetype": "text/x-python",
   "name": "python",
   "nbconvert_exporter": "python",
   "pygments_lexer": "ipython3",
   "version": "3.8.10"
  }
 },
 "nbformat": 4,
 "nbformat_minor": 5
}
